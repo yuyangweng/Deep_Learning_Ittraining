{
  "nbformat": 4,
  "nbformat_minor": 0,
  "metadata": {
    "colab": {
      "name": "CNN網路模型原理與知名CNN網路模型_v0_2.ipynb",
      "provenance": [],
      "collapsed_sections": [],
      "include_colab_link": true
    },
    "kernelspec": {
      "name": "python3",
      "display_name": "Python 3"
    }
  },
  "cells": [
    {
      "cell_type": "markdown",
      "metadata": {
        "id": "view-in-github",
        "colab_type": "text"
      },
      "source": [
        "<a href=\"https://colab.research.google.com/github/yuyangweng/Deep_Learning_Ittraining/blob/main/CNN%E7%B6%B2%E8%B7%AF%E6%A8%A1%E5%9E%8B%E5%8E%9F%E7%90%86%E8%88%87%E7%9F%A5%E5%90%8DCNN%E7%B6%B2%E8%B7%AF%E6%A8%A1%E5%9E%8B_v0_2.ipynb\" target=\"_parent\"><img src=\"https://colab.research.google.com/assets/colab-badge.svg\" alt=\"Open In Colab\"/></a>"
      ]
    },
    {
      "cell_type": "markdown",
      "metadata": {
        "id": "k7nqFRggflsi"
      },
      "source": [
        "#用PIL自動產生一張有字的圖！"
      ]
    },
    {
      "cell_type": "code",
      "metadata": {
        "colab": {
          "base_uri": "https://localhost:8080/",
          "height": 272
        },
        "id": "vHK0uZRka3Yc",
        "outputId": "33286e90-ac6a-4959-d5a9-e9519dd70cdf"
      },
      "source": [
        "#產生一張255x255的全白的圖\n",
        "from PIL import Image\n",
        "img= Image.new('RGB', (255, 255), '#FFFFFF')\n",
        "#需要將產生的圖框起來就能發現圖的邊框！\n",
        "img"
      ],
      "execution_count": 63,
      "outputs": [
        {
          "output_type": "execute_result",
          "data": {
            "image/png": "[encoded data removed]",
            "text/plain": [
              "<PIL.Image.Image image mode=RGB size=255x255 at 0x7FEB3B8210D0>"
            ]
          },
          "metadata": {
            "tags": []
          },
          "execution_count": 63
        }
      ]
    },
    {
      "cell_type": "markdown",
      "metadata": {
        "id": "dID4HOrLkze6"
      },
      "source": [
        "#查看Colab可用的所有內建字型"
      ]
    },
    {
      "cell_type": "code",
      "metadata": {
        "colab": {
          "base_uri": "https://localhost:8080/"
        },
        "id": "irWQTfnveikp",
        "outputId": "46df1733-9a21-4ea7-8afc-61639e7595f3"
      },
      "source": [
        "#查看Colab可用的所有內建字型\n",
        "!ls /usr/local/lib/python3.7/dist-packages/matplotlib/mpl-data/fonts/ttf"
      ],
      "execution_count": 64,
      "outputs": [
        {
          "output_type": "stream",
          "text": [
            "cmb10.ttf\t\t\tDejaVuSerif.ttf\n",
            "cmex10.ttf\t\t\tLICENSE_DEJAVU\n",
            "cmmi10.ttf\t\t\tLICENSE_STIX\n",
            "cmr10.ttf\t\t\tSTIXGeneralBolIta.ttf\n",
            "cmss10.ttf\t\t\tSTIXGeneralBol.ttf\n",
            "cmsy10.ttf\t\t\tSTIXGeneralItalic.ttf\n",
            "cmtt10.ttf\t\t\tSTIXGeneral.ttf\n",
            "DejaVuSans-BoldOblique.ttf\tSTIXNonUniBolIta.ttf\n",
            "DejaVuSans-Bold.ttf\t\tSTIXNonUniBol.ttf\n",
            "DejaVuSansDisplay.ttf\t\tSTIXNonUniIta.ttf\n",
            "DejaVuSansMono-BoldOblique.ttf\tSTIXNonUni.ttf\n",
            "DejaVuSansMono-Bold.ttf\t\tSTIXSizFiveSymReg.ttf\n",
            "DejaVuSansMono-Oblique.ttf\tSTIXSizFourSymBol.ttf\n",
            "DejaVuSansMono.ttf\t\tSTIXSizFourSymReg.ttf\n",
            "DejaVuSans-Oblique.ttf\t\tSTIXSizOneSymBol.ttf\n",
            "DejaVuSans.ttf\t\t\tSTIXSizOneSymReg.ttf\n",
            "DejaVuSerif-BoldItalic.ttf\tSTIXSizThreeSymBol.ttf\n",
            "DejaVuSerif-Bold.ttf\t\tSTIXSizThreeSymReg.ttf\n",
            "DejaVuSerifDisplay.ttf\t\tSTIXSizTwoSymBol.ttf\n",
            "DejaVuSerif-Italic.ttf\t\tSTIXSizTwoSymReg.ttf\n"
          ],
          "name": "stdout"
        }
      ]
    },
    {
      "cell_type": "markdown",
      "metadata": {
        "id": "paT6CVQVk6Vc"
      },
      "source": [
        "#設定要使用的字型"
      ]
    },
    {
      "cell_type": "code",
      "metadata": {
        "colab": {
          "base_uri": "https://localhost:8080/"
        },
        "id": "5h-ggJIOQHKI",
        "outputId": "24623751-c3f7-4826-eebc-3ea8a289f045"
      },
      "source": [
        "from PIL import ImageFont\n",
        "fontsize = 35\n",
        "#font1 = ImageFont.truetype(\"/usr/local/lib/python3.6/dist-packages/matplotlib/mpl-data/fonts/ttf/cmb10.ttf\", fontsize)\n",
        "font1 = ImageFont.truetype(\"/usr/local/lib/python3.7/dist-packages/matplotlib/mpl-data/fonts/ttf/cmb10.ttf\", fontsize)\n",
        "font1"
      ],
      "execution_count": 65,
      "outputs": [
        {
          "output_type": "execute_result",
          "data": {
            "text/plain": [
              "<PIL.ImageFont.FreeTypeFont at 0x7feb3b821d90>"
            ]
          },
          "metadata": {
            "tags": []
          },
          "execution_count": 65
        }
      ]
    },
    {
      "cell_type": "markdown",
      "metadata": {
        "id": "NTLE3dWYlBQR"
      },
      "source": [
        "#在剛產生的圖上寫字"
      ]
    },
    {
      "cell_type": "code",
      "metadata": {
        "colab": {
          "base_uri": "https://localhost:8080/",
          "height": 272
        },
        "id": "OD3mltRbbsyG",
        "outputId": "3675cbe6-37a2-46c9-8e04-c9c3647582d7"
      },
      "source": [
        "#在剛產生的圖上寫字\n",
        "from PIL import ImageDraw\n",
        "d = ImageDraw. Draw(img)\n",
        "d. text((50,50), \"Hello Olivia\", fill=(255,0,0),font=font1)\n",
        "img"
      ],
      "execution_count": 66,
      "outputs": [
        {
          "output_type": "execute_result",
          "data": {
            "image/png": "[encoded data removed]",
            "text/plain": [
              "<PIL.Image.Image image mode=RGB size=255x255 at 0x7FEB3B8210D0>"
            ]
          },
          "metadata": {
            "tags": []
          },
          "execution_count": 66
        }
      ]
    },
    {
      "cell_type": "markdown",
      "metadata": {
        "id": "oehHHzZ0lDZp"
      },
      "source": [
        "#存成JPG圖檔"
      ]
    },
    {
      "cell_type": "code",
      "metadata": {
        "id": "VaLbCjfNkgat"
      },
      "source": [
        "img.save('hello.jpg')"
      ],
      "execution_count": 67,
      "outputs": []
    },
    {
      "cell_type": "markdown",
      "metadata": {
        "id": "owGVzBPllHQh"
      },
      "source": [
        "#查看剛剛存的JPG圖檔"
      ]
    },
    {
      "cell_type": "code",
      "metadata": {
        "colab": {
          "base_uri": "https://localhost:8080/",
          "height": 272
        },
        "id": "vcoErLZikfgL",
        "outputId": "49df83cf-7ace-452f-b5e9-3a470385eb72"
      },
      "source": [
        "img = Image.open('hello.jpg')\n",
        "img"
      ],
      "execution_count": 68,
      "outputs": [
        {
          "output_type": "execute_result",
          "data": {
            "image/png": "[encoded data removed]",
            "text/plain": [
              "<PIL.JpegImagePlugin.JpegImageFile image mode=RGB size=255x255 at 0x7FEB40326850>"
            ]
          },
          "metadata": {
            "tags": []
          },
          "execution_count": 68
        }
      ]
    },
    {
      "cell_type": "markdown",
      "metadata": {
        "id": "4EMxLnhPfqAY"
      },
      "source": [
        "#開始用Averaging filter處理該圖"
      ]
    },
    {
      "cell_type": "markdown",
      "metadata": {
        "id": "7o2Ty191pSUg"
      },
      "source": [
        "#將PIL圖檔轉CV2"
      ]
    },
    {
      "cell_type": "code",
      "metadata": {
        "colab": {
          "base_uri": "https://localhost:8080/",
          "height": 272
        },
        "id": "8unMnT4eg9D5",
        "outputId": "71fcde23-2474-4a2a-ddbf-076c3ccfca64"
      },
      "source": [
        "#將PIL圖檔轉CV2\n",
        "from PIL import Image\n",
        "import cv2\n",
        "import numpy as np\n",
        "#須注意將PIL圖轉為CV2的圖須將RGB對調\n",
        "#也就是將RGB變成BGR\n",
        "cv2_image = cv2.cvtColor(np.asarray(img),cv2.COLOR_RGB2BGR) \n",
        "#顯示CV2的圖\n",
        "from google.colab.patches import cv2_imshow\n",
        "cv2_imshow(cv2_image)"
      ],
      "execution_count": 69,
      "outputs": [
        {
          "output_type": "display_data",
          "data": {
            "image/png": "[encoded data removed]",
            "text/plain": [
              "<PIL.Image.Image image mode=RGB size=255x255 at 0x7FEB3B812DD0>"
            ]
          },
          "metadata": {
            "tags": []
          }
        }
      ]
    },
    {
      "cell_type": "markdown",
      "metadata": {
        "id": "K-9DHBKxlPbr"
      },
      "source": [
        "#建立第1種模糊法的kernel"
      ]
    },
    {
      "cell_type": "code",
      "metadata": {
        "colab": {
          "base_uri": "https://localhost:8080/"
        },
        "id": "K9hi0qMGeGb8",
        "outputId": "e7765239-91bd-47cd-ee9d-ddf07c4e3e06"
      },
      "source": [
        "#第1種模糊法\n",
        "import numpy as np\n",
        "kernel_averaging = np.ones((5,5),np.float32)/25\n",
        "kernel_averaging"
      ],
      "execution_count": 71,
      "outputs": [
        {
          "output_type": "execute_result",
          "data": {
            "text/plain": [
              "array([[0.04, 0.04, 0.04, 0.04, 0.04],\n",
              "       [0.04, 0.04, 0.04, 0.04, 0.04],\n",
              "       [0.04, 0.04, 0.04, 0.04, 0.04],\n",
              "       [0.04, 0.04, 0.04, 0.04, 0.04],\n",
              "       [0.04, 0.04, 0.04, 0.04, 0.04]], dtype=float32)"
            ]
          },
          "metadata": {
            "tags": []
          },
          "execution_count": 71
        }
      ]
    },
    {
      "cell_type": "markdown",
      "metadata": {
        "id": "hu4DnOrqlTLZ"
      },
      "source": [
        "#開始套用第1種模糊法"
      ]
    },
    {
      "cell_type": "code",
      "metadata": {
        "colab": {
          "base_uri": "https://localhost:8080/",
          "height": 216
        },
        "id": "q3KFA0c-f8D6",
        "outputId": "2b06bd75-87a0-4a18-a09a-17e20839ad71"
      },
      "source": [
        "#開始套用第1種模糊法\n",
        "dst = cv2.filter2D(cv2_image,-1,kernel_averaging)\n",
        "\n",
        "from matplotlib import pyplot as plt\n",
        "plt.subplot(121)\n",
        "plt.imshow(img)\n",
        "plt.title('Before apply Averaging filter')\n",
        "\n",
        "plt.subplot(122)\n",
        "#matplotlib要秀cv2的圖時仍需轉換\n",
        "plt.imshow(cv2.cvtColor(dst, cv2.COLOR_BGR2RGB))\n",
        "plt.title('After apply Averaging filter')\n",
        "plt.show()"
      ],
      "execution_count": 72,
      "outputs": [
        {
          "output_type": "display_data",
          "data": {
            "image/png": "[encoded data removed]",
            "text/plain": [
              "<Figure size 432x288 with 2 Axes>"
            ]
          },
          "metadata": {
            "tags": [],
            "needs_background": "light"
          }
        }
      ]
    },
    {
      "cell_type": "markdown",
      "metadata": {
        "id": "fdqli0jXlXVK"
      },
      "source": [
        "#建立並套用第2種模糊法"
      ]
    },
    {
      "cell_type": "code",
      "metadata": {
        "colab": {
          "base_uri": "https://localhost:8080/",
          "height": 216
        },
        "id": "VMYnz2G6g0vF",
        "outputId": "87c639d7-43f9-45c4-ab7c-c4f9a5080f4c"
      },
      "source": [
        "#第2種模糊法（此矩陣細節非本門課程範圍）\n",
        "kernel = np.array((\n",
        "        [0.0625, 0.125, 0.0625],\n",
        "        [0.125, 0.25, 0.125],\n",
        "        [0.0625, 0.125, 0.0625]), dtype=\"float32\")\n",
        "#開始套用第2種模糊法\n",
        "dst = cv2.filter2D(cv2_image,-1,kernel)\n",
        "\n",
        "from matplotlib import pyplot as plt\n",
        "plt.subplot(121)\n",
        "plt.imshow(img)\n",
        "plt.title('Before apply Averaging filter')\n",
        "\n",
        "plt.subplot(122)\n",
        "#matplotlib要秀cv2的圖時仍需轉換\n",
        "plt.imshow(cv2.cvtColor(dst, cv2.COLOR_BGR2RGB))\n",
        "plt.title('After apply Averaging filter')\n",
        "plt.show()"
      ],
      "execution_count": 73,
      "outputs": [
        {
          "output_type": "display_data",
          "data": {
            "image/png": "[encoded data removed]",
            "text/plain": [
              "<Figure size 432x288 with 2 Axes>"
            ]
          },
          "metadata": {
            "tags": [],
            "needs_background": "light"
          }
        }
      ]
    },
    {
      "cell_type": "markdown",
      "metadata": {
        "id": "pdA0yxjYnVu4"
      },
      "source": [
        "#開始用Laplacian filter處理該圖"
      ]
    },
    {
      "cell_type": "code",
      "metadata": {
        "colab": {
          "base_uri": "https://localhost:8080/",
          "height": 216
        },
        "id": "XaTFksjqjAzW",
        "outputId": "7588dcb5-f522-4ffb-b864-3284708e43e8"
      },
      "source": [
        "#Laplacian filter細節非本門課程範圍\n",
        "kernel = np.array((\n",
        "        [0, 1, 0],\n",
        "        [1, -4, 1],\n",
        "        [0, 1, 0]), dtype=\"int\")\n",
        "dst = cv2.filter2D(cv2_image,-1,kernel)\n",
        "\n",
        "from matplotlib import pyplot as plt\n",
        "plt.subplot(121)\n",
        "plt.imshow(img)\n",
        "plt.title('Before apply Averaging filter')\n",
        "\n",
        "plt.subplot(122)\n",
        "#matplotlib要秀cv2的圖時仍需轉換\n",
        "plt.imshow(cv2.cvtColor(dst, cv2.COLOR_BGR2RGB))\n",
        "plt.title('After apply Averaging filter')\n",
        "plt.show()"
      ],
      "execution_count": 74,
      "outputs": [
        {
          "output_type": "display_data",
          "data": {
            "image/png": "[encoded data removed]",
            "text/plain": [
              "<Figure size 432x288 with 2 Axes>"
            ]
          },
          "metadata": {
            "tags": [],
            "needs_background": "light"
          }
        }
      ]
    },
    {
      "cell_type": "code",
      "metadata": {
        "colab": {
          "base_uri": "https://localhost:8080/"
        },
        "id": "sMB9r2WQmCxA",
        "outputId": "543f3c33-0dca-48a7-c999-f029f71b2962"
      },
      "source": [
        "#須注意用CV2的Convolution會自動Padding\n",
        "#因此圖檔並不會縮小\n",
        "height, width = dst.shape[:2]\n",
        "print(f'height={height}')\n",
        "print(f'width={width}')"
      ],
      "execution_count": 84,
      "outputs": [
        {
          "output_type": "stream",
          "text": [
            "height=255\n",
            "width=255\n"
          ],
          "name": "stdout"
        }
      ]
    },
    {
      "cell_type": "markdown",
      "metadata": {
        "id": "dGwo8E-nqHKm"
      },
      "source": [
        "#使用沒有Padding的Convolution運算（會發現圖檔變小）"
      ]
    },
    {
      "cell_type": "code",
      "metadata": {
        "colab": {
          "base_uri": "https://localhost:8080/"
        },
        "id": "Y-ES4NqOrFTU",
        "outputId": "581e1de1-53b4-44e3-b2e0-4646aaa6918e"
      },
      "source": [
        "arr1 = np.ones((7,7))\n",
        "arr1"
      ],
      "execution_count": 85,
      "outputs": [
        {
          "output_type": "execute_result",
          "data": {
            "text/plain": [
              "array([[1., 1., 1., 1., 1., 1., 1.],\n",
              "       [1., 1., 1., 1., 1., 1., 1.],\n",
              "       [1., 1., 1., 1., 1., 1., 1.],\n",
              "       [1., 1., 1., 1., 1., 1., 1.],\n",
              "       [1., 1., 1., 1., 1., 1., 1.],\n",
              "       [1., 1., 1., 1., 1., 1., 1.],\n",
              "       [1., 1., 1., 1., 1., 1., 1.]])"
            ]
          },
          "metadata": {
            "tags": []
          },
          "execution_count": 85
        }
      ]
    },
    {
      "cell_type": "code",
      "metadata": {
        "colab": {
          "base_uri": "https://localhost:8080/"
        },
        "id": "uT-FhnpNqNEI",
        "outputId": "8e280687-ba27-4b46-a55b-abbb366f9cde"
      },
      "source": [
        "#建立簡易的kernel（用線性代數的I矩陣）\n",
        "kernel_identity = np.identity(3)\n",
        "kernel_identity"
      ],
      "execution_count": 86,
      "outputs": [
        {
          "output_type": "execute_result",
          "data": {
            "text/plain": [
              "array([[1., 0., 0.],\n",
              "       [0., 1., 0.],\n",
              "       [0., 0., 1.]])"
            ]
          },
          "metadata": {
            "tags": []
          },
          "execution_count": 86
        }
      ]
    },
    {
      "cell_type": "code",
      "metadata": {
        "colab": {
          "base_uri": "https://localhost:8080/"
        },
        "id": "ycBPnlF8qmqG",
        "outputId": "0806394d-98e4-4f74-d86e-dcefbd94a0a9"
      },
      "source": [
        "from scipy.signal import convolve2d\n",
        "valid_result1 = convolve2d(arr1, kernel_identity, mode='valid')\n",
        "valid_result1"
      ],
      "execution_count": 87,
      "outputs": [
        {
          "output_type": "execute_result",
          "data": {
            "text/plain": [
              "array([[3., 3., 3., 3., 3.],\n",
              "       [3., 3., 3., 3., 3.],\n",
              "       [3., 3., 3., 3., 3.],\n",
              "       [3., 3., 3., 3., 3.],\n",
              "       [3., 3., 3., 3., 3.]])"
            ]
          },
          "metadata": {
            "tags": []
          },
          "execution_count": 87
        }
      ]
    },
    {
      "cell_type": "markdown",
      "metadata": {
        "id": "IPQHHEDQsIM0"
      },
      "source": [
        "#使用沒有Padding的Convolution運算（較複雜的範例）"
      ]
    },
    {
      "cell_type": "code",
      "metadata": {
        "colab": {
          "base_uri": "https://localhost:8080/"
        },
        "id": "quw2uF6Aq25m",
        "outputId": "095bb7b9-1f15-43fe-b72b-30f434d03614"
      },
      "source": [
        "arr2 = np.reshape(np.arange(25), (5,5)).astype(np.float32)\n",
        "arr2"
      ],
      "execution_count": 88,
      "outputs": [
        {
          "output_type": "execute_result",
          "data": {
            "text/plain": [
              "array([[ 0.,  1.,  2.,  3.,  4.],\n",
              "       [ 5.,  6.,  7.,  8.,  9.],\n",
              "       [10., 11., 12., 13., 14.],\n",
              "       [15., 16., 17., 18., 19.],\n",
              "       [20., 21., 22., 23., 24.]], dtype=float32)"
            ]
          },
          "metadata": {
            "tags": []
          },
          "execution_count": 88
        }
      ]
    },
    {
      "cell_type": "code",
      "metadata": {
        "colab": {
          "base_uri": "https://localhost:8080/"
        },
        "id": "wRWjL8-psRot",
        "outputId": "ac3d7883-1d0c-408f-b08c-9c0e7423f62b"
      },
      "source": [
        "kernel_identity"
      ],
      "execution_count": 89,
      "outputs": [
        {
          "output_type": "execute_result",
          "data": {
            "text/plain": [
              "array([[1., 0., 0.],\n",
              "       [0., 1., 0.],\n",
              "       [0., 0., 1.]])"
            ]
          },
          "metadata": {
            "tags": []
          },
          "execution_count": 89
        }
      ]
    },
    {
      "cell_type": "code",
      "metadata": {
        "colab": {
          "base_uri": "https://localhost:8080/"
        },
        "id": "JAkNTA0IsT11",
        "outputId": "95d59273-86ef-4340-e812-1601cba31d8f"
      },
      "source": [
        "valid_result2 = convolve2d(arr2, kernel_identity, mode='valid')\n",
        "valid_result2"
      ],
      "execution_count": 90,
      "outputs": [
        {
          "output_type": "execute_result",
          "data": {
            "text/plain": [
              "array([[18., 21., 24.],\n",
              "       [33., 36., 39.],\n",
              "       [48., 51., 54.]])"
            ]
          },
          "metadata": {
            "tags": []
          },
          "execution_count": 90
        }
      ]
    },
    {
      "cell_type": "markdown",
      "metadata": {
        "id": "H4LXq8NOuWYW"
      },
      "source": [
        "\n",
        "\n",
        "---\n",
        "\n"
      ]
    },
    {
      "cell_type": "markdown",
      "metadata": {
        "id": "8HIwRQE53wZD"
      },
      "source": [
        "#使用Keras做Zero-Padding"
      ]
    },
    {
      "cell_type": "code",
      "metadata": {
        "colab": {
          "base_uri": "https://localhost:8080/"
        },
        "id": "cZl2eXwm3zfq",
        "outputId": "843b9386-db5c-49fc-bff9-843360c0260e"
      },
      "source": [
        "from tensorflow.keras.layers import Input\n",
        "from tensorflow.keras.layers import ZeroPadding2D\n",
        "\n",
        "input_shape = (28,28,3)\n",
        "input1 = Input(shape=input_shape)\n",
        "#每一邊各補3個pixel，左右二側共補6個pixel\n",
        "padding1 = ZeroPadding2D((3, 3))(input1)\n",
        "\n",
        "print(f'input1={input1}')\n",
        "print(f'padding1={padding1}')"
      ],
      "execution_count": 91,
      "outputs": [
        {
          "output_type": "stream",
          "text": [
            "input1=KerasTensor(type_spec=TensorSpec(shape=(None, 28, 28, 3), dtype=tf.float32, name='input_3'), name='input_3', description=\"created by layer 'input_3'\")\n",
            "padding1=KerasTensor(type_spec=TensorSpec(shape=(None, 34, 34, 3), dtype=tf.float32, name=None), name='zero_padding2d_2/Pad:0', description=\"created by layer 'zero_padding2d_2'\")\n"
          ],
          "name": "stdout"
        }
      ]
    },
    {
      "cell_type": "markdown",
      "metadata": {
        "id": "nSXs4CGOufZG"
      },
      "source": [
        "#Pooling"
      ]
    },
    {
      "cell_type": "markdown",
      "metadata": {
        "id": "UQoIPVg060lU"
      },
      "source": [
        "##Max Pooling"
      ]
    },
    {
      "cell_type": "code",
      "metadata": {
        "colab": {
          "base_uri": "https://localhost:8080/"
        },
        "id": "h_cNXAJasXPt",
        "outputId": "ecf91d82-ccee-4f63-cbfc-924a389e599b"
      },
      "source": [
        "import numpy as np\n",
        "arr1 = np.arange(4*4).reshape(4, 4)\n",
        "arr1"
      ],
      "execution_count": 92,
      "outputs": [
        {
          "output_type": "execute_result",
          "data": {
            "text/plain": [
              "array([[ 0,  1,  2,  3],\n",
              "       [ 4,  5,  6,  7],\n",
              "       [ 8,  9, 10, 11],\n",
              "       [12, 13, 14, 15]])"
            ]
          },
          "metadata": {
            "tags": []
          },
          "execution_count": 92
        }
      ]
    },
    {
      "cell_type": "code",
      "metadata": {
        "colab": {
          "base_uri": "https://localhost:8080/"
        },
        "id": "mpAuchfz6-lr",
        "outputId": "6b3bdc63-1fc1-4b4f-ebc1-cc5b5ed7827b"
      },
      "source": [
        "from skimage.measure import block_reduce\n",
        "max_pooling1 = block_reduce(arr1, block_size=(2, 2), func=np.max)\n",
        "max_pooling1"
      ],
      "execution_count": 93,
      "outputs": [
        {
          "output_type": "execute_result",
          "data": {
            "text/plain": [
              "array([[ 5,  7],\n",
              "       [13, 15]])"
            ]
          },
          "metadata": {
            "tags": []
          },
          "execution_count": 93
        }
      ]
    },
    {
      "cell_type": "markdown",
      "metadata": {
        "id": "WGZaN5Y_8EFq"
      },
      "source": [
        "##Average Pooling"
      ]
    },
    {
      "cell_type": "code",
      "metadata": {
        "colab": {
          "base_uri": "https://localhost:8080/"
        },
        "id": "phWcl4Ti7XnD",
        "outputId": "5c1ff6cc-ac60-447c-a871-7d618a69a0e5"
      },
      "source": [
        "arr1"
      ],
      "execution_count": 94,
      "outputs": [
        {
          "output_type": "execute_result",
          "data": {
            "text/plain": [
              "array([[ 0,  1,  2,  3],\n",
              "       [ 4,  5,  6,  7],\n",
              "       [ 8,  9, 10, 11],\n",
              "       [12, 13, 14, 15]])"
            ]
          },
          "metadata": {
            "tags": []
          },
          "execution_count": 94
        }
      ]
    },
    {
      "cell_type": "code",
      "metadata": {
        "colab": {
          "base_uri": "https://localhost:8080/"
        },
        "id": "Bt56gaQo8Hdy",
        "outputId": "c9d90aec-9de2-4a76-8dd0-71869529c16a"
      },
      "source": [
        "from skimage.measure import block_reduce\n",
        "average_pooling1 = block_reduce(arr1, block_size=(2, 2), func=np.average)\n",
        "average_pooling1"
      ],
      "execution_count": 95,
      "outputs": [
        {
          "output_type": "execute_result",
          "data": {
            "text/plain": [
              "array([[ 2.5,  4.5],\n",
              "       [10.5, 12.5]])"
            ]
          },
          "metadata": {
            "tags": []
          },
          "execution_count": 95
        }
      ]
    },
    {
      "cell_type": "markdown",
      "metadata": {
        "id": "rYqjo3JUupOd"
      },
      "source": [
        "\n",
        "\n",
        "---\n",
        "\n"
      ]
    },
    {
      "cell_type": "markdown",
      "metadata": {
        "id": "FyVRIl0v3UyO"
      },
      "source": [
        "#彩色圖使用沒有Padding的Convolution運算（較複雜的範例）"
      ]
    },
    {
      "cell_type": "code",
      "metadata": {
        "colab": {
          "base_uri": "https://localhost:8080/"
        },
        "id": "r40IlmGu3UyO",
        "outputId": "2c565c57-29b5-4279-8d54-f56c4734e8e9"
      },
      "source": [
        "import numpy as np\n",
        "#須注意numpy與keras不同，channel是寫在前面\n",
        "color_arr1 = np.reshape(np.arange(3*5*5), (3,5,5)).astype(np.float32)\n",
        "print(f'color_arr1={color_arr1}')\n",
        "print(f'color_arr1.shape={color_arr1.shape}')"
      ],
      "execution_count": 96,
      "outputs": [
        {
          "output_type": "stream",
          "text": [
            "color_arr1=[[[ 0.  1.  2.  3.  4.]\n",
            "  [ 5.  6.  7.  8.  9.]\n",
            "  [10. 11. 12. 13. 14.]\n",
            "  [15. 16. 17. 18. 19.]\n",
            "  [20. 21. 22. 23. 24.]]\n",
            "\n",
            " [[25. 26. 27. 28. 29.]\n",
            "  [30. 31. 32. 33. 34.]\n",
            "  [35. 36. 37. 38. 39.]\n",
            "  [40. 41. 42. 43. 44.]\n",
            "  [45. 46. 47. 48. 49.]]\n",
            "\n",
            " [[50. 51. 52. 53. 54.]\n",
            "  [55. 56. 57. 58. 59.]\n",
            "  [60. 61. 62. 63. 64.]\n",
            "  [65. 66. 67. 68. 69.]\n",
            "  [70. 71. 72. 73. 74.]]]\n",
            "color_arr1.shape=(3, 5, 5)\n"
          ],
          "name": "stdout"
        }
      ]
    },
    {
      "cell_type": "code",
      "metadata": {
        "colab": {
          "base_uri": "https://localhost:8080/"
        },
        "id": "QqDamRmc3UyP",
        "outputId": "70e13c35-728a-4607-b01e-3e7478aa8f96"
      },
      "source": [
        "kernel_identity1 = np.identity(3)\n",
        "kernel_identity2 = 2*np.identity(3)\n",
        "kernel_identity3 = 3*np.identity(3)\n",
        "#把前面三個kernel合成一個list\n",
        "kernel_identity=np.array([kernel_identity1,kernel_identity2,kernel_identity3])\n",
        "print(f'kernel_identity={kernel_identity}')\n",
        "print(f'kernel_identity.shape={kernel_identity.shape}')"
      ],
      "execution_count": 26,
      "outputs": [
        {
          "output_type": "stream",
          "text": [
            "kernel_identity=[[[1. 0. 0.]\n",
            "  [0. 1. 0.]\n",
            "  [0. 0. 1.]]\n",
            "\n",
            " [[2. 0. 0.]\n",
            "  [0. 2. 0.]\n",
            "  [0. 0. 2.]]\n",
            "\n",
            " [[3. 0. 0.]\n",
            "  [0. 3. 0.]\n",
            "  [0. 0. 3.]]]\n",
            "kernel_identity.shape=(3, 3, 3)\n"
          ],
          "name": "stdout"
        }
      ]
    },
    {
      "cell_type": "code",
      "metadata": {
        "colab": {
          "base_uri": "https://localhost:8080/"
        },
        "id": "ywc4k0hG3UyP",
        "outputId": "bbc627a3-840b-412b-fad4-b46f34825046"
      },
      "source": [
        "from scipy.signal import convolve2d\n",
        "color_valid_result0 = convolve2d(color_arr1[0], kernel_identity[0], mode='valid')\n",
        "color_valid_result1 = convolve2d(color_arr1[1], kernel_identity[1], mode='valid')\n",
        "color_valid_result2 = convolve2d(color_arr1[2], kernel_identity[2], mode='valid')\n",
        "\n",
        "print(f'color_valid_result0={color_valid_result0}')\n",
        "print(f'color_valid_result1={color_valid_result1}')\n",
        "print(f'color_valid_result2={color_valid_result2}')"
      ],
      "execution_count": 27,
      "outputs": [
        {
          "output_type": "stream",
          "text": [
            "color_valid_result0=[[18. 21. 24.]\n",
            " [33. 36. 39.]\n",
            " [48. 51. 54.]]\n",
            "color_valid_result1=[[186. 192. 198.]\n",
            " [216. 222. 228.]\n",
            " [246. 252. 258.]]\n",
            "color_valid_result2=[[504. 513. 522.]\n",
            " [549. 558. 567.]\n",
            " [594. 603. 612.]]\n"
          ],
          "name": "stdout"
        }
      ]
    },
    {
      "cell_type": "code",
      "metadata": {
        "id": "tTzAKX9vGk8p",
        "colab": {
          "base_uri": "https://localhost:8080/"
        },
        "outputId": "44db5594-4604-4ce0-cf7a-2f653ede699f"
      },
      "source": [
        "#將上述三個計算結果全都相加即可\n",
        "final_color_feature_map = color_valid_result0+color_valid_result1+color_valid_result2\n",
        "#由最終結果可以看出一個kernel就會有一張feature map（無論是黑白或是彩色圖皆相同）\n",
        "final_color_feature_map"
      ],
      "execution_count": 28,
      "outputs": [
        {
          "output_type": "execute_result",
          "data": {
            "text/plain": [
              "array([[708., 726., 744.],\n",
              "       [798., 816., 834.],\n",
              "       [888., 906., 924.]])"
            ]
          },
          "metadata": {
            "tags": []
          },
          "execution_count": 28
        }
      ]
    },
    {
      "cell_type": "markdown",
      "metadata": {
        "id": "YH0muR65ERSC"
      },
      "source": [
        "\n",
        "\n",
        "---\n",
        "\n"
      ]
    },
    {
      "cell_type": "markdown",
      "metadata": {
        "id": "e6FF0rSW_1DV"
      },
      "source": [
        "#反卷積（Deconvolution）"
      ]
    },
    {
      "cell_type": "markdown",
      "metadata": {
        "id": "MlJ5W6ttmpzg"
      },
      "source": [
        "##手動用zero padding補0"
      ]
    },
    {
      "cell_type": "code",
      "metadata": {
        "colab": {
          "base_uri": "https://localhost:8080/"
        },
        "id": "_gCY3ip85PsK",
        "outputId": "422ca49e-4c4d-4a87-c353-dfe29a04c553"
      },
      "source": [
        "color_valid_result0"
      ],
      "execution_count": 97,
      "outputs": [
        {
          "output_type": "execute_result",
          "data": {
            "text/plain": [
              "array([[18., 21., 24.],\n",
              "       [33., 36., 39.],\n",
              "       [48., 51., 54.]])"
            ]
          },
          "metadata": {
            "tags": []
          },
          "execution_count": 97
        }
      ]
    },
    {
      "cell_type": "code",
      "metadata": {
        "colab": {
          "base_uri": "https://localhost:8080/"
        },
        "id": "w20vwXsqAI83",
        "outputId": "7eee3311-622d-449f-cfef-616689ae04c6"
      },
      "source": [
        "kernel_identity1"
      ],
      "execution_count": 98,
      "outputs": [
        {
          "output_type": "execute_result",
          "data": {
            "text/plain": [
              "array([[1., 0., 0.],\n",
              "       [0., 1., 0.],\n",
              "       [0., 0., 1.]])"
            ]
          },
          "metadata": {
            "tags": []
          },
          "execution_count": 98
        }
      ]
    },
    {
      "cell_type": "code",
      "metadata": {
        "colab": {
          "base_uri": "https://localhost:8080/"
        },
        "id": "t0xwj6dRFOB5",
        "outputId": "7f6e4333-3ce0-4bd9-82ae-e22a9004f01f"
      },
      "source": [
        "#先手動用zero padding補0，之後再用scipy工具驗證結果是否相同\n",
        "color_valid_result0_with_zero_padding = np.array(\n",
        "  (\n",
        "    [0, 0, 0, 0, 0, 0, 0],\n",
        "    [0, 0, 0, 0, 0, 0, 0],\n",
        "    [0, 0, 18,21,24, 0, 0],\n",
        "    [0, 0, 33,36,39, 0, 0],\n",
        "    [0, 0, 48,51,54, 0, 0],\n",
        "    [0, 0, 0, 0, 0, 0, 0],\n",
        "    [0, 0, 0, 0, 0, 0, 0],\n",
        "  ),\n",
        "  dtype=\"int\"\n",
        ")\n",
        "color_valid_result0_with_zero_padding"
      ],
      "execution_count": 99,
      "outputs": [
        {
          "output_type": "execute_result",
          "data": {
            "text/plain": [
              "array([[ 0,  0,  0,  0,  0,  0,  0],\n",
              "       [ 0,  0,  0,  0,  0,  0,  0],\n",
              "       [ 0,  0, 18, 21, 24,  0,  0],\n",
              "       [ 0,  0, 33, 36, 39,  0,  0],\n",
              "       [ 0,  0, 48, 51, 54,  0,  0],\n",
              "       [ 0,  0,  0,  0,  0,  0,  0],\n",
              "       [ 0,  0,  0,  0,  0,  0,  0]])"
            ]
          },
          "metadata": {
            "tags": []
          },
          "execution_count": 99
        }
      ]
    },
    {
      "cell_type": "code",
      "metadata": {
        "colab": {
          "base_uri": "https://localhost:8080/"
        },
        "id": "aWAnOrd6C5-6",
        "outputId": "aba2e338-a220-4a01-b305-7917ce0c486d"
      },
      "source": [
        "from scipy import signal\n",
        "tmp = signal.convolve(kernel_identity1, color_valid_result0_with_zero_padding,mode='valid')\n",
        "tmp"
      ],
      "execution_count": 100,
      "outputs": [
        {
          "output_type": "execute_result",
          "data": {
            "text/plain": [
              "array([[ 18.,  21.,  24.,   0.,   0.],\n",
              "       [ 33.,  54.,  60.,  24.,   0.],\n",
              "       [ 48.,  84., 108.,  60.,  24.],\n",
              "       [  0.,  48.,  84.,  90.,  39.],\n",
              "       [  0.,   0.,  48.,  51.,  54.]])"
            ]
          },
          "metadata": {
            "tags": []
          },
          "execution_count": 100
        }
      ]
    },
    {
      "cell_type": "markdown",
      "metadata": {
        "id": "qAHBHb_2nBuf"
      },
      "source": [
        "##用scipy實現上述過程（不用親自手動補padding）"
      ]
    },
    {
      "cell_type": "code",
      "metadata": {
        "colab": {
          "base_uri": "https://localhost:8080/"
        },
        "id": "qqk-Ntk5AP-e",
        "outputId": "b46f6937-36bd-4f76-a83a-65f0aa1c3df7"
      },
      "source": [
        "#用scipy實現上述過程（不用親自手動補padding）\n",
        "from scipy import signal\n",
        "#須注意此刻不使用mode='valid'，否則只會輸出單一常數\n",
        "deconv1 = signal.convolve(kernel_identity1, color_valid_result0)\n",
        "deconv1"
      ],
      "execution_count": 33,
      "outputs": [
        {
          "output_type": "execute_result",
          "data": {
            "text/plain": [
              "array([[ 18.,  21.,  24.,   0.,   0.],\n",
              "       [ 33.,  54.,  60.,  24.,   0.],\n",
              "       [ 48.,  84., 108.,  60.,  24.],\n",
              "       [  0.,  48.,  84.,  90.,  39.],\n",
              "       [  0.,   0.,  48.,  51.,  54.]])"
            ]
          },
          "metadata": {
            "tags": []
          },
          "execution_count": 33
        }
      ]
    },
    {
      "cell_type": "markdown",
      "metadata": {
        "id": "0aQOiV-cutpQ"
      },
      "source": [
        "\n",
        "\n",
        "---\n",
        "\n"
      ]
    },
    {
      "cell_type": "markdown",
      "metadata": {
        "id": "BybISYOzOs_W"
      },
      "source": [
        "#VGG的Conv標準化（驗證2次3x3後的大小=1次5x5）"
      ]
    },
    {
      "cell_type": "markdown",
      "metadata": {
        "id": "DnJ1ynx2n0Vn"
      },
      "source": [
        "#建立7x7大小的矩陣"
      ]
    },
    {
      "cell_type": "code",
      "metadata": {
        "colab": {
          "base_uri": "https://localhost:8080/"
        },
        "id": "sVWcy1PgAhGe",
        "outputId": "012c78db-02c6-48cb-daf9-94b2343c0f1d"
      },
      "source": [
        "color_valid_result0_with_zero_padding = np.array(\n",
        "  (\n",
        "    [0, 0, 0, 0, 0, 0, 0],\n",
        "    [0, 0, 0, 0, 0, 0, 0],\n",
        "    [0, 0, 18,21,24, 0, 0],\n",
        "    [0, 0, 33,36,39, 0, 0],\n",
        "    [0, 0, 48,51,54, 0, 0],\n",
        "    [0, 0, 0, 0, 0, 0, 0],\n",
        "    [0, 0, 0, 0, 0, 0, 0],\n",
        "  ),\n",
        "  dtype=\"int\"\n",
        ")\n",
        "color_valid_result0_with_zero_padding"
      ],
      "execution_count": 34,
      "outputs": [
        {
          "output_type": "execute_result",
          "data": {
            "text/plain": [
              "array([[ 0,  0,  0,  0,  0,  0,  0],\n",
              "       [ 0,  0,  0,  0,  0,  0,  0],\n",
              "       [ 0,  0, 18, 21, 24,  0,  0],\n",
              "       [ 0,  0, 33, 36, 39,  0,  0],\n",
              "       [ 0,  0, 48, 51, 54,  0,  0],\n",
              "       [ 0,  0,  0,  0,  0,  0,  0],\n",
              "       [ 0,  0,  0,  0,  0,  0,  0]])"
            ]
          },
          "metadata": {
            "tags": []
          },
          "execution_count": 34
        }
      ]
    },
    {
      "cell_type": "markdown",
      "metadata": {
        "id": "6PhSrmsIn9wn"
      },
      "source": [
        "#建立3x3 kernel後開始進行驗證"
      ]
    },
    {
      "cell_type": "code",
      "metadata": {
        "colab": {
          "base_uri": "https://localhost:8080/"
        },
        "id": "kFlmRCD_Oz6Q",
        "outputId": "f89dec09-49bb-42a7-f349-7e4c38c8fe6a"
      },
      "source": [
        "kernel_identity1"
      ],
      "execution_count": 35,
      "outputs": [
        {
          "output_type": "execute_result",
          "data": {
            "text/plain": [
              "array([[1., 0., 0.],\n",
              "       [0., 1., 0.],\n",
              "       [0., 0., 1.]])"
            ]
          },
          "metadata": {
            "tags": []
          },
          "execution_count": 35
        }
      ]
    },
    {
      "cell_type": "code",
      "metadata": {
        "colab": {
          "base_uri": "https://localhost:8080/"
        },
        "id": "8fDogZFcPRIP",
        "outputId": "2059633e-1ce6-4211-9711-590f88804561"
      },
      "source": [
        "deconv1 = signal.convolve(kernel_identity1, color_valid_result0_with_zero_padding,mode='valid')\n",
        "deconv1"
      ],
      "execution_count": 36,
      "outputs": [
        {
          "output_type": "execute_result",
          "data": {
            "text/plain": [
              "array([[ 18.,  21.,  24.,   0.,   0.],\n",
              "       [ 33.,  54.,  60.,  24.,   0.],\n",
              "       [ 48.,  84., 108.,  60.,  24.],\n",
              "       [  0.,  48.,  84.,  90.,  39.],\n",
              "       [  0.,   0.,  48.,  51.,  54.]])"
            ]
          },
          "metadata": {
            "tags": []
          },
          "execution_count": 36
        }
      ]
    },
    {
      "cell_type": "code",
      "metadata": {
        "colab": {
          "base_uri": "https://localhost:8080/"
        },
        "id": "xhK3X3G3PXF_",
        "outputId": "52e680cd-74ba-48a5-a4cb-d67f79712dd1"
      },
      "source": [
        "deconv2 = signal.convolve(kernel_identity1, deconv1,mode='valid')\n",
        "deconv2"
      ],
      "execution_count": 37,
      "outputs": [
        {
          "output_type": "execute_result",
          "data": {
            "text/plain": [
              "array([[180., 141.,  72.],\n",
              "       [201., 252., 159.],\n",
              "       [144., 219., 252.]])"
            ]
          },
          "metadata": {
            "tags": []
          },
          "execution_count": 37
        }
      ]
    },
    {
      "cell_type": "markdown",
      "metadata": {
        "id": "c0dXJVyQvBch"
      },
      "source": [
        "\n",
        "\n",
        "---\n",
        "\n"
      ]
    },
    {
      "cell_type": "markdown",
      "metadata": {
        "id": "AklMOHkzYVcq"
      },
      "source": [
        "#UpSampling2D"
      ]
    },
    {
      "cell_type": "markdown",
      "metadata": {
        "id": "3CE5qkwaoHAf"
      },
      "source": [
        "#手動呼叫UpSampling2D Layer"
      ]
    },
    {
      "cell_type": "code",
      "metadata": {
        "colab": {
          "base_uri": "https://localhost:8080/"
        },
        "id": "vGxGL6lEZ-_i",
        "outputId": "5d96d8fc-f80b-40b6-8561-ac5b15ca43f2"
      },
      "source": [
        "import numpy as np\n",
        "arr1 = np.array(\n",
        "  [\n",
        "   [1,2,3],\n",
        "   [4,5,6],\n",
        "   [7,8,9],\n",
        "  ]\n",
        ")\n",
        "arr1"
      ],
      "execution_count": 101,
      "outputs": [
        {
          "output_type": "execute_result",
          "data": {
            "text/plain": [
              "array([[1, 2, 3],\n",
              "       [4, 5, 6],\n",
              "       [7, 8, 9]])"
            ]
          },
          "metadata": {
            "tags": []
          },
          "execution_count": 101
        }
      ]
    },
    {
      "cell_type": "code",
      "metadata": {
        "colab": {
          "base_uri": "https://localhost:8080/"
        },
        "id": "8AE5mZzPXTkz",
        "outputId": "a029bf33-53ed-4190-8605-7b11d8a44abe"
      },
      "source": [
        "x = arr1.reshape(1,3,3,1)\n",
        "from keras.layers import UpSampling2D\n",
        "#輸出y將是EagerTensor型態\n",
        "y = UpSampling2D(size=(3, 3))(x)\n",
        "print(f'y.shape={y.shape}')\n",
        "\n",
        "#將EagerTensor型態轉為numpy後又轉為2維矩陣才能方便查看\n",
        "y = y.numpy().reshape(9,9)\n",
        "#會發現一個數字重複了4次！\n",
        "print(f'y={y}')"
      ],
      "execution_count": 103,
      "outputs": [
        {
          "output_type": "stream",
          "text": [
            "y.shape=(1, 9, 9, 1)\n",
            "y=[[1 1 1 2 2 2 3 3 3]\n",
            " [1 1 1 2 2 2 3 3 3]\n",
            " [1 1 1 2 2 2 3 3 3]\n",
            " [4 4 4 5 5 5 6 6 6]\n",
            " [4 4 4 5 5 5 6 6 6]\n",
            " [4 4 4 5 5 5 6 6 6]\n",
            " [7 7 7 8 8 8 9 9 9]\n",
            " [7 7 7 8 8 8 9 9 9]\n",
            " [7 7 7 8 8 8 9 9 9]]\n"
          ],
          "name": "stdout"
        }
      ]
    },
    {
      "cell_type": "markdown",
      "metadata": {
        "id": "NtJ8JWWyoOxh"
      },
      "source": [
        "#使用Keras模型來呼叫UpSampling2D Layer"
      ]
    },
    {
      "cell_type": "code",
      "metadata": {
        "colab": {
          "base_uri": "https://localhost:8080/"
        },
        "id": "dOm2eHj1P0-P",
        "outputId": "474138c3-e320-4a90-f74a-590a29e1a3a1"
      },
      "source": [
        "#載入mnist Dataset的某張圖來測試\n",
        "from tensorflow.keras.datasets import mnist\n",
        "(X_train, y_train), (X_test, y_test) = mnist.load_data()\n",
        "print(f'X_train[0].shape={X_train[0].shape}')\n",
        "\n",
        "from tensorflow.keras.layers import UpSampling2D\n",
        "x = X_train[0].reshape(1,28,28,1)\n",
        "y = UpSampling2D(size=(2, 2))(x)\n",
        "print(f'y.shape={y.shape}')\n"
      ],
      "execution_count": 104,
      "outputs": [
        {
          "output_type": "stream",
          "text": [
            "X_train[0].shape=(28, 28)\n",
            "y.shape=(1, 56, 56, 1)\n"
          ],
          "name": "stdout"
        }
      ]
    },
    {
      "cell_type": "markdown",
      "metadata": {
        "id": "k0BxGvK4vEoy"
      },
      "source": [
        "\n",
        "\n",
        "---\n",
        "\n"
      ]
    },
    {
      "cell_type": "markdown",
      "metadata": {
        "id": "IBKHjnrdfAhz"
      },
      "source": [
        "#Softmax"
      ]
    },
    {
      "cell_type": "code",
      "metadata": {
        "colab": {
          "base_uri": "https://localhost:8080/"
        },
        "id": "DJiovr7UfEOa",
        "outputId": "468f49ba-f5aa-482b-c004-09df997f1bbb"
      },
      "source": [
        "#此array必須是float，否則會出錯：\n",
        "#InvalidArgumentError: Value for attr 'T' of int64 is not in the list of allowed values: half, bfloat16, float, double\n",
        "#\t; NodeDef: {{node Softmax}}; Op<name=Softmax; signature=logits:T -> softmax:T; attr=T:type,allowed=[DT_HALF, DT_BFLOAT16, DT_FLOAT, DT_DOUBLE]> [Op:Softmax]\n",
        "x = np.asarray([2.0,3.0,-1.0])\n",
        "from tensorflow.keras.layers import Softmax\n",
        "#輸出y將是EagerTensor型態\n",
        "layer = Softmax()\n",
        "y = layer(x).numpy()\n",
        "print(f'y={y}')"
      ],
      "execution_count": 105,
      "outputs": [
        {
          "output_type": "stream",
          "text": [
            "y=[0.26538792 0.7213992  0.01321289]\n"
          ],
          "name": "stdout"
        }
      ]
    },
    {
      "cell_type": "code",
      "metadata": {
        "colab": {
          "base_uri": "https://localhost:8080/"
        },
        "id": "0MVnIAd4jS98",
        "outputId": "07bcc9a7-c700-4fbd-dc34-c171dab95377"
      },
      "source": [
        "#驗證所有y值相加是否會==1\n",
        "y[0]+y[1]+y[2]"
      ],
      "execution_count": 106,
      "outputs": [
        {
          "output_type": "execute_result",
          "data": {
            "text/plain": [
              "0.99999994"
            ]
          },
          "metadata": {
            "tags": []
          },
          "execution_count": 106
        }
      ]
    },
    {
      "cell_type": "markdown",
      "metadata": {
        "id": "ayHbzQSbmtpz"
      },
      "source": [
        "#MSE（Mean Square Error）"
      ]
    },
    {
      "cell_type": "code",
      "metadata": {
        "colab": {
          "base_uri": "https://localhost:8080/"
        },
        "id": "2Oi1u5EPkeRz",
        "outputId": "896ee90a-8773-4fc6-a474-a75e15fb0078"
      },
      "source": [
        "import numpy as np\n",
        "y_true = 1.0\n",
        "y_pred = 0.3\n",
        "mse = np.mean((y_true - y_pred)**2) \n",
        "mse"
      ],
      "execution_count": 43,
      "outputs": [
        {
          "output_type": "execute_result",
          "data": {
            "text/plain": [
              "0.48999999999999994"
            ]
          },
          "metadata": {
            "tags": []
          },
          "execution_count": 43
        }
      ]
    },
    {
      "cell_type": "code",
      "metadata": {
        "colab": {
          "base_uri": "https://localhost:8080/"
        },
        "id": "_p-r3Xo1m1dF",
        "outputId": "ed7fee2c-bb70-48c3-f16c-54ea54b9c77d"
      },
      "source": [
        "import numpy as np\n",
        "y_true = 1.0\n",
        "#會發現y_pred越接近真實答案誤差就越小\n",
        "y_pred = 0.95\n",
        "mse = np.mean((y_true - y_pred)**2) \n",
        "mse"
      ],
      "execution_count": 44,
      "outputs": [
        {
          "output_type": "execute_result",
          "data": {
            "text/plain": [
              "0.0025000000000000044"
            ]
          },
          "metadata": {
            "tags": []
          },
          "execution_count": 44
        }
      ]
    },
    {
      "cell_type": "markdown",
      "metadata": {
        "id": "dV3501dovHg9"
      },
      "source": [
        "\n",
        "\n",
        "---\n",
        "\n"
      ]
    },
    {
      "cell_type": "markdown",
      "metadata": {
        "id": "GfBx2nqHUDbr"
      },
      "source": [
        "#Cross Entropy"
      ]
    },
    {
      "cell_type": "markdown",
      "metadata": {
        "id": "nuuvCC7EogJ5"
      },
      "source": [
        "##建立Ground Truth"
      ]
    },
    {
      "cell_type": "code",
      "metadata": {
        "colab": {
          "base_uri": "https://localhost:8080/",
          "height": 298
        },
        "id": "oReDoiWBm-cD",
        "outputId": "8b5c1c0f-0002-4a95-e16a-a7e2e2035a6f"
      },
      "source": [
        "#建立Ground Truth\n",
        "from matplotlib import pyplot as plt\n",
        "#假設手寫數字圖片為2\n",
        "x = [0, 1, 2, 3, 4, 5, 6, 7, 8, 9]\n",
        "y_G = [0, 0, 1, 0, 0, 0, 0, 0, 0, 0]\n",
        "plt.title('G plot')\n",
        "plt.bar(x,y_G)"
      ],
      "execution_count": 45,
      "outputs": [
        {
          "output_type": "execute_result",
          "data": {
            "text/plain": [
              "<BarContainer object of 10 artists>"
            ]
          },
          "metadata": {
            "tags": []
          },
          "execution_count": 45
        },
        {
          "output_type": "display_data",
          "data": {
            "image/png": "[encoded data removed]",
            "text/plain": [
              "<Figure size 432x288 with 1 Axes>"
            ]
          },
          "metadata": {
            "tags": [],
            "needs_background": "light"
          }
        }
      ]
    },
    {
      "cell_type": "markdown",
      "metadata": {
        "id": "SQIWI3Fuojom"
      },
      "source": [
        "##假設估測的值"
      ]
    },
    {
      "cell_type": "code",
      "metadata": {
        "colab": {
          "base_uri": "https://localhost:8080/",
          "height": 298
        },
        "id": "kleRsh7NUNSA",
        "outputId": "c56b366c-ff5c-483e-e160-ce3fc7ee8736"
      },
      "source": [
        "#假設估測出來的值為3\n",
        "x = [0,   1,  2,  3,  4,  5,  6,  7,  8,  9]\n",
        "y_p = [0.20, 0.10, 0.15, 0.32, 0.13, 0.01, 0.03, 0.01, 0.02, 0.03]\n",
        "plt.title('p plot')\n",
        "plt.bar(x,y_p)"
      ],
      "execution_count": 46,
      "outputs": [
        {
          "output_type": "execute_result",
          "data": {
            "text/plain": [
              "<BarContainer object of 10 artists>"
            ]
          },
          "metadata": {
            "tags": []
          },
          "execution_count": 46
        },
        {
          "output_type": "display_data",
          "data": {
            "image/png": "[encoded data removed]",
            "text/plain": [
              "<Figure size 432x288 with 1 Axes>"
            ]
          },
          "metadata": {
            "tags": [],
            "needs_background": "light"
          }
        }
      ]
    },
    {
      "cell_type": "markdown",
      "metadata": {
        "id": "nDBn2TTSopSf"
      },
      "source": [
        "##用Cross Entropy求這二個Distribution的距離"
      ]
    },
    {
      "cell_type": "markdown",
      "metadata": {
        "id": "FCxopWzcjJpE"
      },
      "source": [
        "![image.png](data:image/png;base64,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)"
      ]
    },
    {
      "cell_type": "code",
      "metadata": {
        "colab": {
          "base_uri": "https://localhost:8080/"
        },
        "id": "tvxwV_8mU2mX",
        "outputId": "1bb63fa8-ca1f-4b74-b111-126ce463d8f4"
      },
      "source": [
        "#用Cross Entropy求這二個Distribution的距離\n",
        "import math\n",
        "log_p = [math.log(data) for data in y_p]\n",
        "log_p"
      ],
      "execution_count": 47,
      "outputs": [
        {
          "output_type": "execute_result",
          "data": {
            "text/plain": [
              "[-1.6094379124341003,\n",
              " -2.3025850929940455,\n",
              " -1.8971199848858813,\n",
              " -1.1394342831883648,\n",
              " -2.0402208285265546,\n",
              " -4.605170185988091,\n",
              " -3.506557897319982,\n",
              " -4.605170185988091,\n",
              " -3.912023005428146,\n",
              " -3.506557897319982]"
            ]
          },
          "metadata": {
            "tags": []
          },
          "execution_count": 47
        }
      ]
    },
    {
      "cell_type": "markdown",
      "metadata": {
        "id": "SzKpqg2-ovBZ"
      },
      "source": [
        "##用numpy查看這二個list分別元素相乘會如何"
      ]
    },
    {
      "cell_type": "code",
      "metadata": {
        "colab": {
          "base_uri": "https://localhost:8080/"
        },
        "id": "U91u5da3W4Q-",
        "outputId": "ac9502dc-1692-4741-a672-48c02ef03333"
      },
      "source": [
        "#用numpy查看這二個list分別元素相乘會如何\n",
        "import numpy as np\n",
        "#可觀察到由於公式的G在前面，就等於是忽略了G所不在意的區塊（等於是一種filter）\n",
        "np.array(y_G) * np.array(log_p)"
      ],
      "execution_count": 48,
      "outputs": [
        {
          "output_type": "execute_result",
          "data": {
            "text/plain": [
              "array([-0.        , -0.        , -1.89711998, -0.        , -0.        ,\n",
              "       -0.        , -0.        , -0.        , -0.        , -0.        ])"
            ]
          },
          "metadata": {
            "tags": []
          },
          "execution_count": 48
        }
      ]
    },
    {
      "cell_type": "markdown",
      "metadata": {
        "id": "twpYfyU2o1Jf"
      },
      "source": [
        "##將相乘後的向量的所有元素值全部加總起來後*-1"
      ]
    },
    {
      "cell_type": "code",
      "metadata": {
        "colab": {
          "base_uri": "https://localhost:8080/"
        },
        "id": "RhBHg2oRWEZZ",
        "outputId": "299953cc-3e47-4310-f5de-f40e1ab864ab"
      },
      "source": [
        "import numpy as np\n",
        "sum = np.sum(np.array(y_G) * np.array(log_p))\n",
        "sum"
      ],
      "execution_count": 49,
      "outputs": [
        {
          "output_type": "execute_result",
          "data": {
            "text/plain": [
              "-1.8971199848858813"
            ]
          },
          "metadata": {
            "tags": []
          },
          "execution_count": 49
        }
      ]
    },
    {
      "cell_type": "code",
      "metadata": {
        "colab": {
          "base_uri": "https://localhost:8080/"
        },
        "id": "Mj0GSJrQWfPI",
        "outputId": "7d71e3f6-8581-4ce0-9c09-2c3309909a86"
      },
      "source": [
        "H = -1 *sum\n",
        "H"
      ],
      "execution_count": 50,
      "outputs": [
        {
          "output_type": "execute_result",
          "data": {
            "text/plain": [
              "1.8971199848858813"
            ]
          },
          "metadata": {
            "tags": []
          },
          "execution_count": 50
        }
      ]
    }
  ]
}