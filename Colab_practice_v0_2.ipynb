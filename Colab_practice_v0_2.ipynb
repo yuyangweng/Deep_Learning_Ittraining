{
  "nbformat": 4,
  "nbformat_minor": 0,
  "metadata": {
    "colab": {
      "name": "Colab_practice_v0_2.ipynb",
      "provenance": [],
      "collapsed_sections": [],
      "toc_visible": true,
      "include_colab_link": true
    },
    "kernelspec": {
      "name": "python3",
      "display_name": "Python 3"
    }
  },
  "cells": [
    {
      "cell_type": "markdown",
      "metadata": {
        "id": "view-in-github",
        "colab_type": "text"
      },
      "source": [
        "<a href=\"https://colab.research.google.com/github/yuyangweng/Tensorflow-Ittraining/blob/main/Colab_practice_v0_2.ipynb\" target=\"_parent\"><img src=\"https://colab.research.google.com/assets/colab-badge.svg\" alt=\"Open In Colab\"/></a>"
      ]
    },
    {
      "cell_type": "markdown",
      "metadata": {
        "id": "aje5rBNo6Sxs"
      },
      "source": [
        "#純數字計算"
      ]
    },
    {
      "cell_type": "code",
      "metadata": {
        "colab": {
          "base_uri": "https://localhost:8080/"
        },
        "id": "u7Zj6kE85Mlm",
        "outputId": "8d67a47e-d2ab-48c7-ddc8-0b795e0b1c20"
      },
      "source": [
        "1+2"
      ],
      "execution_count": null,
      "outputs": [
        {
          "output_type": "execute_result",
          "data": {
            "text/plain": [
              "3"
            ]
          },
          "metadata": {
            "tags": []
          },
          "execution_count": 1
        }
      ]
    },
    {
      "cell_type": "markdown",
      "metadata": {
        "id": "9i61MM_n6a3-"
      },
      "source": [
        "#變數運算"
      ]
    },
    {
      "cell_type": "markdown",
      "metadata": {
        "id": "Jty4HIyT6hPm"
      },
      "source": [
        "##y=2"
      ]
    },
    {
      "cell_type": "code",
      "metadata": {
        "colab": {
          "base_uri": "https://localhost:8080/"
        },
        "id": "d3xsqcUY5Sjv",
        "outputId": "cbd0f3aa-05ea-4971-ba7d-afdeefd78c2c"
      },
      "source": [
        "x=10\n",
        "y=2\n",
        "x+y"
      ],
      "execution_count": null,
      "outputs": [
        {
          "output_type": "execute_result",
          "data": {
            "text/plain": [
              "12"
            ]
          },
          "metadata": {
            "tags": []
          },
          "execution_count": 2
        }
      ]
    },
    {
      "cell_type": "markdown",
      "metadata": {
        "id": "0N8Hm9vi6kte"
      },
      "source": [
        "##y=200"
      ]
    },
    {
      "cell_type": "code",
      "metadata": {
        "colab": {
          "base_uri": "https://localhost:8080/"
        },
        "id": "zhiSqdoj5c11",
        "outputId": "d141e65d-1fe9-454d-d93c-ec8af24946bc"
      },
      "source": [
        "x=10\n",
        "y=200\n",
        "x+y"
      ],
      "execution_count": null,
      "outputs": [
        {
          "output_type": "execute_result",
          "data": {
            "text/plain": [
              "210"
            ]
          },
          "metadata": {
            "tags": []
          },
          "execution_count": 3
        }
      ]
    },
    {
      "cell_type": "markdown",
      "metadata": {
        "id": "iQtdnknh61os"
      },
      "source": [
        "[連結文字](https://)"
      ]
    },
    {
      "cell_type": "markdown",
      "metadata": {
        "id": "pLq1ot1u6KGM"
      },
      "source": [
        "\n",
        "\n",
        "---\n",
        "\n"
      ]
    },
    {
      "cell_type": "markdown",
      "metadata": {
        "id": "-ED2HIkwwjza"
      },
      "source": [
        "#簡易Colab分享：vimdiff指令來檢測程式碼之間的差異"
      ]
    },
    {
      "cell_type": "code",
      "metadata": {
        "colab": {
          "base_uri": "https://localhost:8080/"
        },
        "id": "qV1J-T0YvWbx",
        "outputId": "3048c9bd-6894-4ea6-9efe-cb93c8fd096c"
      },
      "source": [
        "!apt install vim"
      ],
      "execution_count": null,
      "outputs": [
        {
          "output_type": "stream",
          "text": [
            "Reading package lists... Done\n",
            "Building dependency tree       \n",
            "Reading state information... Done\n",
            "The following additional packages will be installed:\n",
            "  libgpm2 vim-common vim-runtime xxd\n",
            "Suggested packages:\n",
            "  gpm ctags vim-doc vim-scripts\n",
            "The following NEW packages will be installed:\n",
            "  libgpm2 vim vim-common vim-runtime xxd\n",
            "0 upgraded, 5 newly installed, 0 to remove and 39 not upgraded.\n",
            "Need to get 6,722 kB of archives.\n",
            "After this operation, 32.6 MB of additional disk space will be used.\n",
            "Get:1 http://archive.ubuntu.com/ubuntu bionic-updates/main amd64 xxd amd64 2:8.0.1453-1ubuntu1.4 [49.3 kB]\n",
            "Get:2 http://archive.ubuntu.com/ubuntu bionic-updates/main amd64 vim-common all 2:8.0.1453-1ubuntu1.4 [70.4 kB]\n",
            "Get:3 http://archive.ubuntu.com/ubuntu bionic/main amd64 libgpm2 amd64 1.20.7-5 [15.1 kB]\n",
            "Get:4 http://archive.ubuntu.com/ubuntu bionic-updates/main amd64 vim-runtime all 2:8.0.1453-1ubuntu1.4 [5,435 kB]\n",
            "Get:5 http://archive.ubuntu.com/ubuntu bionic-updates/main amd64 vim amd64 2:8.0.1453-1ubuntu1.4 [1,152 kB]\n",
            "Fetched 6,722 kB in 1s (5,871 kB/s)\n",
            "Selecting previously unselected package xxd.\n",
            "(Reading database ... 160772 files and directories currently installed.)\n",
            "Preparing to unpack .../xxd_2%3a8.0.1453-1ubuntu1.4_amd64.deb ...\n",
            "Unpacking xxd (2:8.0.1453-1ubuntu1.4) ...\n",
            "Selecting previously unselected package vim-common.\n",
            "Preparing to unpack .../vim-common_2%3a8.0.1453-1ubuntu1.4_all.deb ...\n",
            "Unpacking vim-common (2:8.0.1453-1ubuntu1.4) ...\n",
            "Selecting previously unselected package libgpm2:amd64.\n",
            "Preparing to unpack .../libgpm2_1.20.7-5_amd64.deb ...\n",
            "Unpacking libgpm2:amd64 (1.20.7-5) ...\n",
            "Selecting previously unselected package vim-runtime.\n",
            "Preparing to unpack .../vim-runtime_2%3a8.0.1453-1ubuntu1.4_all.deb ...\n",
            "Adding 'diversion of /usr/share/vim/vim80/doc/help.txt to /usr/share/vim/vim80/doc/help.txt.vim-tiny by vim-runtime'\n",
            "Adding 'diversion of /usr/share/vim/vim80/doc/tags to /usr/share/vim/vim80/doc/tags.vim-tiny by vim-runtime'\n",
            "Unpacking vim-runtime (2:8.0.1453-1ubuntu1.4) ...\n",
            "Selecting previously unselected package vim.\n",
            "Preparing to unpack .../vim_2%3a8.0.1453-1ubuntu1.4_amd64.deb ...\n",
            "Unpacking vim (2:8.0.1453-1ubuntu1.4) ...\n",
            "Setting up xxd (2:8.0.1453-1ubuntu1.4) ...\n",
            "Setting up libgpm2:amd64 (1.20.7-5) ...\n",
            "Setting up vim-common (2:8.0.1453-1ubuntu1.4) ...\n",
            "Setting up vim-runtime (2:8.0.1453-1ubuntu1.4) ...\n",
            "Setting up vim (2:8.0.1453-1ubuntu1.4) ...\n",
            "update-alternatives: using /usr/bin/vim.basic to provide /usr/bin/vim (vim) in auto mode\n",
            "update-alternatives: using /usr/bin/vim.basic to provide /usr/bin/vimdiff (vimdiff) in auto mode\n",
            "update-alternatives: using /usr/bin/vim.basic to provide /usr/bin/rvim (rvim) in auto mode\n",
            "update-alternatives: using /usr/bin/vim.basic to provide /usr/bin/rview (rview) in auto mode\n",
            "update-alternatives: using /usr/bin/vim.basic to provide /usr/bin/vi (vi) in auto mode\n",
            "update-alternatives: using /usr/bin/vim.basic to provide /usr/bin/view (view) in auto mode\n",
            "update-alternatives: using /usr/bin/vim.basic to provide /usr/bin/ex (ex) in auto mode\n",
            "update-alternatives: using /usr/bin/vim.basic to provide /usr/bin/editor (editor) in auto mode\n",
            "Processing triggers for man-db (2.8.3-2ubuntu0.1) ...\n",
            "Processing triggers for hicolor-icon-theme (0.17-2) ...\n",
            "Processing triggers for mime-support (3.60ubuntu1) ...\n",
            "Processing triggers for libc-bin (2.27-3ubuntu1.2) ...\n",
            "/sbin/ldconfig.real: /usr/local/lib/python3.7/dist-packages/ideep4py/lib/libmkldnn.so.0 is not a symbolic link\n",
            "\n"
          ],
          "name": "stdout"
        }
      ]
    },
    {
      "cell_type": "code",
      "metadata": {
        "id": "ZDJLP8Spv7TB"
      },
      "source": [
        "!echo 'abc' > 1.txt\n",
        "!echo 'abcd' > 2.txt"
      ],
      "execution_count": null,
      "outputs": []
    },
    {
      "cell_type": "code",
      "metadata": {
        "colab": {
          "base_uri": "https://localhost:8080/"
        },
        "id": "nEPRomcT7upL",
        "outputId": "4697f46c-4eb3-4fae-f7a0-d22b20d4fcb5"
      },
      "source": [
        "!cat 1.txt"
      ],
      "execution_count": null,
      "outputs": [
        {
          "output_type": "stream",
          "text": [
            "abc\n"
          ],
          "name": "stdout"
        }
      ]
    },
    {
      "cell_type": "code",
      "metadata": {
        "colab": {
          "base_uri": "https://localhost:8080/"
        },
        "id": "a4WQUbmd7xuL",
        "outputId": "8856c97b-a8fd-45cb-d834-6a8790f873af"
      },
      "source": [
        "!cat 2.txt"
      ],
      "execution_count": null,
      "outputs": [
        {
          "output_type": "stream",
          "text": [
            "abcd\n"
          ],
          "name": "stdout"
        }
      ]
    },
    {
      "cell_type": "code",
      "metadata": {
        "colab": {
          "base_uri": "https://localhost:8080/"
        },
        "id": "VxHXEVKOvRdp",
        "outputId": "b6c03b7d-155c-428c-9a3d-662ceee9040d"
      },
      "source": [
        "!vimdiff 1.txt 2.txt"
      ],
      "execution_count": null,
      "outputs": [
        {
          "output_type": "stream",
          "text": [
            "2 files to edit\n",
            "\u001b[?2004h\u001b7\u001b[?47h\u001b[?1h\u001b=\u001b[?2004h\u001b[1;24r\u001b[?12h\u001b[?12l\u001b[29m\u001b[m\u001b[H\u001b[2J\u001b[?25l\u001b[24;1H\"1.txt\" 1L, 4C\r\"2\u001b[24;9H\u001b[K\u001b[24;9H1L, 5C\u001b[?2004l\u001b[?2004h\u001b[?2004l\u001b[?2004h\u001b[?2004l\u001b[?2004h\u001b[?2004l\u001b[?2004h\u001b[?2004l\u001b[?2004h\u001b[?2004h\u001b[?2004l\u001b[?2004h\u001b[?2004l\u001b[?2004h\u001b[?2004l\u001b[?2004h\u001b[?2004l\u001b[?2004h\u001b[?2004h\u001b[2;1H▽\u001b[6n\u001b[2;1H  \u001b[1;1H\u001b[>c\u001b]10;?\u0007\u001b]11;?\u0007\u001b[1;1H\u001b[34m\u001b[47m  \u001b[m\u001b[45mabc                                   \u001b[m\u001b[7m|\u001b[2;41H|\u001b[3;41H|\u001b[4;41H|\u001b[5;41H|\u001b[6;41H|\u001b[7;41H|\u001b[8;41H|\u001b[9;41H|\u001b[10;41H|\u001b[11;41H|\u001b[12;41H|\u001b[13;41H|\u001b[14;41H|\u001b[15;41H|\u001b[16;41H|\u001b[17;41H|\u001b[18;41H|\u001b[19;41H|\u001b[20;41H|\u001b[21;41H|\u001b[22;41H|\u001b[m\u001b[2;1H\u001b[34m\u001b[47m  \r\n",
            "  \r\n",
            "  \r\n",
            "  \r\n",
            "  \r\n",
            "  \r\n",
            "  \r\n",
            "  \r\n",
            "  \r\n",
            "  \r\n",
            "  \r\n",
            "  \r\n",
            "  \r\n",
            "  \r\n",
            "  \r\n",
            "  \r\n",
            "  \r\n",
            "  \r\n",
            "  \r\n",
            "  \r\n",
            "  \u001b[m\u001b[2;3H\u001b[1m\u001b[34m~                                     \u001b[3;3H~                                     \u001b[4;3H~                                     \u001b[5;3H~                                     \u001b[6;3H~                                     \u001b[7;3H~                                     \u001b[8;3H~                                     \u001b[9;3H~                                     \u001b[10;3H~                                     \u001b[11;3H~                                     \u001b[12;3H~                                     \u001b[13;3H~                                     \u001b[14;3H~                                     \u001b[15;3H~                                     \u001b[16;3H~                                     \u001b[17;3H~                                     \u001b[18;3H~                                     \u001b[19;3H~                                     \u001b[20;3H~                                     \u001b[21;3H~                                     \u001b[22;3H~                                     \u001b[m\n",
            "\u001b[1m\u001b[7m1.txt                 1,1            All \u001b[m\u001b[1;42H\u001b[34m\u001b[47m  \u001b[m\u001b[45mabc\u001b[m\u001b[1m\u001b[41md\u001b[m\u001b[45m                                 \u001b[m\u001b[2;42H\u001b[34m\u001b[47m  \u001b[3;42H  \u001b[4;42H  \u001b[5;42H  \u001b[6;42H  \u001b[7;42H  \u001b[8;42H  \u001b[9;42H  \u001b[10;42H  \u001b[11;42H  \u001b[12;42H  \u001b[13;42H  \u001b[14;42H  \u001b[15;42H  \u001b[16;42H  \u001b[17;42H  \u001b[18;42H  \u001b[19;42H  \u001b[20;42H  \u001b[21;42H  \u001b[22;42H  \u001b[m\u001b[2;44H\u001b[1m\u001b[34m~                                    \u001b[3;44H~                                    \u001b[4;44H~                                    \u001b[5;44H~                                    \u001b[6;44H~                                    \u001b[7;44H~                                    \u001b[8;44H~                                    \u001b[9;44H~                                    \u001b[10;44H~                                    \u001b[11;44H~                                    \u001b[12;44H~                                    \u001b[13;44H~                                    \u001b[14;44H~                                    \u001b[15;44H~                                    \u001b[16;44H~                                    \u001b[17;44H~                                    \u001b[18;44H~                                    \u001b[19;44H~                                    \u001b[20;44H~                                    \u001b[21;44H~                                    \u001b[22;44H~                                    \u001b[m\u001b[23;42H\u001b[7m2.txt                1,1            All\u001b[1;3H\u001b[?25h\u001b[24;1H\u001b[m\u001b[?2004l\u001b[?1l\u001b>\u001b[2J\u001b[?47l\u001b8Vim: Caught deadly signal TERM\n",
            "\n",
            "Vim: Finished.\n",
            "\u001b[24;1H^C\n"
          ],
          "name": "stdout"
        }
      ]
    }
  ]
}