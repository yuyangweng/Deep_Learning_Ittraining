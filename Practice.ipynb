{
  "nbformat": 4,
  "nbformat_minor": 0,
  "metadata": {
    "colab": {
      "name": "Practice.ipynb",
      "provenance": [],
      "authorship_tag": "ABX9TyNPKWuf2WfjKvjMvOj/V3kd",
      "include_colab_link": true
    },
    "kernelspec": {
      "name": "python3",
      "display_name": "Python 3"
    },
    "language_info": {
      "name": "python"
    },
    "accelerator": "GPU"
  },
  "cells": [
    {
      "cell_type": "markdown",
      "metadata": {
        "id": "view-in-github",
        "colab_type": "text"
      },
      "source": [
        "<a href=\"https://colab.research.google.com/github/yuyangweng/Deep_Learning_Ittraining/blob/main/Practice.ipynb\" target=\"_parent\"><img src=\"https://colab.research.google.com/assets/colab-badge.svg\" alt=\"Open In Colab\"/></a>"
      ]
    },
    {
      "cell_type": "markdown",
      "metadata": {
        "id": "bhtVsMVOZ_3p"
      },
      "source": [
        "#Sequencial Model"
      ]
    },
    {
      "cell_type": "markdown",
      "metadata": {
        "id": "mQoZHESOAzxi"
      },
      "source": [
        "##MNIST"
      ]
    },
    {
      "cell_type": "code",
      "metadata": {
        "id": "pe_CRzomQ2Bv"
      },
      "source": [
        "import tensorflow as tf\n",
        "import tensorflow.keras \n",
        "from tensorflow.keras import datasets\n",
        "from tensorflow.keras import layers\n",
        "from tensorflow.keras import models\n",
        "from tensorflow.keras.utils import to_categorical\n",
        "import matplotlib.pyplot as plt\n",
        "import numpy as np"
      ],
      "execution_count": null,
      "outputs": []
    },
    {
      "cell_type": "code",
      "metadata": {
        "colab": {
          "base_uri": "https://localhost:8080/"
        },
        "id": "ycA9wtpiRRQu",
        "outputId": "c45d904b-447d-471f-efb4-3cc9552504e8"
      },
      "source": [
        "\n",
        "(X_train,y_train),(X_test,y_test)=datasets.mnist.load_data()\n",
        "\n",
        "num_classes =10\n",
        "y_train = tensorflow.keras.utils.to_categorical(y_train, num_classes)\n",
        "y_test = tensorflow.keras.utils.to_categorical(y_test, num_classes)\n",
        "X_train,X_test=X_train/255,X_test/255\n",
        "X_train=X_train-np.mean(X_train)\n",
        "X_test=X_test-np.mean(X_train)\n",
        "model=models.Sequential([layers.Flatten(),layers.Dense(units=256,activation='relu'),layers.Dense(units=128,activation='relu'),layers.Dense(units=10,activation='softmax')])\n",
        "model.compile(loss=\"CategoricalCrossentropy\",optimizer='sgd',metrics=['accuracy'])\n",
        "model.fit(x=X_train,y=y_train,epochs=10,verbose=1,validation_split=0.1)\n",
        "model.summary()\n",
        "test_loss,test_accuracy=model.evaluate(X_test,y_test)\n",
        "\n",
        "\n",
        "print(f'test_loss={test_loss}')\n",
        "print(f'test_accuracy={test_accuracy}')"
      ],
      "execution_count": null,
      "outputs": [
        {
          "output_type": "stream",
          "text": [
            "Downloading data from https://storage.googleapis.com/tensorflow/tf-keras-datasets/mnist.npz\n",
            "11493376/11490434 [==============================] - 0s 0us/step\n",
            "Epoch 1/10\n",
            "1688/1688 [==============================] - 5s 3ms/step - loss: 0.6153 - accuracy: 0.8393 - val_loss: 0.2652 - val_accuracy: 0.9245\n",
            "Epoch 2/10\n",
            "1688/1688 [==============================] - 4s 2ms/step - loss: 0.2869 - accuracy: 0.9171 - val_loss: 0.2069 - val_accuracy: 0.9407\n",
            "Epoch 3/10\n",
            "1688/1688 [==============================] - 4s 2ms/step - loss: 0.2345 - accuracy: 0.9320 - val_loss: 0.1738 - val_accuracy: 0.9538\n",
            "Epoch 4/10\n",
            "1688/1688 [==============================] - 4s 2ms/step - loss: 0.1985 - accuracy: 0.9423 - val_loss: 0.1520 - val_accuracy: 0.9610\n",
            "Epoch 5/10\n",
            "1688/1688 [==============================] - 4s 2ms/step - loss: 0.1728 - accuracy: 0.9504 - val_loss: 0.1345 - val_accuracy: 0.9638\n",
            "Epoch 6/10\n",
            "1688/1688 [==============================] - 4s 2ms/step - loss: 0.1528 - accuracy: 0.9564 - val_loss: 0.1217 - val_accuracy: 0.9675\n",
            "Epoch 7/10\n",
            "1688/1688 [==============================] - 4s 2ms/step - loss: 0.1366 - accuracy: 0.9610 - val_loss: 0.1139 - val_accuracy: 0.9683\n",
            "Epoch 8/10\n",
            "1688/1688 [==============================] - 4s 2ms/step - loss: 0.1235 - accuracy: 0.9647 - val_loss: 0.1056 - val_accuracy: 0.9715\n",
            "Epoch 9/10\n",
            "1688/1688 [==============================] - 4s 2ms/step - loss: 0.1122 - accuracy: 0.9677 - val_loss: 0.0992 - val_accuracy: 0.9738\n",
            "Epoch 10/10\n",
            "1688/1688 [==============================] - 4s 2ms/step - loss: 0.1029 - accuracy: 0.9708 - val_loss: 0.0956 - val_accuracy: 0.9748\n",
            "Model: \"sequential_18\"\n",
            "_________________________________________________________________\n",
            "Layer (type)                 Output Shape              Param #   \n",
            "=================================================================\n",
            "flatten_20 (Flatten)         (None, 784)               0         \n",
            "_________________________________________________________________\n",
            "dense_51 (Dense)             (None, 256)               200960    \n",
            "_________________________________________________________________\n",
            "dense_52 (Dense)             (None, 128)               32896     \n",
            "_________________________________________________________________\n",
            "dense_53 (Dense)             (None, 10)                1290      \n",
            "=================================================================\n",
            "Total params: 235,146\n",
            "Trainable params: 235,146\n",
            "Non-trainable params: 0\n",
            "_________________________________________________________________\n",
            "313/313 [==============================] - 1s 2ms/step - loss: 0.1536 - accuracy: 0.9576\n",
            "test_loss=0.1535804569721222\n",
            "test_accuracy=0.9575999975204468\n"
          ],
          "name": "stdout"
        }
      ]
    },
    {
      "cell_type": "code",
      "metadata": {
        "colab": {
          "base_uri": "https://localhost:8080/"
        },
        "id": "1_r4DbdmRrCs",
        "outputId": "601cb11c-952e-4db6-d1bc-87f169096410"
      },
      "source": [
        "\n",
        "(X_train,y_train),(X_test,y_test)=datasets.mnist.load_data()\n",
        "\n",
        "num_classes =10\n",
        "y_train = tensorflow.keras.utils.to_categorical(y_train, num_classes)\n",
        "y_test = tensorflow.keras.utils.to_categorical(y_test, num_classes)\n",
        "X_train,X_test=X_train/255,X_test/255\n",
        "X_train=X_train-np.mean(X_train)\n",
        "X_test=X_test-np.mean(X_train)\n",
        "model=models.Sequential([layers.Flatten(),layers.Dense(units=256,activation='relu'),layers.Dense(units=128,activation='relu'),layers.Dense(units=10,activation='softmax')])\n",
        "model.compile(loss=\"categorical_crossentropy\",optimizer='sgd',metrics=['accuracy'])\n",
        "model.fit(x=X_train,y=y_train,epochs=10,verbose=1,validation_split=0.1)\n",
        "model.summary()\n",
        "test_loss,test_accuracy=model.evaluate(X_test,y_test)\n",
        "\n",
        "print(f'test_loss={test_loss}')\n",
        "print(f'test_accuracy={test_accuracy}')"
      ],
      "execution_count": null,
      "outputs": [
        {
          "output_type": "stream",
          "text": [
            "Epoch 1/10\n",
            "1688/1688 [==============================] - 4s 3ms/step - loss: 0.6260 - accuracy: 0.8347 - val_loss: 0.2638 - val_accuracy: 0.9240\n",
            "Epoch 2/10\n",
            "1688/1688 [==============================] - 4s 2ms/step - loss: 0.2854 - accuracy: 0.9184 - val_loss: 0.2133 - val_accuracy: 0.9388\n",
            "Epoch 3/10\n",
            "1688/1688 [==============================] - 4s 2ms/step - loss: 0.2326 - accuracy: 0.9328 - val_loss: 0.1745 - val_accuracy: 0.9535\n",
            "Epoch 4/10\n",
            "1688/1688 [==============================] - 4s 2ms/step - loss: 0.1980 - accuracy: 0.9436 - val_loss: 0.1529 - val_accuracy: 0.9592\n",
            "Epoch 5/10\n",
            "1688/1688 [==============================] - 4s 3ms/step - loss: 0.1718 - accuracy: 0.9513 - val_loss: 0.1347 - val_accuracy: 0.9653\n",
            "Epoch 6/10\n",
            "1688/1688 [==============================] - 4s 2ms/step - loss: 0.1518 - accuracy: 0.9566 - val_loss: 0.1240 - val_accuracy: 0.9677\n",
            "Epoch 7/10\n",
            "1688/1688 [==============================] - 4s 2ms/step - loss: 0.1358 - accuracy: 0.9608 - val_loss: 0.1156 - val_accuracy: 0.9685\n",
            "Epoch 8/10\n",
            "1688/1688 [==============================] - 4s 2ms/step - loss: 0.1227 - accuracy: 0.9651 - val_loss: 0.1056 - val_accuracy: 0.9713\n",
            "Epoch 9/10\n",
            "1688/1688 [==============================] - 4s 2ms/step - loss: 0.1114 - accuracy: 0.9679 - val_loss: 0.1005 - val_accuracy: 0.9722\n",
            "Epoch 10/10\n",
            "1688/1688 [==============================] - 4s 2ms/step - loss: 0.1017 - accuracy: 0.9711 - val_loss: 0.0970 - val_accuracy: 0.9737\n",
            "Model: \"sequential_19\"\n",
            "_________________________________________________________________\n",
            "Layer (type)                 Output Shape              Param #   \n",
            "=================================================================\n",
            "flatten_21 (Flatten)         (None, 784)               0         \n",
            "_________________________________________________________________\n",
            "dense_54 (Dense)             (None, 256)               200960    \n",
            "_________________________________________________________________\n",
            "dense_55 (Dense)             (None, 128)               32896     \n",
            "_________________________________________________________________\n",
            "dense_56 (Dense)             (None, 10)                1290      \n",
            "=================================================================\n",
            "Total params: 235,146\n",
            "Trainable params: 235,146\n",
            "Non-trainable params: 0\n",
            "_________________________________________________________________\n",
            "313/313 [==============================] - 1s 2ms/step - loss: 0.1511 - accuracy: 0.9584\n",
            "test_loss=0.1510825902223587\n",
            "test_accuracy=0.9584000110626221\n"
          ],
          "name": "stdout"
        }
      ]
    },
    {
      "cell_type": "code",
      "metadata": {
        "id": "UMihT2osnn7Z"
      },
      "source": [
        ""
      ],
      "execution_count": null,
      "outputs": []
    },
    {
      "cell_type": "markdown",
      "metadata": {
        "id": "4jQugyQRAy5t"
      },
      "source": [
        "##CIFAR-10"
      ]
    },
    {
      "cell_type": "code",
      "metadata": {
        "colab": {
          "base_uri": "https://localhost:8080/"
        },
        "id": "BGvbPnNKA6wV",
        "outputId": "be62f9ee-8f18-4689-ca27-f3fbabf91e8b"
      },
      "source": [
        "import tensorflow as tf\n",
        "import tensorflow.keras \n",
        "from tensorflow.keras import datasets\n",
        "from tensorflow.keras import layers\n",
        "from tensorflow.keras import models\n",
        "import matplotlib.pyplot as plt\n",
        "from tensorflow.keras.utils import to_categorical\n",
        "import numpy as np\n",
        "\n",
        "(X_train,y_train),(X_test,y_test)=datasets.cifar10.load_data()\n",
        "print(X_train.shape)\n",
        "X_train,X_test=X_train/255,X_test/255\n",
        "X_mean=np.mean(X_train)\n",
        "X_train=X_train-X_mean\n",
        "X_test=X_test-X_mean\n",
        "y_train=tensorflow.keras.utils.to_categorical(y_train)\n",
        "y_test=tensorflow.keras.utils.to_categorical(y_test)\n",
        "model=models.Sequential([layers.Flatten(),layers.Dense(units=512,activation='relu'),layers.Dense(units=256,activation='relu'),layers.Dense(units=10,activation='softmax')])\n",
        "model.compile(loss='CategoricalCrossentropy',optimizer='sgd',metrics=['accuracy'])\n",
        "model.fit(x=X_train,y=y_train,epochs=10,verbose=1,validation_split=0.01,shuffle=True)\n",
        "model.summary()\n",
        "test_loss,test_accuracy=model.evaluate(X_test,y_test)\n",
        "\n",
        "\n",
        "print(f'test_loss={test_loss}')\n",
        "print(f'test_accuracy={test_accuracy}')"
      ],
      "execution_count": null,
      "outputs": [
        {
          "output_type": "stream",
          "text": [
            "(50000, 32, 32, 3)\n",
            "Epoch 1/10\n",
            "1547/1547 [==============================] - 4s 3ms/step - loss: 1.8006 - accuracy: 0.3671 - val_loss: 1.6746 - val_accuracy: 0.4320\n",
            "Epoch 2/10\n",
            "1547/1547 [==============================] - 4s 3ms/step - loss: 1.5638 - accuracy: 0.4521 - val_loss: 1.5655 - val_accuracy: 0.4480\n",
            "Epoch 3/10\n",
            "1547/1547 [==============================] - 4s 2ms/step - loss: 1.4627 - accuracy: 0.4917 - val_loss: 1.4737 - val_accuracy: 0.4880\n",
            "Epoch 4/10\n",
            "1547/1547 [==============================] - 4s 3ms/step - loss: 1.3844 - accuracy: 0.5196 - val_loss: 1.4265 - val_accuracy: 0.4960\n",
            "Epoch 5/10\n",
            "1547/1547 [==============================] - 4s 3ms/step - loss: 1.3199 - accuracy: 0.5424 - val_loss: 1.3897 - val_accuracy: 0.5140\n",
            "Epoch 6/10\n",
            "1547/1547 [==============================] - 4s 3ms/step - loss: 1.2643 - accuracy: 0.5641 - val_loss: 1.3594 - val_accuracy: 0.5340\n",
            "Epoch 7/10\n",
            "1547/1547 [==============================] - 4s 3ms/step - loss: 1.2150 - accuracy: 0.5794 - val_loss: 1.3465 - val_accuracy: 0.5060\n",
            "Epoch 8/10\n",
            "1547/1547 [==============================] - 4s 3ms/step - loss: 1.1696 - accuracy: 0.5965 - val_loss: 1.3026 - val_accuracy: 0.5380\n",
            "Epoch 9/10\n",
            "1547/1547 [==============================] - 4s 2ms/step - loss: 1.1256 - accuracy: 0.6117 - val_loss: 1.3167 - val_accuracy: 0.5500\n",
            "Epoch 10/10\n",
            "1547/1547 [==============================] - 4s 3ms/step - loss: 1.0855 - accuracy: 0.6256 - val_loss: 1.2760 - val_accuracy: 0.5560\n",
            "Model: \"sequential_20\"\n",
            "_________________________________________________________________\n",
            "Layer (type)                 Output Shape              Param #   \n",
            "=================================================================\n",
            "flatten_22 (Flatten)         (None, 3072)              0         \n",
            "_________________________________________________________________\n",
            "dense_57 (Dense)             (None, 512)               1573376   \n",
            "_________________________________________________________________\n",
            "dense_58 (Dense)             (None, 256)               131328    \n",
            "_________________________________________________________________\n",
            "dense_59 (Dense)             (None, 10)                2570      \n",
            "=================================================================\n",
            "Total params: 1,707,274\n",
            "Trainable params: 1,707,274\n",
            "Non-trainable params: 0\n",
            "_________________________________________________________________\n",
            "313/313 [==============================] - 1s 2ms/step - loss: 1.3103 - accuracy: 0.5389\n",
            "test_loss=1.310295581817627\n",
            "test_accuracy=0.5389000177383423\n"
          ],
          "name": "stdout"
        }
      ]
    },
    {
      "cell_type": "code",
      "metadata": {
        "colab": {
          "base_uri": "https://localhost:8080/"
        },
        "id": "sMCZZZwONKer",
        "outputId": "ccf7c81a-f670-4f67-f684-6f9d96fa8260"
      },
      "source": [
        "import tensorflow as tf\n",
        "import tensorflow.keras \n",
        "from tensorflow.keras import datasets\n",
        "from tensorflow.keras import layers\n",
        "from tensorflow.keras import models\n",
        "import matplotlib.pyplot as plt\n",
        "from tensorflow.keras.utils import to_categorical\n",
        "import numpy as np\n",
        "\n",
        "(X_train,y_train),(X_test,y_test)=datasets.cifar10.load_data()\n",
        "print(X_train.shape)\n",
        "X_train,X_test=X_train/255,X_test/255\n",
        "X_mean=np.mean(X_train)\n",
        "X_train=X_train-X_mean\n",
        "X_test=X_test-X_mean\n",
        "y_train=tensorflow.keras.utils.to_categorical(y_train)\n",
        "y_test=tensorflow.keras.utils.to_categorical(y_test)\n",
        "model=models.Sequential([layers.Flatten(),layers.Dense(units=512,activation='relu'),layers.Dense(units=256,activation='relu'),layers.Dense(units=10,activation='softmax')])\n",
        "model.compile(loss='CategoricalCrossentropy',optimizer='sgd',metrics=['accuracy'])\n",
        "model.fit(x=X_train,y=y_train,epochs=10,verbose=2,validation_split=0.01)\n",
        "model.summary()\n",
        "test_loss,test_accuracy=model.evaluate(X_test,y_test)\n",
        "\n",
        "print(f'test_loss={test_loss}')\n",
        "print(f'test_accuracy={test_accuracy}')"
      ],
      "execution_count": null,
      "outputs": [
        {
          "output_type": "stream",
          "text": [
            "(50000, 32, 32, 3)\n",
            "Epoch 1/10\n",
            "1547/1547 - 3s - loss: 1.8063 - accuracy: 0.3682 - val_loss: 1.6731 - val_accuracy: 0.4120\n",
            "Epoch 2/10\n",
            "1547/1547 - 3s - loss: 1.5627 - accuracy: 0.4532 - val_loss: 1.5556 - val_accuracy: 0.4600\n",
            "Epoch 3/10\n",
            "1547/1547 - 3s - loss: 1.4633 - accuracy: 0.4919 - val_loss: 1.4698 - val_accuracy: 0.4640\n",
            "Epoch 4/10\n",
            "1547/1547 - 3s - loss: 1.3876 - accuracy: 0.5203 - val_loss: 1.4323 - val_accuracy: 0.4920\n",
            "Epoch 5/10\n",
            "1547/1547 - 3s - loss: 1.3247 - accuracy: 0.5421 - val_loss: 1.3739 - val_accuracy: 0.5140\n",
            "Epoch 6/10\n",
            "1547/1547 - 3s - loss: 1.2716 - accuracy: 0.5589 - val_loss: 1.3865 - val_accuracy: 0.5000\n",
            "Epoch 7/10\n",
            "1547/1547 - 3s - loss: 1.2222 - accuracy: 0.5771 - val_loss: 1.3400 - val_accuracy: 0.5120\n",
            "Epoch 8/10\n",
            "1547/1547 - 3s - loss: 1.1763 - accuracy: 0.5931 - val_loss: 1.2940 - val_accuracy: 0.5320\n",
            "Epoch 9/10\n",
            "1547/1547 - 3s - loss: 1.1337 - accuracy: 0.6097 - val_loss: 1.2871 - val_accuracy: 0.5200\n",
            "Epoch 10/10\n",
            "1547/1547 - 3s - loss: 1.0908 - accuracy: 0.6234 - val_loss: 1.3292 - val_accuracy: 0.5240\n",
            "Model: \"sequential_21\"\n",
            "_________________________________________________________________\n",
            "Layer (type)                 Output Shape              Param #   \n",
            "=================================================================\n",
            "flatten_23 (Flatten)         (None, 3072)              0         \n",
            "_________________________________________________________________\n",
            "dense_60 (Dense)             (None, 512)               1573376   \n",
            "_________________________________________________________________\n",
            "dense_61 (Dense)             (None, 256)               131328    \n",
            "_________________________________________________________________\n",
            "dense_62 (Dense)             (None, 10)                2570      \n",
            "=================================================================\n",
            "Total params: 1,707,274\n",
            "Trainable params: 1,707,274\n",
            "Non-trainable params: 0\n",
            "_________________________________________________________________\n",
            "313/313 [==============================] - 1s 2ms/step - loss: 1.3343 - accuracy: 0.5340\n",
            "test_loss=1.334263801574707\n",
            "test_accuracy=0.5339999794960022\n"
          ],
          "name": "stdout"
        }
      ]
    },
    {
      "cell_type": "code",
      "metadata": {
        "colab": {
          "base_uri": "https://localhost:8080/"
        },
        "id": "0dWs0QlJRZwq",
        "outputId": "7a614ba5-ae20-485c-a774-48d2a7420d31"
      },
      "source": [
        "import tensorflow as tf\n",
        "import tensorflow.keras \n",
        "from tensorflow.keras import datasets\n",
        "from tensorflow.keras import layers\n",
        "from tensorflow.keras import models\n",
        "import matplotlib.pyplot as plt\n",
        "from tensorflow.keras.utils import to_categorical\n",
        "import numpy as np\n",
        "(X_train,y_train),(X_test,y_test)=datasets.cifar10.load_data()\n",
        "print(X_train.shape)\n",
        "X_train,X_test=X_train/255,X_test/255\n",
        "X_mean=np.mean(X_train)\n",
        "X_train=X_train-X_mean\n",
        "X_test=X_test-X_mean\n",
        "y_train=tensorflow.keras.utils.to_categorical(y_train)\n",
        "y_test=tensorflow.keras.utils.to_categorical(y_test)\n",
        "model=models.Sequential()\n",
        "model.add(layers.Flatten())\n",
        "model.add(layers.Dense(units=255,activation='relu'))\n",
        "model.add(layers.Dense(units=10,activation='softmax'))\n",
        "model.compile(loss='CategoricalCrossentropy',optimizer='sgd',metrics=['accuracy'])\n",
        "model.fit(x=X_train,y=y_train,epochs=10,verbose=2,validation_split=0.01)\n",
        "model.summary()\n",
        "test_loss, test_accuracy=model.evaluate(X_test,y_test)"
      ],
      "execution_count": null,
      "outputs": [
        {
          "output_type": "stream",
          "text": [
            "(50000, 32, 32, 3)\n",
            "Epoch 1/10\n",
            "1547/1547 - 3s - loss: 1.7961 - accuracy: 0.3743 - val_loss: 1.7055 - val_accuracy: 0.4380\n",
            "Epoch 2/10\n",
            "1547/1547 - 3s - loss: 1.6033 - accuracy: 0.4438 - val_loss: 1.6083 - val_accuracy: 0.4400\n",
            "Epoch 3/10\n",
            "1547/1547 - 3s - loss: 1.5274 - accuracy: 0.4708 - val_loss: 1.5587 - val_accuracy: 0.4660\n",
            "Epoch 4/10\n",
            "1547/1547 - 3s - loss: 1.4726 - accuracy: 0.4919 - val_loss: 1.5187 - val_accuracy: 0.4700\n",
            "Epoch 5/10\n",
            "1547/1547 - 3s - loss: 1.4278 - accuracy: 0.5077 - val_loss: 1.4678 - val_accuracy: 0.4860\n",
            "Epoch 6/10\n",
            "1547/1547 - 3s - loss: 1.3888 - accuracy: 0.5226 - val_loss: 1.4514 - val_accuracy: 0.4920\n",
            "Epoch 7/10\n",
            "1547/1547 - 3s - loss: 1.3535 - accuracy: 0.5340 - val_loss: 1.4221 - val_accuracy: 0.5120\n",
            "Epoch 8/10\n",
            "1547/1547 - 3s - loss: 1.3216 - accuracy: 0.5470 - val_loss: 1.4019 - val_accuracy: 0.5080\n",
            "Epoch 9/10\n",
            "1547/1547 - 3s - loss: 1.2924 - accuracy: 0.5564 - val_loss: 1.3825 - val_accuracy: 0.5300\n",
            "Epoch 10/10\n",
            "1547/1547 - 3s - loss: 1.2649 - accuracy: 0.5672 - val_loss: 1.3620 - val_accuracy: 0.5140\n",
            "Model: \"sequential_24\"\n",
            "_________________________________________________________________\n",
            "Layer (type)                 Output Shape              Param #   \n",
            "=================================================================\n",
            "flatten_26 (Flatten)         (None, 3072)              0         \n",
            "_________________________________________________________________\n",
            "dense_65 (Dense)             (None, 255)               783615    \n",
            "_________________________________________________________________\n",
            "dense_66 (Dense)             (None, 10)                2560      \n",
            "=================================================================\n",
            "Total params: 786,175\n",
            "Trainable params: 786,175\n",
            "Non-trainable params: 0\n",
            "_________________________________________________________________\n",
            "313/313 [==============================] - 1s 2ms/step - loss: 1.3687 - accuracy: 0.5226\n"
          ],
          "name": "stdout"
        }
      ]
    },
    {
      "cell_type": "code",
      "metadata": {
        "colab": {
          "base_uri": "https://localhost:8080/"
        },
        "id": "4f_2Ms7pUl8H",
        "outputId": "091ef1ea-534c-45e3-ce42-2e1df3fe87e4"
      },
      "source": [
        "import tensorflow as tf\n",
        "import tensorflow.keras \n",
        "from tensorflow.keras import datasets\n",
        "from tensorflow.keras import layers\n",
        "from tensorflow.keras import models\n",
        "import matplotlib.pyplot as plt\n",
        "from tensorflow.keras.utils import to_categorical\n",
        "import numpy as np\n",
        "(X_train,y_train),(X_test,y_test)=datasets.cifar10.load_data()\n",
        "print(X_train.shape)\n",
        "X_train,X_test=X_train/255,X_test/255\n",
        "X_mean=np.mean(X_train)\n",
        "X_train=X_train-X_mean\n",
        "X_test=X_test-X_mean\n",
        "# X_train=X_train.reshape(X_train.shape[0],X_train.shape[1],X_train.shape[2],3)\n",
        "\n",
        "print(X_train.shape)\n",
        "y_train=tensorflow.keras.utils.to_categorical(y_train)\n",
        "y_test=tensorflow.keras.utils.to_categorical(y_test)\n",
        "model=models.Sequential()\n",
        "#############################################################\n",
        "model.add(layers.Conv2D(filters=32,kernel_size=(3,3),activation='relu'))\n",
        "model.add(layers.MaxPooling2D(pool_size=2,strides=2))\n",
        "model.add(layers.BatchNormalization())\n",
        "############################################################\n",
        "model.add(layers.Flatten())\n",
        "model.add(layers.Dense(units=255,activation='relu'))\n",
        "model.add(layers.Dense(units=10,activation='softmax'))\n",
        "model.compile(loss='CategoricalCrossentropy',optimizer='sgd',metrics=['accuracy'])\n",
        "model.fit(x=X_train,y=y_train,epochs=10,verbose=2,validation_split=0.01)\n",
        "model.summary()\n",
        "test_loss, test_accuracy=model.evaluate(X_test,y_test)"
      ],
      "execution_count": null,
      "outputs": [
        {
          "output_type": "stream",
          "text": [
            "(50000, 32, 32, 3)\n",
            "(50000, 32, 32, 3)\n",
            "Epoch 1/10\n",
            "1547/1547 - 4s - loss: 1.3281 - accuracy: 0.5322 - val_loss: 1.1487 - val_accuracy: 0.5920\n",
            "Epoch 2/10\n",
            "1547/1547 - 4s - loss: 0.9336 - accuracy: 0.6734 - val_loss: 0.9795 - val_accuracy: 0.6420\n",
            "Epoch 3/10\n",
            "1547/1547 - 4s - loss: 0.7388 - accuracy: 0.7425 - val_loss: 0.9750 - val_accuracy: 0.6560\n",
            "Epoch 4/10\n",
            "1547/1547 - 4s - loss: 0.5870 - accuracy: 0.7996 - val_loss: 0.9583 - val_accuracy: 0.6560\n",
            "Epoch 5/10\n",
            "1547/1547 - 4s - loss: 0.4519 - accuracy: 0.8492 - val_loss: 1.0323 - val_accuracy: 0.6740\n",
            "Epoch 6/10\n",
            "1547/1547 - 4s - loss: 0.3319 - accuracy: 0.8932 - val_loss: 1.0851 - val_accuracy: 0.6600\n",
            "Epoch 7/10\n",
            "1547/1547 - 4s - loss: 0.2356 - accuracy: 0.9286 - val_loss: 1.1278 - val_accuracy: 0.6740\n",
            "Epoch 8/10\n",
            "1547/1547 - 4s - loss: 0.1597 - accuracy: 0.9559 - val_loss: 1.3015 - val_accuracy: 0.6500\n",
            "Epoch 9/10\n",
            "1547/1547 - 4s - loss: 0.1047 - accuracy: 0.9766 - val_loss: 1.2979 - val_accuracy: 0.6580\n",
            "Epoch 10/10\n",
            "1547/1547 - 4s - loss: 0.0649 - accuracy: 0.9888 - val_loss: 1.3646 - val_accuracy: 0.6640\n",
            "Model: \"sequential_32\"\n",
            "_________________________________________________________________\n",
            "Layer (type)                 Output Shape              Param #   \n",
            "=================================================================\n",
            "conv2d_1 (Conv2D)            (None, 30, 30, 32)        896       \n",
            "_________________________________________________________________\n",
            "max_pooling2d (MaxPooling2D) (None, 15, 15, 32)        0         \n",
            "_________________________________________________________________\n",
            "batch_normalization (BatchNo (None, 15, 15, 32)        128       \n",
            "_________________________________________________________________\n",
            "flatten_33 (Flatten)         (None, 7200)              0         \n",
            "_________________________________________________________________\n",
            "dense_79 (Dense)             (None, 255)               1836255   \n",
            "_________________________________________________________________\n",
            "dense_80 (Dense)             (None, 10)                2560      \n",
            "=================================================================\n",
            "Total params: 1,839,839\n",
            "Trainable params: 1,839,775\n",
            "Non-trainable params: 64\n",
            "_________________________________________________________________\n",
            "313/313 [==============================] - 1s 2ms/step - loss: 1.3513 - accuracy: 0.6775\n"
          ],
          "name": "stdout"
        }
      ]
    },
    {
      "cell_type": "code",
      "metadata": {
        "colab": {
          "base_uri": "https://localhost:8080/"
        },
        "id": "5n31uC2QbRLj",
        "outputId": "0be19a16-d365-4634-b69b-1ea92bad029e"
      },
      "source": [
        "import tensorflow as tf\n",
        "import tensorflow.keras \n",
        "from tensorflow.keras import datasets\n",
        "from tensorflow.keras import layers\n",
        "from tensorflow.keras import models\n",
        "import matplotlib.pyplot as plt\n",
        "from tensorflow.keras.utils import to_categorical\n",
        "import numpy as np\n",
        "(X_train,y_train),(X_test,y_test)=datasets.mnist.load_data()\n",
        "print(X_train.shape)\n",
        "X_train,X_test=X_train/255,X_test/255\n",
        "X_mean=np.mean(X_train)\n",
        "X_train=X_train-X_mean\n",
        "X_test=X_test-X_mean\n",
        "X_train=X_train.reshape(X_train.shape[0],X_train.shape[1],X_train.shape[2],1)\n",
        "X_test=X_test.reshape(X_test.shape[0],X_test.shape[1],X_test.shape[2],1)\n",
        "print(X_train.shape)\n",
        "y_train=tensorflow.keras.utils.to_categorical(y_train)\n",
        "y_test=tensorflow.keras.utils.to_categorical(y_test)\n",
        "model=models.Sequential()\n",
        "#############################################################\n",
        "model.add(layers.Conv2D(filters=32,kernel_size=(3,3),activation='relu'))\n",
        "model.add(layers.MaxPooling2D(pool_size=2,strides=2))\n",
        "model.add(layers.BatchNormalization())\n",
        "############################################################\n",
        "model.add(layers.Flatten())\n",
        "model.add(layers.Dense(units=255,activation='relu'))\n",
        "model.add(layers.Dense(units=10,activation='softmax'))\n",
        "model.compile(loss='CategoricalCrossentropy',optimizer='sgd',metrics=['accuracy'])\n",
        "model.fit(x=X_train,y=y_train,epochs=10,verbose=2,validation_split=0.01)\n",
        "model.summary()\n",
        "test_loss, test_accuracy=model.evaluate(X_test,y_test)"
      ],
      "execution_count": null,
      "outputs": [
        {
          "output_type": "stream",
          "text": [
            "(60000, 28, 28)\n",
            "(60000, 28, 28, 1)\n",
            "Epoch 1/10\n",
            "1857/1857 - 4s - loss: 0.1426 - accuracy: 0.9575 - val_loss: 0.1261 - val_accuracy: 0.9683\n",
            "Epoch 2/10\n",
            "1857/1857 - 4s - loss: 0.0519 - accuracy: 0.9852 - val_loss: 0.0886 - val_accuracy: 0.9850\n",
            "Epoch 3/10\n",
            "1857/1857 - 4s - loss: 0.0332 - accuracy: 0.9909 - val_loss: 0.0876 - val_accuracy: 0.9867\n",
            "Epoch 4/10\n",
            "1857/1857 - 4s - loss: 0.0237 - accuracy: 0.9938 - val_loss: 0.0819 - val_accuracy: 0.9883\n",
            "Epoch 5/10\n",
            "1857/1857 - 4s - loss: 0.0173 - accuracy: 0.9958 - val_loss: 0.0908 - val_accuracy: 0.9850\n",
            "Epoch 6/10\n",
            "1857/1857 - 4s - loss: 0.0129 - accuracy: 0.9973 - val_loss: 0.0867 - val_accuracy: 0.9867\n",
            "Epoch 7/10\n",
            "1857/1857 - 4s - loss: 0.0098 - accuracy: 0.9984 - val_loss: 0.0868 - val_accuracy: 0.9883\n",
            "Epoch 8/10\n",
            "1857/1857 - 4s - loss: 0.0075 - accuracy: 0.9991 - val_loss: 0.0883 - val_accuracy: 0.9867\n",
            "Epoch 9/10\n",
            "1857/1857 - 4s - loss: 0.0060 - accuracy: 0.9995 - val_loss: 0.0884 - val_accuracy: 0.9883\n",
            "Epoch 10/10\n",
            "1857/1857 - 4s - loss: 0.0049 - accuracy: 0.9996 - val_loss: 0.0932 - val_accuracy: 0.9883\n",
            "Model: \"sequential_36\"\n",
            "_________________________________________________________________\n",
            "Layer (type)                 Output Shape              Param #   \n",
            "=================================================================\n",
            "conv2d_3 (Conv2D)            (None, 26, 26, 32)        320       \n",
            "_________________________________________________________________\n",
            "max_pooling2d_2 (MaxPooling2 (None, 13, 13, 32)        0         \n",
            "_________________________________________________________________\n",
            "batch_normalization_2 (Batch (None, 13, 13, 32)        128       \n",
            "_________________________________________________________________\n",
            "flatten_41 (Flatten)         (None, 5408)              0         \n",
            "_________________________________________________________________\n",
            "dense_90 (Dense)             (None, 255)               1379295   \n",
            "_________________________________________________________________\n",
            "dense_91 (Dense)             (None, 10)                2560      \n",
            "=================================================================\n",
            "Total params: 1,382,303\n",
            "Trainable params: 1,382,239\n",
            "Non-trainable params: 64\n",
            "_________________________________________________________________\n",
            "313/313 [==============================] - 1s 2ms/step - loss: 0.0364 - accuracy: 0.9891\n"
          ],
          "name": "stdout"
        }
      ]
    },
    {
      "cell_type": "markdown",
      "metadata": {
        "id": "DmmuWHIfr5gG"
      },
      "source": [
        "CategoricalCrossenClass"
      ]
    },
    {
      "cell_type": "code",
      "metadata": {
        "colab": {
          "base_uri": "https://localhost:8080/"
        },
        "id": "VNL1fu3Bo2Do",
        "outputId": "4204187e-0b02-4312-a434-ee0ed2ba3bfb"
      },
      "source": [
        "# tf.keras.losses.CategoricalCrossentropy(\n",
        "#     from_logits=False,\n",
        "#     label_smoothing=0,\n",
        "#     reduction=\"auto\",\n",
        "#     name=\"categorical_crossentropy\",\n",
        "# )"
      ],
      "execution_count": null,
      "outputs": [
        {
          "output_type": "execute_result",
          "data": {
            "text/plain": [
              "<tensorflow.python.keras.losses.CategoricalCrossentropy at 0x7f48e05175d0>"
            ]
          },
          "metadata": {
            "tags": []
          },
          "execution_count": 35
        }
      ]
    },
    {
      "cell_type": "markdown",
      "metadata": {
        "id": "ipJhxOqZr_ma"
      },
      "source": [
        "categorical_crossentropy function"
      ]
    },
    {
      "cell_type": "code",
      "metadata": {
        "id": "ZyWbFSPUpDUP"
      },
      "source": [
        "# tf.keras.losses.categorical_crossentropy(\n",
        "#     y_true, y_pred, from_logits=False, label_smoothing=0\n",
        "# )"
      ],
      "execution_count": null,
      "outputs": []
    },
    {
      "cell_type": "code",
      "metadata": {
        "id": "FERo4rVgsRxM"
      },
      "source": [
        "# y_true = [[0, 1, 0], [0, 0, 1]]\n",
        "# y_pred = [[0.05, 0.95, 0], [0.1, 0.8, 0.1]]\n",
        "# loss = tf.keras.losses.categorical_crossentropy(y_true, y_pred)\n",
        "# assert loss.shape == (2,)\n",
        "# loss.numpy()\n",
        "# array([0.0513, 2.303], dtype=float32)"
      ],
      "execution_count": null,
      "outputs": []
    },
    {
      "cell_type": "markdown",
      "metadata": {
        "id": "INPT29M2aQ_U"
      },
      "source": [
        "#Functional Model"
      ]
    },
    {
      "cell_type": "markdown",
      "metadata": {
        "id": "6aJ3qgRzrBPJ"
      },
      "source": [
        "##MNIST"
      ]
    },
    {
      "cell_type": "code",
      "metadata": {
        "colab": {
          "base_uri": "https://localhost:8080/"
        },
        "id": "LZZI9S-gWLLh",
        "outputId": "6092fae5-4637-4b3c-eddd-8c0c3ef917e4"
      },
      "source": [
        "import tensorflow as tf\n",
        "import tensorflow.keras \n",
        "from tensorflow.keras import models\n",
        "from tensorflow.keras import layers\n",
        "from tensorflow.keras import datasets\n",
        "from tensorflow.keras.layers import Input\n",
        "from tensorflow.keras.models import Model\n",
        "\n",
        "(X_train, y_train),(X_test, y_test)= datasets.mnist.load_data()\n",
        "X_train,X_test=X_train/255,X_test/255\n",
        "X_mean=np.mean(X_train)\n",
        "X_train=X_train-X_mean\n",
        "X_test=X_test-X_mean\n",
        "y_train=to_categorical(y_train)\n",
        "y_test=to_categorical(y_test)\n",
        "\n",
        "print(X_train.shape)\n",
        "input_layer=Input(shape=(X_train.shape[1],X_train.shape[2]))\n",
        "x=layers.Flatten()(input_layer)\n",
        "x=layers.Dense(units=255,activation='relu')(x)\n",
        "output_layer=layers.Dense(units=10,activation='softmax')(x)\n",
        "model=Model(inputs=input_layer,outputs=output_layer)\n",
        "\n",
        "\n",
        "\n",
        "model.compile(loss='CategoricalCrossentropy',optimizer='sgd',metrics=['accuracy'])\n",
        "model.fit(x=X_train,y=y_train,epochs=5,verbose=2,validation_split=0.01)\n",
        "model.summary()\n",
        "test_loss, test_accuracy=model.evaluate(X_test,y_test)\n"
      ],
      "execution_count": null,
      "outputs": [
        {
          "output_type": "stream",
          "text": [
            "(60000, 28, 28)\n",
            "Epoch 1/5\n",
            "1857/1857 - 3s - loss: 0.6290 - accuracy: 0.8429 - val_loss: 0.2911 - val_accuracy: 0.9350\n",
            "Epoch 2/5\n",
            "1857/1857 - 3s - loss: 0.3277 - accuracy: 0.9073 - val_loss: 0.2625 - val_accuracy: 0.9383\n",
            "Epoch 3/5\n",
            "1857/1857 - 3s - loss: 0.2789 - accuracy: 0.9209 - val_loss: 0.2382 - val_accuracy: 0.9517\n",
            "Epoch 4/5\n",
            "1857/1857 - 3s - loss: 0.2482 - accuracy: 0.9302 - val_loss: 0.2216 - val_accuracy: 0.9517\n",
            "Epoch 5/5\n",
            "1857/1857 - 3s - loss: 0.2254 - accuracy: 0.9365 - val_loss: 0.2191 - val_accuracy: 0.9500\n",
            "Model: \"model_9\"\n",
            "_________________________________________________________________\n",
            "Layer (type)                 Output Shape              Param #   \n",
            "=================================================================\n",
            "input_20 (InputLayer)        [(None, 28, 28)]          0         \n",
            "_________________________________________________________________\n",
            "flatten_46 (Flatten)         (None, 784)               0         \n",
            "_________________________________________________________________\n",
            "dense_100 (Dense)            (None, 255)               200175    \n",
            "_________________________________________________________________\n",
            "dense_101 (Dense)            (None, 10)                2560      \n",
            "=================================================================\n",
            "Total params: 202,735\n",
            "Trainable params: 202,735\n",
            "Non-trainable params: 0\n",
            "_________________________________________________________________\n",
            "313/313 [==============================] - 1s 2ms/step - loss: 0.2110 - accuracy: 0.9390\n"
          ],
          "name": "stdout"
        }
      ]
    },
    {
      "cell_type": "code",
      "metadata": {
        "colab": {
          "base_uri": "https://localhost:8080/"
        },
        "id": "Sj2ac2j-bNCD",
        "outputId": "ba1d26f9-e0e1-46e6-f1be-52ebb0f85001"
      },
      "source": [
        "import tensorflow as tf\n",
        "import tensorflow.keras \n",
        "from tensorflow.keras import models\n",
        "from tensorflow.keras import layers\n",
        "from tensorflow.keras import datasets\n",
        "from tensorflow.keras.layers import Input\n",
        "from tensorflow.keras.models import Model\n",
        "\n",
        "(X_train, y_train),(X_test, y_test)= datasets.mnist.load_data()\n",
        "print(X_train.shape)\n",
        "X_train,X_test=X_train/255,X_test/255\n",
        "X_mean=np.mean(X_train)\n",
        "X_train=X_train-X_mean\n",
        "X_test=X_test-X_mean\n",
        "y_train=to_categorical(y_train)\n",
        "y_test=to_categorical(y_test)\n",
        "X_test=X_test.reshape(X_test.shape[0],X_test.shape[1],X_test.shape[2],1)\n",
        "X_train=X_train.reshape(X_train.shape[0],X_train.shape[1],X_train.shape[2],1)\n",
        "print(X_train.shape)\n",
        "input_layer=Input(shape=(X_train.shape[1],X_train.shape[2],X_train.shape[3]))\n",
        "x=layers.Conv2D(filters=28,kernel_size=(3,3),activation='relu')(input_layer)\n",
        "x=layers.MaxPooling2D(pool_size=2,strides=2)(x)\n",
        "x=layers.BatchNormalization()(x)\n",
        "x=layers.Flatten()(x)\n",
        "x=layers.Dense(units=256,activation='relu')(x)\n",
        "output_layer=layers.Dense(units=10,activation='softmax')(x)\n",
        "model=Model(inputs=input_layer,outputs=output_layer)\n",
        "model.compile(loss='CategoricalCrossentropy',optimizer='sgd',metrics=['accuracy'])\n",
        "model.fit(x=X_train,y=y_train,epochs=5,verbose=2)\n",
        "model.summary()\n",
        "test_loss, test_accuracy=model.evaluate(X_test,y_test)"
      ],
      "execution_count": null,
      "outputs": [
        {
          "output_type": "stream",
          "text": [
            "(60000, 28, 28)\n",
            "(60000, 28, 28, 1)\n",
            "Epoch 1/5\n",
            "1875/1875 - 3s - loss: 0.1475 - accuracy: 0.9561\n",
            "Epoch 2/5\n",
            "1875/1875 - 3s - loss: 0.0540 - accuracy: 0.9846\n",
            "Epoch 3/5\n",
            "1875/1875 - 3s - loss: 0.0363 - accuracy: 0.9902\n",
            "Epoch 4/5\n",
            "1875/1875 - 3s - loss: 0.0259 - accuracy: 0.9931\n",
            "Epoch 5/5\n",
            "1875/1875 - 3s - loss: 0.0196 - accuracy: 0.9952\n",
            "Model: \"model_7\"\n",
            "_________________________________________________________________\n",
            "Layer (type)                 Output Shape              Param #   \n",
            "=================================================================\n",
            "input_18 (InputLayer)        [(None, 28, 28, 1)]       0         \n",
            "_________________________________________________________________\n",
            "conv2d_8 (Conv2D)            (None, 26, 26, 28)        280       \n",
            "_________________________________________________________________\n",
            "max_pooling2d_7 (MaxPooling2 (None, 13, 13, 28)        0         \n",
            "_________________________________________________________________\n",
            "batch_normalization_6 (Batch (None, 13, 13, 28)        112       \n",
            "_________________________________________________________________\n",
            "flatten_44 (Flatten)         (None, 4732)              0         \n",
            "_________________________________________________________________\n",
            "dense_96 (Dense)             (None, 256)               1211648   \n",
            "_________________________________________________________________\n",
            "dense_97 (Dense)             (None, 10)                2570      \n",
            "=================================================================\n",
            "Total params: 1,214,610\n",
            "Trainable params: 1,214,554\n",
            "Non-trainable params: 56\n",
            "_________________________________________________________________\n",
            "313/313 [==============================] - 1s 2ms/step - loss: 0.0380 - accuracy: 0.9872\n"
          ],
          "name": "stdout"
        }
      ]
    },
    {
      "cell_type": "markdown",
      "metadata": {
        "id": "aiY0Gl9JrI2e"
      },
      "source": [
        "##CIFAR-10"
      ]
    },
    {
      "cell_type": "code",
      "metadata": {
        "colab": {
          "base_uri": "https://localhost:8080/"
        },
        "id": "puN1-z87qY5z",
        "outputId": "73b2a1c3-074a-4737-e669-0ee96c6fbfa0"
      },
      "source": [
        "import tensorflow as tf\n",
        "import tensorflow.keras \n",
        "from tensorflow.keras import datasets\n",
        "from tensorflow.keras import layers\n",
        "from tensorflow.keras import models\n",
        "from tensorflow.keras.models import Model\n",
        "from tensorflow.keras.layers import Input\n",
        "from tensorflow.keras.utils import to_categorical\n",
        "import numpy as np\n",
        "\n",
        "(X_train,y_train),(X_test,y_test)=datasets.cifar10.load_data()\n",
        "X_train, X_test=X_train/255,X_test/255\n",
        "X_mean=np.mean(X_train)\n",
        "X_train, X_test=X_train-X_mean, X_test-X_mean\n",
        "y_train=to_categorical(y_train)\n",
        "y_test=to_categorical(y_test)\n",
        "\n",
        "\n",
        "input_layer=Input(shape=(X_train.shape[1],X_train.shape[2],X_train.shape[3]))\n",
        "x=layers.Flatten()(input_layer)\n",
        "x=layers.Dense(units=512,activation='relu')(x)\n",
        "x=layers.Dense(units=256,activation='relu')(x)\n",
        "output_layer=layers.Dense(units=10,activation='softmax')(x)\n",
        "model=Model(inputs=input_layer,outputs=output_layer)\n",
        "\n",
        "model.compile(loss='CategoricalCrossentropy',optimizer='sgd',metrics=['accuracy'])\n",
        "model.fit(x=X_train,y=y_train,epochs=5,verbose=2,validation_split=0.01)\n",
        "model.summary()\n",
        "test_loss, test_accuracy=model.evaluate(X_test,y_test)"
      ],
      "execution_count": null,
      "outputs": [
        {
          "output_type": "stream",
          "text": [
            "Epoch 1/5\n",
            "1547/1547 - 14s - loss: 1.8153 - accuracy: 0.3665 - val_loss: 1.6709 - val_accuracy: 0.4300\n",
            "Epoch 2/5\n",
            "1547/1547 - 13s - loss: 1.5705 - accuracy: 0.4521 - val_loss: 1.5434 - val_accuracy: 0.4700\n",
            "Epoch 3/5\n",
            "1547/1547 - 13s - loss: 1.4705 - accuracy: 0.4891 - val_loss: 1.4653 - val_accuracy: 0.4980\n",
            "Epoch 4/5\n",
            "1547/1547 - 13s - loss: 1.3950 - accuracy: 0.5162 - val_loss: 1.4323 - val_accuracy: 0.4760\n",
            "Epoch 5/5\n",
            "1547/1547 - 13s - loss: 1.3302 - accuracy: 0.5387 - val_loss: 1.4046 - val_accuracy: 0.4980\n",
            "Model: \"model_4\"\n",
            "_________________________________________________________________\n",
            "Layer (type)                 Output Shape              Param #   \n",
            "=================================================================\n",
            "input_6 (InputLayer)         [(None, 32, 32, 3)]       0         \n",
            "_________________________________________________________________\n",
            "flatten_5 (Flatten)          (None, 3072)              0         \n",
            "_________________________________________________________________\n",
            "dense_11 (Dense)             (None, 512)               1573376   \n",
            "_________________________________________________________________\n",
            "dense_12 (Dense)             (None, 256)               131328    \n",
            "_________________________________________________________________\n",
            "dense_13 (Dense)             (None, 10)                2570      \n",
            "=================================================================\n",
            "Total params: 1,707,274\n",
            "Trainable params: 1,707,274\n",
            "Non-trainable params: 0\n",
            "_________________________________________________________________\n",
            "313/313 [==============================] - 2s 5ms/step - loss: 1.3867 - accuracy: 0.5126\n"
          ],
          "name": "stdout"
        }
      ]
    },
    {
      "cell_type": "code",
      "metadata": {
        "colab": {
          "base_uri": "https://localhost:8080/"
        },
        "id": "ikXqUyGognse",
        "outputId": "def3b5ce-7a71-4c3b-c18e-b6c39cd41c69"
      },
      "source": [
        "import tensorflow as tf\n",
        "import tensorflow.keras \n",
        "from tensorflow.keras import datasets\n",
        "from tensorflow.keras import layers\n",
        "from tensorflow.keras import models\n",
        "from tensorflow.keras.models import Model\n",
        "from tensorflow.keras.layers import Input\n",
        "from tensorflow.keras.utils import to_categorical\n",
        "import numpy as np\n",
        "\n",
        "(X_train,y_train),(X_test,y_test)=datasets.cifar10.load_data()\n",
        "X_train, X_test=X_train/255,X_test/255\n",
        "X_mean=np.mean(X_train)\n",
        "X_train, X_test=X_train-X_mean, X_test-X_mean\n",
        "y_train=to_categorical(y_train)\n",
        "y_test=to_categorical(y_test)\n",
        "\n",
        "\n",
        "input_layer=Input(shape=(X_train.shape[1],X_train.shape[2],X_train.shape[3]))\n",
        "x=layers.Conv2D(filters=32,kernel_size=(3,3),activation='relu')(input_layer)\n",
        "x=layers.MaxPooling2D(pool_size=2,strides=2)(x)\n",
        "X=layers.BatchNormalization()(x)\n",
        "x=layers.Flatten()(x)\n",
        "x=layers.Dense(units=256,activation='relu')(x)\n",
        "output_layer=layers.Dense(units=10,activation='softmax')(x)\n",
        "model=Model(inputs=input_layer,outputs=output_layer)\n",
        "model.compile(loss='CategoricalCrossentropy',metrics=['accuracy'],optimizer='sgd')\n",
        "model.fit(x=X_train,y=y_train,epochs=5,verbose=2)\n",
        "model.summary()\n",
        "test_loss,test_accuracy=model.evaluate(X_test,y_test) "
      ],
      "execution_count": null,
      "outputs": [
        {
          "output_type": "stream",
          "text": [
            "Epoch 1/5\n",
            "1563/1563 - 48s - loss: 1.7953 - accuracy: 0.3707\n",
            "Epoch 2/5\n",
            "1563/1563 - 47s - loss: 1.4272 - accuracy: 0.4981\n",
            "Epoch 3/5\n",
            "1563/1563 - 47s - loss: 1.2682 - accuracy: 0.5540\n",
            "Epoch 4/5\n",
            "1563/1563 - 47s - loss: 1.1855 - accuracy: 0.5851\n",
            "Epoch 5/5\n",
            "1563/1563 - 48s - loss: 1.1221 - accuracy: 0.6077\n",
            "Model: \"model_6\"\n",
            "_________________________________________________________________\n",
            "Layer (type)                 Output Shape              Param #   \n",
            "=================================================================\n",
            "input_8 (InputLayer)         [(None, 32, 32, 3)]       0         \n",
            "_________________________________________________________________\n",
            "conv2d_1 (Conv2D)            (None, 30, 30, 32)        896       \n",
            "_________________________________________________________________\n",
            "max_pooling2d_1 (MaxPooling2 (None, 15, 15, 32)        0         \n",
            "_________________________________________________________________\n",
            "flatten_7 (Flatten)          (None, 7200)              0         \n",
            "_________________________________________________________________\n",
            "dense_16 (Dense)             (None, 256)               1843456   \n",
            "_________________________________________________________________\n",
            "dense_17 (Dense)             (None, 10)                2570      \n",
            "=================================================================\n",
            "Total params: 1,846,922\n",
            "Trainable params: 1,846,922\n",
            "Non-trainable params: 0\n",
            "_________________________________________________________________\n",
            "313/313 [==============================] - 3s 10ms/step - loss: 1.2159 - accuracy: 0.5657\n"
          ],
          "name": "stdout"
        }
      ]
    },
    {
      "cell_type": "markdown",
      "metadata": {
        "id": "lneBV5NcyP84"
      },
      "source": [
        "#Class Model"
      ]
    },
    {
      "cell_type": "markdown",
      "metadata": {
        "id": "pUpHLAesyfEJ"
      },
      "source": [
        "##MNIST"
      ]
    },
    {
      "cell_type": "code",
      "metadata": {
        "colab": {
          "base_uri": "https://localhost:8080/"
        },
        "id": "t8hoNNz8k1QR",
        "outputId": "fe85f8ee-9085-40e5-db5d-535c03196507"
      },
      "source": [
        "import tensorflow as tf\n",
        "import tensorflow.keras \n",
        "from tensorflow.keras import datasets\n",
        "from tensorflow.keras import layers\n",
        "from tensorflow.keras import models\n",
        "from tensorflow.keras.models import Model\n",
        "from tensorflow.keras.layers import Input\n",
        "from tensorflow.keras.utils import to_categorical\n",
        "import numpy as np\n",
        "\n",
        "class Network(Model):\n",
        "  def __init__(self):\n",
        "    super(Network,self).__init__()\n",
        "    self.flatten=layers.Flatten()\n",
        "    self.layer_1=layers.Dense(units=256,activation='relu')\n",
        "    self.layer_2=layers.Dense(units=256,activation='relu')\n",
        "    self.out_layer=layers.Dense(units=10,activation='softmax')\n",
        "\n",
        "  def call(self,x):\n",
        "    x=self.flatten(x)\n",
        "    x=self.layer_1(x)\n",
        "    x=self.layer_2(x)\n",
        "    predict=self.out_layer(x)\n",
        "    return predict\n",
        "\n",
        "  def summary(self):\n",
        "    x=Input(shape=(28,28))\n",
        "    model=Model(inputs=x,outputs=self.call(x))\n",
        "    return model.summary()\n",
        "\n",
        "\n",
        "if __name__ == '__main__':\n",
        "    sub = Network()\n",
        "    sub.summary()\n",
        "\n",
        "(X_train,y_train),(X_test,y_test)=datasets.mnist.load_data()\n",
        "X_train,X_test=X_train/255,X_test/255\n",
        "X_mean=np.mean(X_train)\n",
        "X_train,X_test=X_train-X_mean,X_test-X_mean\n",
        "y_test=to_categorical(y_test)\n",
        "y_train=to_categorical(y_train)\n",
        "model=Network()\n",
        "\n",
        "\n",
        "\n",
        "model.compile(loss='CategoricalCrossentropy',metrics=['accuracy'],optimizer='sgd')\n",
        "model.fit(x=X_train,y=y_train,epochs=1,verbose=1)\n",
        "model.summary()\n",
        "test_loss,test_accuracy= model.evaluate(X_test,y_test)\n"
      ],
      "execution_count": 37,
      "outputs": [
        {
          "output_type": "stream",
          "text": [
            "1875/1875 [==============================] - 8s 4ms/step - loss: 0.6117 - accuracy: 0.8412\n",
            "Model: \"model_23\"\n",
            "_________________________________________________________________\n",
            "Layer (type)                 Output Shape              Param #   \n",
            "=================================================================\n",
            "input_24 (InputLayer)        [(None, 28, 28)]          0         \n",
            "_________________________________________________________________\n",
            "flatten_33 (Flatten)         (None, 784)               0         \n",
            "_________________________________________________________________\n",
            "dense_99 (Dense)             (None, 256)               200960    \n",
            "_________________________________________________________________\n",
            "dense_100 (Dense)            (None, 256)               65792     \n",
            "_________________________________________________________________\n",
            "dense_101 (Dense)            (None, 10)                2570      \n",
            "=================================================================\n",
            "Total params: 269,322\n",
            "Trainable params: 269,322\n",
            "Non-trainable params: 0\n",
            "_________________________________________________________________\n",
            "313/313 [==============================] - 1s 2ms/step - loss: 0.2957 - accuracy: 0.9153\n"
          ],
          "name": "stdout"
        }
      ]
    },
    {
      "cell_type": "code",
      "metadata": {
        "colab": {
          "base_uri": "https://localhost:8080/"
        },
        "id": "rptztXZnwjaD",
        "outputId": "1bf33959-0c62-471f-ea2d-0b3c0bf47178"
      },
      "source": [
        "import tensorflow as tf\n",
        "import tensorflow.keras \n",
        "from tensorflow.keras import datasets\n",
        "from tensorflow.keras import layers\n",
        "from tensorflow.keras import models\n",
        "from tensorflow.keras.models import Model\n",
        "from tensorflow.keras.layers import Input\n",
        "from tensorflow.keras.utils import to_categorical\n",
        "import numpy as np\n",
        "\n",
        "class Network(Model):\n",
        "  def __init__(self):\n",
        "    super(Network,self).__init__()\n",
        "    self.con2d=layers.Conv2D(filters=28,kernel_size=(3,3),activation='relu')\n",
        "    self.maxpooling2d=layers.MaxPooling2D(pool_size=2,strides=2)\n",
        "    self.batchnormalization=layers.BatchNormalization()\n",
        "    self.flatten=layers.Flatten()\n",
        "    self.layer_1=layers.Dense(units=256,activation='relu')\n",
        "    self.layer_2=layers.Dense(units=256,activation='relu')\n",
        "    self.out_layer=layers.Dense(units=10,activation='softmax')\n",
        "\n",
        "  def call(self,x):\n",
        "    x=self.con2d(x)\n",
        "    x=self.maxpooling2d(x)\n",
        "    x=self.batchnormalization(x)\n",
        "    x=self.flatten(x)\n",
        "    x=self.layer_1(x)\n",
        "    x=self.layer_2(x)\n",
        "    predict=self.out_layer(x)\n",
        "    return predict\n",
        "\n",
        "  def summary(self):\n",
        "    x=Input(shape=(28,28,1))\n",
        "    model=Model(inputs=x,outputs=self.call(x))\n",
        "    return model.summary()\n",
        "\n",
        "if __name__ == '__main__':\n",
        "    sub = Network()\n",
        "    sub.summary()\n",
        "\n",
        "(X_train,y_train),(X_test,y_test)=datasets.mnist.load_data()\n",
        "X_train,X_test=X_train/255,X_test/255\n",
        "X_mean=np.mean(X_train)\n",
        "X_train,X_test=X_train-X_mean,X_test-X_mean\n",
        "X_train=X_train.reshape(X_train.shape[0],X_train.shape[1],X_train.shape[2],1)\n",
        "X_test=X_test.reshape(X_test.shape[0],X_test.shape[1],X_test.shape[2],1)\n",
        "y_test=to_categorical(y_test)\n",
        "y_train=to_categorical(y_train)\n",
        "model=Network()\n",
        "\n",
        "\n",
        "\n",
        "model.compile(loss='CategoricalCrossentropy',metrics=['accuracy'],optimizer='sgd')\n",
        "model.fit(x=X_train,y=y_train,epochs=1,verbose=1)\n",
        "model.summary()\n",
        "test_loss,test_accuracy= model.evaluate(X_test,y_test)\n",
        "\n",
        "\n",
        "\n",
        "\n",
        "\n",
        "\n",
        "\n",
        "\n"
      ],
      "execution_count": 39,
      "outputs": [
        {
          "output_type": "stream",
          "text": [
            "Model: \"model_25\"\n",
            "_________________________________________________________________\n",
            "Layer (type)                 Output Shape              Param #   \n",
            "=================================================================\n",
            "input_26 (InputLayer)        [(None, 28, 28, 1)]       0         \n",
            "_________________________________________________________________\n",
            "conv2d_17 (Conv2D)           (None, 26, 26, 28)        280       \n",
            "_________________________________________________________________\n",
            "max_pooling2d_17 (MaxPooling (None, 13, 13, 28)        0         \n",
            "_________________________________________________________________\n",
            "batch_normalization_17 (Batc (None, 13, 13, 28)        112       \n",
            "_________________________________________________________________\n",
            "flatten_36 (Flatten)         (None, 4732)              0         \n",
            "_________________________________________________________________\n",
            "dense_108 (Dense)            (None, 256)               1211648   \n",
            "_________________________________________________________________\n",
            "dense_109 (Dense)            (None, 256)               65792     \n",
            "_________________________________________________________________\n",
            "dense_110 (Dense)            (None, 10)                2570      \n",
            "=================================================================\n",
            "Total params: 1,280,402\n",
            "Trainable params: 1,280,346\n",
            "Non-trainable params: 56\n",
            "_________________________________________________________________\n",
            "1875/1875 [==============================] - 56s 30ms/step - loss: 0.1651 - accuracy: 0.9512\n",
            "Model: \"model_26\"\n",
            "_________________________________________________________________\n",
            "Layer (type)                 Output Shape              Param #   \n",
            "=================================================================\n",
            "input_27 (InputLayer)        [(None, 28, 28, 1)]       0         \n",
            "_________________________________________________________________\n",
            "conv2d_18 (Conv2D)           (None, 26, 26, 28)        280       \n",
            "_________________________________________________________________\n",
            "max_pooling2d_18 (MaxPooling (None, 13, 13, 28)        0         \n",
            "_________________________________________________________________\n",
            "batch_normalization_18 (Batc (None, 13, 13, 28)        112       \n",
            "_________________________________________________________________\n",
            "flatten_37 (Flatten)         (None, 4732)              0         \n",
            "_________________________________________________________________\n",
            "dense_111 (Dense)            (None, 256)               1211648   \n",
            "_________________________________________________________________\n",
            "dense_112 (Dense)            (None, 256)               65792     \n",
            "_________________________________________________________________\n",
            "dense_113 (Dense)            (None, 10)                2570      \n",
            "=================================================================\n",
            "Total params: 1,280,402\n",
            "Trainable params: 1,280,346\n",
            "Non-trainable params: 56\n",
            "_________________________________________________________________\n",
            "313/313 [==============================] - 3s 10ms/step - loss: 0.0658 - accuracy: 0.9791\n"
          ],
          "name": "stdout"
        }
      ]
    },
    {
      "cell_type": "markdown",
      "metadata": {
        "id": "jsEszA7lymcq"
      },
      "source": [
        "##CIFAR10"
      ]
    },
    {
      "cell_type": "code",
      "metadata": {
        "id": "8RPBAljVeEDF",
        "outputId": "864ece08-9322-400d-9ea0-59fea2b22936",
        "colab": {
          "base_uri": "https://localhost:8080/"
        }
      },
      "source": [
        "import tensorflow as tf\n",
        "import tensorflow.keras \n",
        "from tensorflow.keras import datasets\n",
        "from tensorflow.keras import layers\n",
        "from tensorflow.keras import models\n",
        "from tensorflow.keras.models import Model\n",
        "from tensorflow.keras.layers import Input\n",
        "from tensorflow.keras.utils import to_categorical\n",
        "import numpy as np\n",
        "\n",
        "class Network(Model):\n",
        "  def __init__(self):\n",
        "    super(Network,self).__init__()\n",
        "    self.flatten=layers.Flatten()\n",
        "    self.layer_1=layers.Dense(units=256,activation='relu')\n",
        "    self.layer_2=layers.Dense(units=256,activation='relu')\n",
        "    self.out_layer=layers.Dense(units=10,activation='softmax')\n",
        "\n",
        "  def call(self,x):\n",
        "    x=self.flatten(x)\n",
        "    x=self.layer_1(x)\n",
        "    x=self.layer_2(x)\n",
        "    predict=self.out_layer(x)\n",
        "    return predict\n",
        "\n",
        "  def summary(self):\n",
        "    x=Input(shape=(32,32,3))\n",
        "    model=Model(inputs=x,outputs=self.call(x))\n",
        "    return model.summary()\n",
        "\n",
        "if __name__ == '__main__':   \n",
        "  (X_train,y_train),(X_test,y_test)=datasets.cifar10.load_data()\n",
        "  X_train,X_test=X_train/255,X_test/255\n",
        "  X_mean=np.mean(X_train)\n",
        "  X_train,X_test=X_train-X_mean,X_test-X_mean\n",
        "  y_test=to_categorical(y_test)\n",
        "  y_train=to_categorical(y_train)\n",
        "  model=Network()\n",
        "\n",
        "\n",
        "\n",
        "  model.compile(loss='CategoricalCrossentropy',metrics=['accuracy'],optimizer='sgd')\n",
        "  model.fit(x=X_train,y=y_train,epochs=1,verbose=1)\n",
        "  model.summary()\n",
        "  test_loss,test_accuracy= model.evaluate(X_test,y_test)\n"
      ],
      "execution_count": 2,
      "outputs": [
        {
          "output_type": "stream",
          "text": [
            "1563/1563 [==============================] - 6s 4ms/step - loss: 1.8303 - accuracy: 0.3597\n",
            "Model: \"model_2\"\n",
            "_________________________________________________________________\n",
            "Layer (type)                 Output Shape              Param #   \n",
            "=================================================================\n",
            "input_3 (InputLayer)         [(None, 32, 32, 3)]       0         \n",
            "_________________________________________________________________\n",
            "flatten_2 (Flatten)          (None, 3072)              0         \n",
            "_________________________________________________________________\n",
            "dense_6 (Dense)              (None, 256)               786688    \n",
            "_________________________________________________________________\n",
            "dense_7 (Dense)              (None, 256)               65792     \n",
            "_________________________________________________________________\n",
            "dense_8 (Dense)              (None, 10)                2570      \n",
            "=================================================================\n",
            "Total params: 855,050\n",
            "Trainable params: 855,050\n",
            "Non-trainable params: 0\n",
            "_________________________________________________________________\n",
            "313/313 [==============================] - 1s 3ms/step - loss: 1.6460 - accuracy: 0.4265\n",
            "__main__\n"
          ],
          "name": "stdout"
        }
      ]
    },
    {
      "cell_type": "code",
      "metadata": {
        "id": "ReYPaSotf4kD"
      },
      "source": [
        "from google.colab import drive\n",
        "drive.mount('/content/drive')"
      ],
      "execution_count": null,
      "outputs": []
    },
    {
      "cell_type": "code",
      "metadata": {
        "id": "RX1udsttyonw",
        "outputId": "3000f6a6-dca0-420f-eef7-d1b090e54f21",
        "colab": {
          "base_uri": "https://localhost:8080/"
        }
      },
      "source": [
        "import tensorflow as tf\n",
        "import tensorflow.keras \n",
        "from tensorflow.keras import datasets\n",
        "from tensorflow.keras import layers\n",
        "from tensorflow.keras import models\n",
        "from tensorflow.keras.models import Model\n",
        "from tensorflow.keras.layers import Input\n",
        "from tensorflow.keras.utils import to_categorical\n",
        "import numpy as np\n",
        "\n",
        "class Network(Model):\n",
        "  def __init__(self):\n",
        "    super(Network,self).__init__()\n",
        "    self.con2d=layers.Conv2D(filters=36,kernel_size=(3,3),activation='relu')\n",
        "    self.maxpooling2d=layers.MaxPooling2D(pool_size=2,strides=2)\n",
        "    self.batchnormalization=layers.BatchNormalization()\n",
        "    self.flatten=layers.Flatten()\n",
        "    self.layer_1=layers.Dense(units=256,activation='relu')\n",
        "    self.layer_2=layers.Dense(units=256,activation='relu')\n",
        "    self.out_layer=layers.Dense(units=10,activation='softmax')\n",
        "\n",
        "  def call(self,x):\n",
        "    x=self.con2d(x)\n",
        "    x=self.maxpooling2d(x)\n",
        "    x=self.batchnormalization(x)\n",
        "    x=self.flatten(x)\n",
        "    x=self.layer_1(x)\n",
        "    x=self.layer_2(x)\n",
        "    predict=self.out_layer(x)\n",
        "    return predict\n",
        "\n",
        "  def summary(self):\n",
        "    x=Input(shape=(32,32,3))\n",
        "    model=Model(inputs=x,outputs=self.call(x))\n",
        "    return model.summary()\n",
        "\n",
        "if __name__ == '__main__':\n",
        "    sub = Network()\n",
        "    sub.summary()\n",
        "    \n",
        "(X_train,y_train),(X_test,y_test)=datasets.cifar10.load_data()\n",
        "X_train,X_test=X_train/255,X_test/255\n",
        "X_mean=np.mean(X_train)\n",
        "X_train,X_test=X_train-X_mean,X_test-X_mean\n",
        "y_test=to_categorical(y_test)\n",
        "y_train=to_categorical(y_train)\n",
        "model=Network()\n",
        "\n",
        "\n",
        "\n",
        "model.compile(loss='CategoricalCrossentropy',metrics=['accuracy'],optimizer='sgd')\n",
        "model.fit(x=X_train,y=y_train,epochs=1,verbose=1)\n",
        "model.summary()\n",
        "test_loss,test_accuracy= model.evaluate(X_test,y_test)\n",
        "\n",
        "\n",
        "\n",
        "\n",
        "\n",
        "\n",
        "\n"
      ],
      "execution_count": 5,
      "outputs": [
        {
          "output_type": "stream",
          "text": [
            "1563/1563 [==============================] - 75s 48ms/step - loss: 1.3613 - accuracy: 0.5138\n",
            "Model: \"model_1\"\n",
            "_________________________________________________________________\n",
            "Layer (type)                 Output Shape              Param #   \n",
            "=================================================================\n",
            "input_2 (InputLayer)         [(None, 32, 32, 3)]       0         \n",
            "_________________________________________________________________\n",
            "conv2d_4 (Conv2D)            (None, 30, 30, 36)        1008      \n",
            "_________________________________________________________________\n",
            "max_pooling2d_4 (MaxPooling2 (None, 15, 15, 36)        0         \n",
            "_________________________________________________________________\n",
            "batch_normalization_4 (Batch (None, 15, 15, 36)        144       \n",
            "_________________________________________________________________\n",
            "flatten_4 (Flatten)          (None, 8100)              0         \n",
            "_________________________________________________________________\n",
            "dense_12 (Dense)             (None, 256)               2073856   \n",
            "_________________________________________________________________\n",
            "dense_13 (Dense)             (None, 256)               65792     \n",
            "_________________________________________________________________\n",
            "dense_14 (Dense)             (None, 10)                2570      \n",
            "=================================================================\n",
            "Total params: 2,143,370\n",
            "Trainable params: 2,143,298\n",
            "Non-trainable params: 72\n",
            "_________________________________________________________________\n",
            "313/313 [==============================] - 4s 13ms/step - loss: 1.1425 - accuracy: 0.5949\n"
          ],
          "name": "stdout"
        }
      ]
    },
    {
      "cell_type": "code",
      "metadata": {
        "id": "cBU3UQR40rqi"
      },
      "source": [
        "print(__name__)"
      ],
      "execution_count": null,
      "outputs": []
    }
  ]
}