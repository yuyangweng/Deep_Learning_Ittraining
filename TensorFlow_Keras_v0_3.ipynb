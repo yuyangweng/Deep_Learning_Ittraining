{
  "nbformat": 4,
  "nbformat_minor": 0,
  "metadata": {
    "accelerator": "GPU",
    "colab": {
      "name": "TensorFlow_Keras_introdution_v0_3.ipynb",
      "provenance": [],
      "collapsed_sections": [],
      "toc_visible": true,
      "include_colab_link": true
    },
    "kernelspec": {
      "display_name": "Python 3",
      "language": "python",
      "name": "python3"
    },
    "language_info": {
      "codemirror_mode": {
        "name": "ipython",
        "version": 3
      },
      "file_extension": ".py",
      "mimetype": "text/x-python",
      "name": "python",
      "nbconvert_exporter": "python",
      "pygments_lexer": "ipython3",
      "version": "3.8.5"
    }
  },
  "cells": [
    {
      "cell_type": "markdown",
      "metadata": {
        "id": "view-in-github",
        "colab_type": "text"
      },
      "source": [
        "<a href=\"https://colab.research.google.com/github/yuyangweng/Tensorflow-Ittraining/blob/main/TensorFlow_Keras_introdution_v0_3.ipynb\" target=\"_parent\"><img src=\"https://colab.research.google.com/assets/colab-badge.svg\" alt=\"Open In Colab\"/></a>"
      ]
    },
    {
      "cell_type": "markdown",
      "metadata": {
        "id": "rmvbRbEMZ_7_"
      },
      "source": [
        "#ND Array與Channel"
      ]
    },
    {
      "cell_type": "markdown",
      "metadata": {
        "id": "FDZoVHYLHHPY"
      },
      "source": [
        "##二維ndArray （數學中的二維矩陣）"
      ]
    },
    {
      "cell_type": "code",
      "metadata": {
        "colab": {
          "base_uri": "https://localhost:8080/"
        },
        "id": "qGo1w4d5KR3i",
        "outputId": "992e4395-e2dd-449c-c761-8ff7e0ef4fc0"
      },
      "source": [
        "import numpy as np\n",
        "print(f\"Numpy Version={np.__version__}\")\n",
        "\n",
        "x = np.array(\n",
        "    [\n",
        "     [1, 2, 3], \n",
        "     [4, 5, 6],\n",
        "    ],\n",
        "    np.int32,\n",
        ")\n",
        "\n",
        "print(f'x={x}')\n",
        "#往下為x（列）\n",
        "#此例為第1列第0行 = 4\n",
        "print(f'x[1,0]={x[1,0]}')\n",
        "\n",
        "#往右為y（行）\n",
        "#此例為第0列第1行 = 2\n",
        "print(f'x[0,1]={x[0,1]}')\n"
      ],
      "execution_count": null,
      "outputs": [
        {
          "output_type": "stream",
          "text": [
            "Numpy Version=1.19.5\n",
            "x=[[1 2 3]\n",
            " [4 5 6]]\n",
            "x[1,0]=4\n",
            "x[0,1]=2\n"
          ],
          "name": "stdout"
        }
      ]
    },
    {
      "cell_type": "markdown",
      "metadata": {
        "id": "2eQoztxCh8Y2"
      },
      "source": [
        "#單張灰階圖"
      ]
    },
    {
      "cell_type": "markdown",
      "metadata": {
        "id": "F8l9-ICVKbs1"
      },
      "source": [
        "##包含channel資訊的灰階影像大小為(列數,欄數)"
      ]
    },
    {
      "cell_type": "code",
      "metadata": {
        "colab": {
          "base_uri": "https://localhost:8080/",
          "height": 366
        },
        "id": "Qbv_ydGXKYD_",
        "outputId": "aac08025-5897-4c81-a52e-1b5f056164cc"
      },
      "source": [
        "import tensorflow as tf\n",
        "print(f\"Tensorflow Version={tf.__version__}\")\n",
        "\n",
        "#舊版2.4.3的寫法：from keras import datasets\n",
        "#現在2.5.0若仍執行則會出錯：AttributeError: module 'keras.datasets' has no attribute 'mnist'\n",
        "import tensorflow.keras\n",
        "print(f\"tensorflow.keras Version={tensorflow.keras.__version__}\")\n",
        "\n",
        "#載入Dataset\n",
        "from tensorflow.keras import datasets\n",
        "\n",
        "#X_train為training dataset的圖\n",
        "#y_train為training dataset的圖的label（答案）\n",
        "#X_test為testing dataset的圖\n",
        "#y_test為testing dataset的圖的label（答案）\n",
        "(X_train, y_train), (X_test, y_test) = datasets.mnist.load_data()\n",
        "\n",
        "#查看第0張圖的維度\n",
        "print(f'X_train[0].shape={X_train[0].shape}')\n",
        "\n",
        "#秀出第0張圖\n",
        "import matplotlib.pyplot as plt\n",
        "#cmap（color map）只會更改顯示方式，不會更改圖片內容\n",
        "#如：gray表示黑底白字，而非白底黑字\n",
        "plt.imshow(X_train[0],cmap = plt.get_cmap('gray'))\n"
      ],
      "execution_count": null,
      "outputs": [
        {
          "output_type": "stream",
          "text": [
            "Tensorflow Version=2.5.0\n",
            "tensorflow.keras Version=2.5.0\n",
            "Downloading data from https://storage.googleapis.com/tensorflow/tf-keras-datasets/mnist.npz\n",
            "11493376/11490434 [==============================] - 0s 0us/step\n",
            "X_train[0].shape=(28, 28)\n"
          ],
          "name": "stdout"
        },
        {
          "output_type": "execute_result",
          "data": {
            "text/plain": [
              "<matplotlib.image.AxesImage at 0x7fd727306dd0>"
            ]
          },
          "metadata": {
            "tags": []
          },
          "execution_count": 3
        },
        {
          "output_type": "display_data",
          "data": {
            "image/png": "[encoded data removed]",
            "text/plain": [
              "<Figure size 432x288 with 1 Axes>"
            ]
          },
          "metadata": {
            "tags": [],
            "needs_background": "light"
          }
        }
      ]
    },
    {
      "cell_type": "markdown",
      "metadata": {
        "id": "4qYuIVDbZ4CE"
      },
      "source": [
        "##用白底黑字顯示剛剛的數字5"
      ]
    },
    {
      "cell_type": "code",
      "metadata": {
        "colab": {
          "base_uri": "https://localhost:8080/",
          "height": 315
        },
        "id": "qot76wlvXooe",
        "outputId": "73bd47c0-30e7-4463-ace1-506fc2f33fcf"
      },
      "source": [
        "import tensorflow as tf\n",
        "print(f\"Tensorflow Version={tf.__version__}\")\n",
        "\n",
        "import tensorflow.keras\n",
        "print(f\"tensorflow.keras Version={tensorflow.keras.__version__}\")\n",
        "\n",
        "#載入Dataset\n",
        "from tensorflow.keras import datasets\n",
        "(X_train, y_train), (X_test, y_test) = datasets.mnist.load_data()\n",
        "\n",
        "#秀出第0張圖\n",
        "import matplotlib.pyplot as plt\n",
        "\n",
        "######用白底黑字顯示剛剛的數字5######\n",
        "#cmap（color map）只會更改顯示方式，不會更改圖片內容\n",
        "#如：binary表示白底黑字，而非黑底白字\n",
        "#plt.imshow(X_train[0],cmap = plt.get_cmap('gray'))\n",
        "plt.imshow(X_train[0],cmap = plt.get_cmap('binary'))\n",
        "######用白底黑字顯示剛剛的數字5######"
      ],
      "execution_count": null,
      "outputs": [
        {
          "output_type": "stream",
          "text": [
            "Tensorflow Version=2.5.0\n",
            "tensorflow.keras Version=2.5.0\n"
          ],
          "name": "stdout"
        },
        {
          "output_type": "execute_result",
          "data": {
            "text/plain": [
              "<matplotlib.image.AxesImage at 0x7fd726dffdd0>"
            ]
          },
          "metadata": {
            "tags": []
          },
          "execution_count": 4
        },
        {
          "output_type": "display_data",
          "data": {
            "image/png": "[encoded data removed]",
            "text/plain": [
              "<Figure size 432x288 with 1 Axes>"
            ]
          },
          "metadata": {
            "tags": [],
            "needs_background": "light"
          }
        }
      ]
    },
    {
      "cell_type": "markdown",
      "metadata": {
        "id": "cRw8pO0vh_X1"
      },
      "source": [
        "#單張彩色圖"
      ]
    },
    {
      "cell_type": "markdown",
      "metadata": {
        "id": "a4Wtu7sYK4Q8"
      },
      "source": [
        "##包含channel資訊的Cifar10彩色影像大小為(列數,欄數,3)"
      ]
    },
    {
      "cell_type": "code",
      "metadata": {
        "colab": {
          "base_uri": "https://localhost:8080/",
          "height": 367
        },
        "id": "qvmgKYciHMPh",
        "outputId": "5b4f6ae2-d839-441d-c956-7ea81ac983f9"
      },
      "source": [
        "import tensorflow as tf\n",
        "print(f\"Tensorflow Version={tf.__version__}\")\n",
        "\n",
        "import tensorflow.keras\n",
        "print(f\"tensorflow.keras Version={tensorflow.keras.__version__}\")\n",
        "\n",
        "#載入Dataset\n",
        "from tensorflow.keras import datasets\n",
        "\n",
        "######包含channel資訊的Cifar10彩色影像大小為(列數,欄數,3)######\n",
        "(X_train, y_train), (X_test, y_test) = datasets.cifar10.load_data()\n",
        "\n",
        "#查看第0張圖的維度\n",
        "print(f'X_train[0].shape={X_train[0].shape}')\n",
        "######包含channel資訊的Cifar10彩色影像大小為(列數,欄數,3)######\n",
        "\n",
        "#秀出第0張圖\n",
        "import matplotlib.pyplot as plt\n",
        "#顯示彩色圖無須設定任何color map\n",
        "plt.imshow(X_train[0])"
      ],
      "execution_count": null,
      "outputs": [
        {
          "output_type": "stream",
          "text": [
            "Tensorflow Version=2.5.0\n",
            "tensorflow.keras Version=2.5.0\n",
            "Downloading data from https://www.cs.toronto.edu/~kriz/cifar-10-python.tar.gz\n",
            "170500096/170498071 [==============================] - 4s 0us/step\n",
            "X_train[0].shape=(32, 32, 3)\n"
          ],
          "name": "stdout"
        },
        {
          "output_type": "execute_result",
          "data": {
            "text/plain": [
              "<matplotlib.image.AxesImage at 0x7fd726d77f50>"
            ]
          },
          "metadata": {
            "tags": []
          },
          "execution_count": 5
        },
        {
          "output_type": "display_data",
          "data": {
            "image/png": "[encoded data removed]",
            "text/plain": [
              "<Figure size 432x288 with 1 Axes>"
            ]
          },
          "metadata": {
            "tags": [],
            "needs_background": "light"
          }
        }
      ]
    },
    {
      "cell_type": "markdown",
      "metadata": {
        "id": "ybioc2yUOCiK"
      },
      "source": [
        "##包含channel資訊的Cifar100彩色影像大小為(列數,欄數,3)"
      ]
    },
    {
      "cell_type": "code",
      "metadata": {
        "colab": {
          "base_uri": "https://localhost:8080/",
          "height": 367
        },
        "id": "m79f2UK7OCiK",
        "outputId": "e33bb1fc-5eed-4424-bdaa-ef66d1453e0d"
      },
      "source": [
        "import tensorflow as tf\n",
        "print(f\"Tensorflow Version={tf.__version__}\")\n",
        "\n",
        "import tensorflow.keras\n",
        "print(f\"tensorflow.keras Version={tensorflow.keras.__version__}\")\n",
        "\n",
        "#載入Dataset\n",
        "from tensorflow.keras import datasets\n",
        "\n",
        "######包含channel資訊的Cifar100彩色影像大小為(列數,欄數,3)######\n",
        "(X_train, y_train), (X_test, y_test) = datasets.cifar100.load_data()\n",
        "\n",
        "#查看第0張圖的維度\n",
        "print(f'X_train[0].shape={X_train[0].shape}')\n",
        "######包含channel資訊的Cifar100彩色影像大小為(列數,欄數,3)######\n",
        "\n",
        "#秀出第0張圖\n",
        "import matplotlib.pyplot as plt\n",
        "plt.imshow(X_train[0])"
      ],
      "execution_count": null,
      "outputs": [
        {
          "output_type": "stream",
          "text": [
            "Tensorflow Version=2.5.0\n",
            "tensorflow.keras Version=2.5.0\n",
            "Downloading data from https://www.cs.toronto.edu/~kriz/cifar-100-python.tar.gz\n",
            "169009152/169001437 [==============================] - 4s 0us/step\n",
            "X_train[0].shape=(32, 32, 3)\n"
          ],
          "name": "stdout"
        },
        {
          "output_type": "execute_result",
          "data": {
            "text/plain": [
              "<matplotlib.image.AxesImage at 0x7fd7266c8390>"
            ]
          },
          "metadata": {
            "tags": []
          },
          "execution_count": 6
        },
        {
          "output_type": "display_data",
          "data": {
            "image/png": "[encoded data removed]",
            "text/plain": [
              "<Figure size 432x288 with 1 Axes>"
            ]
          },
          "metadata": {
            "tags": [],
            "needs_background": "light"
          }
        }
      ]
    },
    {
      "cell_type": "markdown",
      "metadata": {
        "id": "rAu1yuFtK9qE"
      },
      "source": [
        "#多張灰階圖"
      ]
    },
    {
      "cell_type": "markdown",
      "metadata": {
        "id": "owmoSPdxiO8N"
      },
      "source": [
        "##將X_train轉為包含channel格式"
      ]
    },
    {
      "cell_type": "code",
      "metadata": {
        "colab": {
          "base_uri": "https://localhost:8080/"
        },
        "id": "BZGU-fCRK6S3",
        "outputId": "a2bdfb85-f430-402c-e6c7-755e0a9c054a"
      },
      "source": [
        "import tensorflow as tf\n",
        "print(f\"Tensorflow Version={tf.__version__}\")\n",
        "\n",
        "import tensorflow.keras\n",
        "print(f\"tensorflow.keras Version={tensorflow.keras.__version__}\")\n",
        "\n",
        "#載入Dataset\n",
        "from tensorflow.keras import datasets\n",
        "\n",
        "(X_train, y_train), (X_test, y_test) = datasets.mnist.load_data()\n",
        "#X_train格式為（張數，列數，行數）\n",
        "print(f'最初：X_train.shape={X_train.shape}')\n",
        "\n",
        "######將X_train轉為包含channel格式######\n",
        "#將X_train轉為包含channel格式\n",
        "img_rows = X_train.shape[1]\n",
        "img_cols = X_train.shape[2]\n",
        "X_train = X_train.reshape(X_train.shape[0], img_rows, img_cols,1)\n",
        "print(f'包含channel：X_train.shape={X_train.shape}')\n",
        "######將X_train轉為包含channel格式######\n"
      ],
      "execution_count": null,
      "outputs": [
        {
          "output_type": "stream",
          "text": [
            "Tensorflow Version=2.5.0\n",
            "tensorflow.keras Version=2.5.0\n",
            "最初：X_train.shape=(60000, 28, 28)\n",
            "包含channel：X_train.shape=(60000, 28, 28, 1)\n"
          ],
          "name": "stdout"
        }
      ]
    },
    {
      "cell_type": "markdown",
      "metadata": {
        "id": "3TMz_beniICV"
      },
      "source": [
        "#多張彩色圖"
      ]
    },
    {
      "cell_type": "markdown",
      "metadata": {
        "id": "ww2rNdT3NPM8"
      },
      "source": [
        "##查看Cifar10 training dataset的shape"
      ]
    },
    {
      "cell_type": "code",
      "metadata": {
        "colab": {
          "base_uri": "https://localhost:8080/"
        },
        "id": "Ff0RtagLLY6F",
        "outputId": "e8821f74-7c6f-4d52-b075-92d49d8cfd7a"
      },
      "source": [
        "import tensorflow as tf\n",
        "print(f\"Tensorflow Version={tf.__version__}\")\n",
        "\n",
        "import tensorflow.keras\n",
        "print(f\"tensorflow.keras Version={tensorflow.keras.__version__}\")\n",
        "\n",
        "#載入Dataset\n",
        "from tensorflow.keras import datasets\n",
        "\n",
        "(X_train, y_train), (X_test, y_test) = datasets.cifar10.load_data()\n",
        "\n",
        "######查看Cifar10 training dataset的shape######\n",
        "#X_train格式為（張數，列數，行數）\n",
        "print(f'最初即包含channel：X_train.shape={X_train.shape}')\n",
        "print(f'最初即包含channel：X_test.shape={X_test.shape}')\n",
        "######查看Cifar10 training dataset的shape######\n"
      ],
      "execution_count": null,
      "outputs": [
        {
          "output_type": "stream",
          "text": [
            "Tensorflow Version=2.5.0\n",
            "tensorflow.keras Version=2.5.0\n",
            "最初即包含channel：X_train.shape=(50000, 32, 32, 3)\n",
            "最初即包含channel：X_test.shape=(10000, 32, 32, 3)\n"
          ],
          "name": "stdout"
        }
      ]
    },
    {
      "cell_type": "markdown",
      "metadata": {
        "id": "bzVElzB0NqV6"
      },
      "source": [
        "##Cifar100多張彩色影像圖"
      ]
    },
    {
      "cell_type": "code",
      "metadata": {
        "colab": {
          "base_uri": "https://localhost:8080/"
        },
        "id": "wHIojdPjNqV6",
        "outputId": "1e58e03b-3437-4767-9152-ac0390e9ef33"
      },
      "source": [
        "import tensorflow as tf\n",
        "print(f\"Tensorflow Version={tf.__version__}\")\n",
        "\n",
        "import tensorflow.keras\n",
        "print(f\"tensorflow.keras Version={tensorflow.keras.__version__}\")\n",
        "\n",
        "#載入Dataset\n",
        "from tensorflow.keras import datasets\n",
        "\n",
        "(X_train, y_train), (X_test, y_test) = datasets.cifar100.load_data()\n",
        "\n",
        "######查看Cifar100 training dataset的shape######\n",
        "print(f'最初即包含channel：X_train.shape={X_train.shape}')\n",
        "print(f'最初即包含channel：X_test.shape={X_test.shape}')\n",
        "######查看Cifar100 training dataset的shape######\n"
      ],
      "execution_count": null,
      "outputs": [
        {
          "output_type": "stream",
          "text": [
            "Tensorflow Version=2.5.0\n",
            "tensorflow.keras Version=2.5.0\n",
            "最初即包含channel：X_train.shape=(50000, 32, 32, 3)\n",
            "最初即包含channel：X_test.shape=(10000, 32, 32, 3)\n"
          ],
          "name": "stdout"
        }
      ]
    },
    {
      "cell_type": "markdown",
      "metadata": {
        "id": "VnSkVKcqOdae"
      },
      "source": [
        "#查詢此主機有多少GPU可用"
      ]
    },
    {
      "cell_type": "markdown",
      "metadata": {
        "id": "Nm38lrHfPZn9"
      },
      "source": [
        "##設定使用CPU\n",
        "1. 請先按執行階段->恢復原廠的設定階段\n",
        "2. 再按執行階段->變更執行階段類型->選CPU"
      ]
    },
    {
      "cell_type": "code",
      "metadata": {
        "colab": {
          "base_uri": "https://localhost:8080/"
        },
        "id": "Qn2-6-BoOg37",
        "outputId": "39d4312a-f133-428e-ca53-5870198bb612"
      },
      "source": [
        "import tensorflow as tf\n",
        "physical_devices = tf.config.experimental.list_physical_devices('GPU')\n",
        "print(f'一共有{len(physical_devices)}塊GPU可用！')\n",
        "print(f'physical_devices={physical_devices}')"
      ],
      "execution_count": null,
      "outputs": [
        {
          "output_type": "stream",
          "text": [
            "一共有0塊GPU可用！\n",
            "physical_devices=[]\n"
          ],
          "name": "stdout"
        }
      ]
    },
    {
      "cell_type": "markdown",
      "metadata": {
        "id": "9GKnK77FPett"
      },
      "source": [
        "##設定使用GPU\n",
        "1. 請先按執行階段->恢復原廠的設定階段\n",
        "2. 再按執行階段->變更執行階段類型->選GPU"
      ]
    },
    {
      "cell_type": "code",
      "metadata": {
        "colab": {
          "base_uri": "https://localhost:8080/"
        },
        "id": "r-PZxQD_Pett",
        "outputId": "7bfbf991-24de-46b9-c652-e42235604449"
      },
      "source": [
        "import tensorflow as tf\n",
        "physical_devices = tf.config.experimental.list_physical_devices('GPU')\n",
        "print(f'一共有{len(physical_devices)}塊GPU可用！')\n",
        "print(f'physical_devices={physical_devices}')"
      ],
      "execution_count": null,
      "outputs": [
        {
          "output_type": "stream",
          "text": [
            "一共有1塊GPU可用！\n",
            "physical_devices=[PhysicalDevice(name='/physical_device:GPU:0', device_type='GPU')]\n"
          ],
          "name": "stdout"
        }
      ]
    },
    {
      "cell_type": "markdown",
      "metadata": {
        "id": "0BC1aBCPlq_m"
      },
      "source": [
        "#TF 1.0"
      ]
    },
    {
      "cell_type": "markdown",
      "metadata": {
        "id": "b9Xq5MpFl62K"
      },
      "source": [
        "![image.png](data:image/png;base64,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)"
      ]
    },
    {
      "cell_type": "markdown",
      "metadata": {
        "id": "W-TjBg57N3rK"
      },
      "source": [
        "##啟用tensorflow1.0的CPU（請先按執行階段->恢復原廠的設定階段）\n",
        "##再按執行階段->變更執行階段類型->選None"
      ]
    },
    {
      "cell_type": "code",
      "metadata": {
        "colab": {
          "base_uri": "https://localhost:8080/"
        },
        "id": "Q9G_HNraNTaM",
        "outputId": "01772892-2e84-4869-d124-b58c2c4fdc86"
      },
      "source": [
        "try:\n",
        "  %tensorflow_version 1.x\n",
        "  print(\"啟用Tensorflow 1.x成功！\")\n",
        "  import tensorflow as tf\n",
        "  print(f\"TensorFlow Version: {tf.__version__}\")\n",
        "  import keras\n",
        "  print(f\"Keras Version={keras.__version__}\")\n",
        "except:\n",
        "  print(\"啟用Tensorflow 1.x失敗！\")"
      ],
      "execution_count": null,
      "outputs": [
        {
          "output_type": "stream",
          "text": [
            "TensorFlow 1.x selected.\n",
            "啟用Tensorflow 1.x成功！\n",
            "TensorFlow Version: 1.15.2\n",
            "Keras Version=2.3.1\n"
          ],
          "name": "stdout"
        },
        {
          "output_type": "stream",
          "text": [
            "Using TensorFlow backend.\n"
          ],
          "name": "stderr"
        }
      ]
    },
    {
      "cell_type": "code",
      "metadata": {
        "colab": {
          "base_uri": "https://localhost:8080/"
        },
        "id": "-jN_tb06R89G",
        "outputId": "a5926ab3-0329-4fd0-d0ee-1c53487ad9f4"
      },
      "source": [
        "if tf.test.is_gpu_available():\n",
        "  print('有啟用GPU')\n",
        "else:\n",
        "  print('尚未啟用GPU')  "
      ],
      "execution_count": null,
      "outputs": [
        {
          "output_type": "stream",
          "text": [
            "尚未啟用GPU\n"
          ],
          "name": "stdout"
        }
      ]
    },
    {
      "cell_type": "markdown",
      "metadata": {
        "id": "NR6NEFccSrz-"
      },
      "source": [
        "##啟用tensorflow1.0的GPU（請先按執行階段->恢復原廠的設定階段）\n",
        "##再按執行階段->變更執行階段類型->選GPU"
      ]
    },
    {
      "cell_type": "code",
      "metadata": {
        "colab": {
          "base_uri": "https://localhost:8080/"
        },
        "id": "pWC5x3FoSrz-",
        "outputId": "77b443b6-c90f-4e05-9bfb-39a0a63e4226"
      },
      "source": [
        "#此code跟前面code一模一樣，不同設定會輸出不同結果\n",
        "try:\n",
        "  %tensorflow_version 1.x\n",
        "  print(\"啟用Tensorflow 1.x成功！\")\n",
        "  import tensorflow as tf\n",
        "  print(f\"TensorFlow Version: {tf.__version__}\")\n",
        "  import keras\n",
        "  print(f\"Keras Version={keras.__version__}\")\n",
        "except:\n",
        "  print(\"啟用Tensorflow 1.x失敗！\")"
      ],
      "execution_count": null,
      "outputs": [
        {
          "output_type": "stream",
          "text": [
            "TensorFlow 1.x selected.\n",
            "啟用Tensorflow 1.x成功！\n",
            "TensorFlow Version: 1.15.2\n",
            "Keras Version=2.3.1\n"
          ],
          "name": "stdout"
        },
        {
          "output_type": "stream",
          "text": [
            "Using TensorFlow backend.\n"
          ],
          "name": "stderr"
        }
      ]
    },
    {
      "cell_type": "code",
      "metadata": {
        "colab": {
          "base_uri": "https://localhost:8080/"
        },
        "id": "ljoYKmwzSrz-",
        "outputId": "b6276de6-e0de-4e47-fe9a-e5aae41861a9"
      },
      "source": [
        "#此code跟前面code一模一樣，不同設定會輸出不同結果\n",
        "if tf.test.is_gpu_available():\n",
        "  print('有啟用GPU')\n",
        "else:\n",
        "  print('尚未啟用GPU')  "
      ],
      "execution_count": null,
      "outputs": [
        {
          "output_type": "stream",
          "text": [
            "有啟用GPU\n"
          ],
          "name": "stdout"
        }
      ]
    },
    {
      "cell_type": "markdown",
      "metadata": {
        "id": "N4JUWYcbltoF"
      },
      "source": [
        "#TF 2.0"
      ]
    },
    {
      "cell_type": "markdown",
      "metadata": {
        "id": "GES1WzQfmCBa"
      },
      "source": [
        "![image.png](data:image/png;base64,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)"
      ]
    },
    {
      "cell_type": "markdown",
      "metadata": {
        "id": "BgnFs2mLZc8_"
      },
      "source": [
        "##啟用tensorflow2.0的CPU（請先按執行階段->恢復原廠的設定階段）\n",
        "##再按執行階段->變更執行階段類型->選None"
      ]
    },
    {
      "cell_type": "code",
      "metadata": {
        "colab": {
          "base_uri": "https://localhost:8080/"
        },
        "id": "j0EMFIk7Zk-N",
        "outputId": "dadebfa5-a03c-4176-815b-daebcf80a2ea"
      },
      "source": [
        "#先測試最初Colab的預設Tensorflow版本\n",
        "import tensorflow as tf\n",
        "print(f\"TensorFlow Version: {tf.__version__}\")\n",
        "import tensorflow.keras\n",
        "print(f\"tensorflow.keras Version={tensorflow.keras.__version__}\")\n"
      ],
      "execution_count": null,
      "outputs": [
        {
          "output_type": "stream",
          "text": [
            "TensorFlow Version: 2.5.0\n",
            "tensorflow.keras Version=2.5.0\n"
          ],
          "name": "stdout"
        }
      ]
    },
    {
      "cell_type": "code",
      "metadata": {
        "colab": {
          "base_uri": "https://localhost:8080/"
        },
        "id": "ca3yoJVcZc8_",
        "outputId": "d1379381-9ce7-4a99-a3b9-acf75351f7af"
      },
      "source": [
        "try:\n",
        "  %tensorflow_version 2.x\n",
        "  print(\"啟用Tensorflow 2.x成功！\")\n",
        "  import tensorflow as tf\n",
        "  print(f\"TensorFlow Version: {tf.__version__}\")\n",
        "  import tensorflow.keras\n",
        "  print(f\"tensorflow.keras Version={tensorflow.keras.__version__}\")\n",
        "except:\n",
        "  print(\"啟用Tensorflow 2.x失敗！\")"
      ],
      "execution_count": null,
      "outputs": [
        {
          "output_type": "stream",
          "text": [
            "啟用Tensorflow 2.x成功！\n",
            "TensorFlow Version: 2.5.0\n",
            "tensorflow.keras Version=2.5.0\n"
          ],
          "name": "stdout"
        }
      ]
    },
    {
      "cell_type": "code",
      "metadata": {
        "colab": {
          "base_uri": "https://localhost:8080/"
        },
        "id": "mMVn5-U7Zc8_",
        "outputId": "d8612a9e-8a02-48d8-f3bd-f7cf6e7c832f"
      },
      "source": [
        "#舊版寫法：tf.test.is_gpu_available():\n",
        "#底下這是新版寫法：\n",
        "if tf.config.list_physical_devices('GPU'):\n",
        "  print('有啟用GPU')\n",
        "else:\n",
        "  print('尚未啟用GPU')  "
      ],
      "execution_count": null,
      "outputs": [
        {
          "output_type": "stream",
          "text": [
            "尚未啟用GPU\n"
          ],
          "name": "stdout"
        }
      ]
    },
    {
      "cell_type": "markdown",
      "metadata": {
        "id": "LB646-Eutlsz"
      },
      "source": [
        "##啟用tensorflow2.0的GPU（請先按執行階段->恢復原廠的設定階段）\n",
        "##再按執行階段->變更執行階段類型->選GPU"
      ]
    },
    {
      "cell_type": "code",
      "metadata": {
        "colab": {
          "base_uri": "https://localhost:8080/"
        },
        "id": "LSnip0m3tlsz",
        "outputId": "8d81b565-43bd-4084-a3ea-13553f7eaa8a"
      },
      "source": [
        "#先測試最初Colab的預設Tensorflow版本\n",
        "import tensorflow as tf\n",
        "print(f\"TensorFlow Version: {tf.__version__}\")\n",
        "import tensorflow.keras\n",
        "print(f\"tensorflow.keras Version={tensorflow.keras.__version__}\")\n"
      ],
      "execution_count": null,
      "outputs": [
        {
          "output_type": "stream",
          "text": [
            "TensorFlow Version: 2.5.0\n",
            "tensorflow.keras Version=2.5.0\n"
          ],
          "name": "stdout"
        }
      ]
    },
    {
      "cell_type": "code",
      "metadata": {
        "colab": {
          "base_uri": "https://localhost:8080/"
        },
        "id": "ZO3pIUxjtlsz",
        "outputId": "cf526a70-37c6-4171-c59e-d666c5012226"
      },
      "source": [
        "try:\n",
        "  %tensorflow_version 2.x\n",
        "  print(\"啟用Tensorflow 2.x成功！\")\n",
        "  import tensorflow as tf\n",
        "  print(f\"TensorFlow Version: {tf.__version__}\")\n",
        "  import tensorflow.keras\n",
        "  print(f\"tensorflow.keras Version={tensorflow.keras.__version__}\")\n",
        "except:\n",
        "  print(\"啟用Tensorflow 2.x失敗！\")"
      ],
      "execution_count": null,
      "outputs": [
        {
          "output_type": "stream",
          "text": [
            "啟用Tensorflow 2.x成功！\n",
            "TensorFlow Version: 2.5.0\n",
            "tensorflow.keras Version=2.5.0\n"
          ],
          "name": "stdout"
        }
      ]
    },
    {
      "cell_type": "code",
      "metadata": {
        "colab": {
          "base_uri": "https://localhost:8080/"
        },
        "id": "SwCvEHfztlsz",
        "outputId": "633bbd4f-8181-4a8d-9ef6-6c1f76cf8874"
      },
      "source": [
        "#舊版寫法：print(\"GPU is\", \"available\" if tf.test.is_gpu_available() else \"NOT AVAILABLE\")\n",
        "#底下這是新版寫法：\n",
        "if tf.config.list_physical_devices('GPU'):\n",
        "  print('有啟用GPU')\n",
        "else:\n",
        "  print('尚未啟用GPU')  "
      ],
      "execution_count": null,
      "outputs": [
        {
          "output_type": "stream",
          "text": [
            "有啟用GPU\n"
          ],
          "name": "stdout"
        }
      ]
    },
    {
      "cell_type": "markdown",
      "metadata": {
        "id": "KOOVQ6Ollwni"
      },
      "source": [
        "#向下相容"
      ]
    },
    {
      "cell_type": "markdown",
      "metadata": {
        "id": "krs3BFZIujhm"
      },
      "source": [
        "##tensorflow2.x也能執行1.x的函式"
      ]
    },
    {
      "cell_type": "code",
      "metadata": {
        "colab": {
          "base_uri": "https://localhost:8080/"
        },
        "id": "jnNkEijzuIpy",
        "outputId": "af75ce46-df61-4aa5-b974-a7860068882c"
      },
      "source": [
        "import tensorflow as tf\n",
        "print(f\"TensorFlow Version: {tf.__version__}\")\n",
        "\n",
        "import numpy as np\n",
        "numpy_matrix1 = np.array(\n",
        "    [\n",
        "        (3.0 ,2.0),\n",
        "        (-1.0,-3.0),\n",
        "    ],\n",
        "    dtype=float\n",
        ")\n",
        "import tensorflow as tf\n",
        "tensor_matrix1 = tf.constant(numpy_matrix1)\n",
        "\n",
        "######tensorflow2.x也能執行1.x的函式######\n",
        "#使用V2版來跑行列值\n",
        "print(tf.linalg.det(tensor_matrix1))\n",
        "#使用V1版來跑行列值（透過compat.v1）\n",
        "print(tf.compat.v1.linalg.det(tensor_matrix1)) \n",
        "######tensorflow2.x也能執行1.x的函式######"
      ],
      "execution_count": null,
      "outputs": [
        {
          "output_type": "stream",
          "text": [
            "TensorFlow Version: 2.5.0\n",
            "tf.Tensor(-7.000000000000001, shape=(), dtype=float64)\n",
            "tf.Tensor(-7.000000000000001, shape=(), dtype=float64)\n"
          ],
          "name": "stdout"
        }
      ]
    },
    {
      "cell_type": "markdown",
      "metadata": {
        "id": "5Zi_JCUevi-f"
      },
      "source": [
        "##v1轉v2的轉換工具--tf_upgrade_v2"
      ]
    },
    {
      "cell_type": "code",
      "metadata": {
        "colab": {
          "base_uri": "https://localhost:8080/"
        },
        "id": "Xmb21NyDumqb",
        "outputId": "cacded03-ebd7-4ab1-c48e-4ff4303252bd"
      },
      "source": [
        "import tensorflow as tf\n",
        "print(f'tf.__version__={tf.__version__}')\n",
        "\n",
        "######v1轉v2的轉換工具--tf_upgrade_v2######\n",
        "#下載github上的工具（tf_upgrade_v2）\n",
        "!git clone --branch r1.13.0 --depth 1 https://github.com/tensorflow/models\n",
        "\n",
        "!tf_upgrade_v2 \\\n",
        "  --infile models/samples/cookbook/regression/custom_regression.py \\\n",
        "  --outfile /tmp/custom_regression_v2.py\n",
        "######v1轉v2的轉換工具--tf_upgrade_v2######\n"
      ],
      "execution_count": null,
      "outputs": [
        {
          "output_type": "stream",
          "text": [
            "tf.__version__=2.5.0\n",
            "Cloning into 'models'...\n",
            "remote: Enumerating objects: 2927, done.\u001b[K\n",
            "remote: Counting objects: 100% (2927/2927), done.\u001b[K\n",
            "remote: Compressing objects: 100% (2428/2428), done.\u001b[K\n",
            "remote: Total 2927 (delta 505), reused 2108 (delta 424), pack-reused 0\u001b[K\n",
            "Receiving objects: 100% (2927/2927), 369.04 MiB | 39.59 MiB/s, done.\n",
            "Resolving deltas: 100% (505/505), done.\n",
            "Checking out files: 100% (2768/2768), done.\n",
            "INFO line 38:8: Renamed 'tf.feature_column.input_layer' to 'tf.compat.v1.feature_column.input_layer'\n",
            "INFO line 43:10: Renamed 'tf.layers.dense' to 'tf.compat.v1.layers.dense'\n",
            "INFO line 46:17: Renamed 'tf.layers.dense' to 'tf.compat.v1.layers.dense'\n",
            "INFO line 57:17: tf.losses.mean_squared_error requires manual check. tf.losses have been replaced with object oriented versions in TF 2.0 and after. The loss function calls have been converted to compat.v1 for backward compatibility. Please update these calls to the TF 2.0 versions.\n",
            "INFO line 57:17: Renamed 'tf.losses.mean_squared_error' to 'tf.compat.v1.losses.mean_squared_error'\n",
            "INFO line 61:15: Added keywords to args of function 'tf.shape'\n",
            "INFO line 62:15: Changed tf.to_float call to tf.cast(..., dtype=tf.float32).\n",
            "INFO line 65:40: Renamed 'tf.train.AdamOptimizer' to 'tf.compat.v1.train.AdamOptimizer'\n",
            "INFO line 68:39: Renamed 'tf.train.get_global_step' to 'tf.compat.v1.train.get_global_step'\n",
            "INFO line 83:9: tf.metrics.root_mean_squared_error requires manual check. tf.metrics have been replaced with object oriented versions in TF 2.0 and after. The metric function calls have been converted to compat.v1 for backward compatibility. Please update these calls to the TF 2.0 versions.\n",
            "INFO line 83:9: Renamed 'tf.metrics.root_mean_squared_error' to 'tf.compat.v1.metrics.root_mean_squared_error'\n",
            "INFO line 142:23: Renamed 'tf.train.AdamOptimizer' to 'tf.compat.v1.train.AdamOptimizer'\n",
            "INFO line 162:2: Renamed 'tf.logging.set_verbosity' to 'tf.compat.v1.logging.set_verbosity'\n",
            "INFO line 162:27: Renamed 'tf.logging.INFO' to 'tf.compat.v1.logging.INFO'\n",
            "INFO line 163:2: Renamed 'tf.app.run' to 'tf.compat.v1.app.run'\n",
            "TensorFlow 2.0 Upgrade Script\n",
            "-----------------------------\n",
            "Converted 1 files\n",
            "Detected 0 issues that require attention\n",
            "--------------------------------------------------------------------------------\n",
            "\n",
            "\n",
            "Make sure to read the detailed log 'report.txt'\n",
            "\n"
          ],
          "name": "stdout"
        }
      ]
    },
    {
      "cell_type": "markdown",
      "metadata": {
        "id": "1-a0-5Ifl1QE"
      },
      "source": [
        "#基本TF2.0程式設計"
      ]
    },
    {
      "cell_type": "markdown",
      "metadata": {
        "id": "BByf70smzrPD"
      },
      "source": [
        "##（constant）2.x由numpy矩陣轉Tensor常數"
      ]
    },
    {
      "cell_type": "code",
      "metadata": {
        "colab": {
          "base_uri": "https://localhost:8080/"
        },
        "id": "D6aboRn3wILp",
        "outputId": "746e5368-4cdd-461a-d426-69309c1059ad"
      },
      "source": [
        "import tensorflow as tf\n",
        "print(f\"TensorFlow Version: {tf.__version__}\")\n",
        "\n",
        "import numpy as np\n",
        "numpy_matrix1 = np.array(\n",
        "    [\n",
        "        (1.0,1.0,1.0),\n",
        "        (1.0,1.0,1.0),\n",
        "        (1.0,1.0,1.0),\n",
        "    ],\n",
        "    dtype=float\n",
        ")\n",
        "numpy_matrix2 = np.array(\n",
        "    [\n",
        "        (2.0,2.0,2.0),\n",
        "        (2.0,2.0,2.0),\n",
        "        (2.0,2.0,2.0),\n",
        "    ],\n",
        "    dtype=float\n",
        ")\n",
        "\n",
        "######（constant）2.x由numpy矩陣轉Tensor常數######\n",
        "tensor_matrix1 = tf.constant(numpy_matrix1)\n",
        "tensor_matrix2 = tf.constant(numpy_matrix2)\n",
        "######（constant）2.x由numpy矩陣轉Tensor常數######\n",
        "\n",
        "print(tensor_matrix1)\n",
        "print(tensor_matrix2)\n"
      ],
      "execution_count": null,
      "outputs": [
        {
          "output_type": "stream",
          "text": [
            "TensorFlow Version: 2.5.0\n",
            "tf.Tensor(\n",
            "[[1. 1. 1.]\n",
            " [1. 1. 1.]\n",
            " [1. 1. 1.]], shape=(3, 3), dtype=float64)\n",
            "tf.Tensor(\n",
            "[[2. 2. 2.]\n",
            " [2. 2. 2.]\n",
            " [2. 2. 2.]], shape=(3, 3), dtype=float64)\n"
          ],
          "name": "stdout"
        }
      ]
    },
    {
      "cell_type": "markdown",
      "metadata": {
        "id": "FLc1kw2f0bnz"
      },
      "source": [
        "##（add）2.x計算矩陣加法"
      ]
    },
    {
      "cell_type": "code",
      "metadata": {
        "colab": {
          "base_uri": "https://localhost:8080/"
        },
        "id": "zfiAfzBhzy5t",
        "outputId": "bae909a5-3203-471a-be1d-0a53f64267a6"
      },
      "source": [
        "import tensorflow as tf\n",
        "print(f\"TensorFlow Version: {tf.__version__}\")\n",
        "\n",
        "import numpy as np\n",
        "numpy_matrix1 = np.array(\n",
        "    [\n",
        "        (1.0,1.0,1.0),\n",
        "        (1.0,1.0,1.0),\n",
        "        (1.0,1.0,1.0),\n",
        "    ],\n",
        "    dtype=float\n",
        ")\n",
        "numpy_matrix2 = np.array(\n",
        "    [\n",
        "        (2.0,2.0,2.0),\n",
        "        (2.0,2.0,2.0),\n",
        "        (2.0,2.0,2.0),\n",
        "    ],\n",
        "    dtype=float\n",
        ")\n",
        "\n",
        "tensor_matrix1 = tf.constant(numpy_matrix1)\n",
        "tensor_matrix2 = tf.constant(numpy_matrix2)\n",
        "\n",
        "######（add）2.x計算矩陣加法######\n",
        "print(tf.add(tensor_matrix1,tensor_matrix2))\n",
        "######（add）2.x計算矩陣加法######\n"
      ],
      "execution_count": null,
      "outputs": [
        {
          "output_type": "stream",
          "text": [
            "TensorFlow Version: 2.5.0\n",
            "tf.Tensor(\n",
            "[[3. 3. 3.]\n",
            " [3. 3. 3.]\n",
            " [3. 3. 3.]], shape=(3, 3), dtype=float64)\n"
          ],
          "name": "stdout"
        }
      ]
    },
    {
      "cell_type": "markdown",
      "metadata": {
        "id": "nxOxgMKo02hK"
      },
      "source": [
        "##（det）2.x計算矩陣行列式"
      ]
    },
    {
      "cell_type": "markdown",
      "metadata": {
        "id": "elus1_G_mtoy"
      },
      "source": [
        "![image.png](data:image/png;base64,iVBORw0KGgoAAAANSUhEUgAAASwAAACuCAYAAACMcjASAAAYE0lEQVR4Ae2dPbLkNBuFZwmwg6liAwQsgIx0MlJSsomJSIkmJSMknIh4AhYAG6DYAFUs4X71XObcUfmTbMn6tfuoqsvdsi29OpIevZJ/+tWTgxWwAlbgIgq8uoidNtMKWAEr8GRguRFYAStwGQUMrMtUlQ21AlbAwHIbsAJW4DIKGFiXqSobagWsgIHlNmAFrMBlFDCwLlNVNtQKWAEDy23ACliByyhgYF2mqmyoFbACBpbbgBWwApdRwMC6TFXZUCtgBQwstwErYAUuo4CBdZmqsqFWwAoYWDdrA3/++efTDz/88PTVV189vXr16vnz+eefP33//fdP7LtT+Oeff55+/fXXp2+//fbpiy++eCkvZf/pp5+e2O9wLwUMrBvV5zfffPMCqJ9//vnp999/f/rtt9+eFA/AiLtDoFyAmDJRPn5TNkCleMDlcC8FDKxF6vPNmzdPr1+/fvrw4cNpi+RRxTwpeSB36cSASbDaCobXJS34fja8e/fuuU7YOqyhgIG1Rj08ff3118+d7P3796ctopMyPYoFdXCOuUNQeVIeo4DFcWfDjz/++Fwnb9++PZuEz2uswD1ab2NRZiTXAlh7dquDM116hGBg3bOWDaxF6rU3sLQIX+NxLCLVoRkstgtYNVNCe1iHUg8/wMAaLnk8w57AkncFtB7hypnKy7pdTTCwatTrc66B1UfX4lRbA+uvv/56vuTPFTSmgY/gWSE65aa8fGIXH0oqxsAqUWvMsQbWGJ0Pc2kJrPA2BqZGeFbc5nB374ryaepbMxVUZRlYUmKdrYG1SF20BBaeBVfP+HATqW5paOF1LCJX1AyukALoFrAiAwMrKvPUSANrqvyfMm8JrE+p/vct9Dxq13W2aa/ymzv5W8KKchlYq9TuJzsMrE9aTP3WE1gUjDvBdeUsde/SVAEqMu8BK8wxsCoqpdOpBlYnYUuT7Q0sIHVHYDH9o1w9LioYWKWtuP/xBlZ/jbNyqAWWgMSaVSxoP5279upZLP0ZcZSD8qTu7udCAxcgzgYD66xy/c4zsPppW5RyK2CxsB67GqgF6ZoOXFSgAQdzRZA1uVh5ub2BfTXlNbAGVGJhFgZWoWC9Dm8FLDwOOipTJbwq1q4EK+LpyHcImgpS3r2PgXWH2v5UBgPrkxZTv9UCC+OZIjElpJOGnZjfd7sPa1vGsLzhdxbkzwZ7WGeV63eegdVP26KUWwCrKEMffKiAgXUo0fADDKzhksczNLDiusyMNbBmqh/P28CK6zI81sAaLvlhhgbWoUTDDzCwhksez9DAiusyM9bAmql+PG8DK67L8FgDa7jkhxkaWIcSDT/AwBoueTxDAyuuy8xYA2um+vG8Day4LsNjDazhkh9maGAdSjT8AANruOTxDA2suC4zYw2smerH8zaw4roMjzWwhkt+mKGBdSjR8AMMrOGSxzM0sOK6zIw1sGaqH8/bwIrrMjzWwBou+WGGBtahRMMPMLCGSx7P0MCK6zIz1sCaqX48bwMrrsvwWANruOSHGRpYhxINP8DAGi55PMOZwOI1NLz9oObNBvFSrRGrt1joH3V4mwPvDaO8ey8zNLDWqL/QCgMrVGPi9xnAEqj0OpYerxmeKOlz1noNDYDiFTt6R5jiKTtxsWBgxVSZG2dgzdX/JfeRwBKo6MR6uR8d947AEoxjnhQvNGQ/nlcsGFgxVebGGVhz9X/JfSSwgBRw0quF5W3cFViUNxYor4AW229gxVSZG2dgzdX/JfeRwHrJ9OOXOwNrW9bwt4CFpxkLBlZMlblxBtZc/V9yN7BepBj2RYvwKc/SwBpWFdkZGVjZUvU90MDqq+82dXlXQEtT4+0xBtZWkfm/Daz5dfBsgYHVvyL4xyD+bYcpMNPAlGclSwwsKbHO1sBapC72gKU1Ji0Ql2w59ygo/aMOfJROi/1cwSwp3/bY1C0KKqOOx7M6+ichA6tFjbZNw8Bqq+fp1Ays/6TrBSxuayBtPvwVmm5pwNOK3fKANQbW6ebc7UQDq5u0ZQnvAasspfKj5X2s4GGVW3/uDNattOgOvGLBwIqpMjfOwJqr/0vuBtaLFMO+8K/YmiLGppIG1rCqyM7IwMqWqu+BBlZffWOph9NPAyum0HpxBtYidWJgta8IAYk1q1jQfrys2DqWPayYanPjDKy5+r/k/vbt2yeg9eHDh5e4UV+0hpXq2KPsaJ2PgMTCeuxeKz1HSflj4Zdffnmuk3fv3sV2O26CAgbWBNFXyjJcx6Fjx6ZGK9lbYouAhQfFwjr3YBFHmQUr4rk/y+EaChhY16inplaGHVmLzrFt00wnJcZUD89RXqTKye+j+7AmmexsdxQwsHbE8S4rYAXWUsDAWqs+bI0VsAI7ChhYO+J4lxWwAmspYGCtVR+2plCBf//994mPwxwFRmtvYM2pZ+daqQAdhfukPvvss6fvvvuuMjWfflaBP/744/lpAerg77//PptM9nkGVrZUPnAVBYAV96wBK+6RGj3Kr6LDKnYArdevXz+Dq/d9hAbWKrVuO7IUAE5ffvnlM6zev3+fdY4P6q+A6oXbRnpCy8DqX5fPHgB3TY9wmXOLs5o9uXa/efPmeSQvvfucDkVHwhtYJQDcO0EXjfF6+fRq6wZWx9ZLBfLIDRU467GbVPFYc2A0BAC9Glcq77PxdG7ZXJIGoJJXVgq6knxKj6U8TKWwjQHkDoFyUEe91hUNrE6tBFgBA62zdMqmKlm8DTpLbze+ysjgZD0gXjLlAFCUj4GDOlkxYBs2chHhDkHrWT0GwssCS49c6CVsVDjPwh39/fiIBhHCapTLz/NwPGqyfQSFZ+Z4dm4vCAQrTZe29sq7ArC5IYRV7jktj+PZRT3DeJSu3gwx29PiIXHspt1gO/2KD/2MFzzGHiLflk0A7uFlXRJY6pQAqvTvx7fi9vitjjJqxKQhqWHx3BzPCvIB3orfe5sogOU4RsZVg9au6Aw5AfhqKj7asxKopD11kRNmDxwMbPQp7KaP8RvbaTuKB1xHQe0J/VuHSwJLDSH2DiONCjnCthaT9KgsKorPqI4igAPvbQihtTc6aoRfaY0nLIumGbkeqzp/yfQxzO/Md4GKNqg6oa3mAospFMeXeJFn7Eydo4EP27eBsqnf8f0o0P45vrX+lwUWLmssSHTEmhHU8Ud5V5SRBsYIGAt0FjW0vY7Tc1SM2VUSh7ekMuSsi+j4kR2fwYBBMuzMsnlP960OAnNOObfn1v5W30nZq/Jw3FHQgNG6H8zp1Uelrdgv0VMd+ChpnX90XGq/GlyuJ5BKp1V8CKyYRxrmI9tbj4phHme+68oT9uUEDRq508ecNM8cow6eAkAsTdl+dv1H9V2SZ8yOWJzKkwMsrWMxlW8ZbgcsRjmEzRE1JmQNsOTSk/+o6WCsDGEca1rYE3Pzw+P4rkbWelTc5lP6W52YUTsnaHSfPWiog5fAQxcXzq7/9AIWHqTKE3qRqfrQIHO2HKl0mwFLHV2FKt2mDCyJlw1Aa2+9JkyT4+jMalRsWYMgcOWNfbmvDlZjGzkVCcuy/a7Gi7d55F1xrhpZ61Fxa1fpby2453odWj+ZMa0Ky6Y+oLYV7kt919Scc3MHPdYpw/VLzqXt0rZpuy3Wc9W31DdS9itefQFbWoZmqalAqqTS7dlCUTEQX+s42FEaSEOVTuOiglUe0s2Fn64O5noCpXbmHI+tXN3RYjvbXPvVyFqPijl27x0jYOVM8VbyctUHSoCFDgJu7m0m1C/tFTjxnXzpEwxUACZnsNrTn/5BWrkDH2mxrKDy54J3zwbtawYsJThyC0wkCltAw0iT20G3ttKwwjTDUWt7bOy3pi5HHgr5hHaXfk91AEFW6dFYacQ0uJygRpYLrF7l2NqqKV4OsLTgjgZHIaxraZa75dyjoLRS9ZU6X8AqXUvUwKt8SwarlC30JfoVaeZMBZVOWA8tPd3jWpUFC24ZOWgMfOiYdFCELRkJVCwqhkZI5XC+Rivtz9lqDWgWsGiw0gPYqqHlNrawkeWUl7zUOc5sOT8nMMUm/RxgCbocfxRWBZYufuDxlgTarOqcq+i5A9VeHqSDliWwIr2wLRlYCYXD0SB3rk1SumEOD4VOREMGhmyJyw25HlZuei2O09SQRnfUgNXZcz2sFvblpNHLw8rJu+YYNOeTC2blJQ8rF1i0VUAFXOgD5MmW3zVeltpOKawoh4Gl2jzYAp+ShiLPSo2KLecT2Eel5UJrhTWsrTxqwJTpqBxaw8q9fWCbV6/fAlbOovuZRetedpe0w9AGnUenzwm00XD5gvPVnoln4C0NNbAiLw1+2LKkh0VnkNBntqWCpo4XcMJKSx0bi1c5YvuO4tThV/NQVB9HwFoRuGieO9VW/ai8uR1e57Xeyg7BIyf98KLBmY6u9l+S59YuPCpsP2ov2/PC37riTDotQ7PU1NFVSaXb3EKpQpivx4L2k/+ZqyMqRyzto7hZoztlZUqQCqqLcBSOHYsHw7E5a0Wx83vFCVi5V1+15jX7MSPpXgIPDXpnb41R+y/JM6w3+gx2M52MhVyPTYPf2XLE8iauGbBSGbSOV4WwMM50Zxu0SHjGDd6mdea3FkxLr/CcyUvn7HUMGhj7U3opDbayPXftJDy353d14lzPVYDLmUL2tFv1wjJFbtA66KxBg4GP9d9Y32INlH05fUt1cHQBKlcXHXdZYNEYEA/3FYjRKAQr4o8WmCVA661GlpGdRR0DKOEhogcfvFDB6qjTaJF0tfUr6qfUc9XxuYBr3Qbo7PLU0R8I5LZHeYcjBzyVX1NBtafUNgdYuncOALcMlwMWhcdtpTMiXCgqv/EoYqNDS9H20qKz0FFGdhY6g1x1oCVN6CjolNNZNLK3bmB7WpXsk/eX25HVYVhLGRVCSKkOttu9zi5PsrVXklv+bX/a2q7fLMgfBdVXa2/9ksA6Emv2fi04znLrS8uPdwVgGd0B7opBU4xcz1WL1yt6jDF90Z01OuohF8qxdFaIk7feY9A2sDrV8IwR/kxR6CiAisY1+6ranv0CUEknkMeSu1i/l3/vfQLy7AsFLcrZ01s3sFrUUCINQWvVRshIjgcCBFq77glJqqK1vlMyzZO3C7RW9B6xCa+ROli1nZRUGuWhLHzO3JZxlJeBdaRQ5X4aIVCgs63kwQBT7GLbo2FVyhY9XVON0mke5604eABTOjYwvfo0UBUm76rXcoiBJaU7b/FgVhrhsecqoAqrpgY8gGslTxJ7+NwlUBYAzIDSq60bWHdpLQ9UDk0NV4LPA8kfLSqDH6ACWD29RQMrKr8jV1aA0VueVq+px8rlX8k26kJroQCr9yBiYK1U+7alSAGtDwIvhzkKACi8Ktauek0Dw5IZWKEa/n5JBUZ0lEsKM8jokfobWIMq1dlYAStQr4CBVa+hU7ACVmCQAgbWIKGdjRWwAvUKGFj1GjoFK2AFBilgYA0SekQ2LH5y1WalmxG5m7vnfTkjdHUe6yhgYK1TF1WWAAbug+Exj973wpQYyq0HvJZktUeTSsrgY9dRwMBapy5OWYJXFT48O/ISc67B2KQbPQGrgxU4q4CB9VE53rYYvsCMF+HxBlPe3LlyAFZ4MKNAkHpZINqh4V4QtDxF3FPJ+/YUeHhg8XZS3sxJpwdQvEoYSPEGT72986gj7gncc5+mW6MeTwnfqMlbJ9GJj/4SCg1Tfw6CDnhaet7sig9e96xLp52nwMMDS15V7LWvdEY6IeDKec1wnuRtjprR+aUV4NqGEFp7WuEJomnum0O3+fj3Yyvw0MDSXxrRgVKdTN4XHtdKQR1/5HN0AAt4x96ZL7ijJd9TAdByDM+f8d3BCpQo8NDAAkJ0Hj6poGkQnXWloPWgVa4I5gILDUevu61Ub7alToF0T61L9xJnC0Y5wNo7ZnRh8UzwULBplbUg1v6wh0/KW5VOeivlSO9QeXt7bQWaASvs/Gq4JdsZMob/wxab5mBTWK4ZNsby5MZQtAVaqwStb8XWArc24hWuZv/WRv9eU4GHBhaegKAKmLYhvILIcasErV9xM+YKQd4V630p8Id2CrgraRra5+/rKrBOLyzQSJA5s92CKfSguCTPWgwfvrPAzL9Ikw/fc4I8jTO25a6TlQDrjB06Z6tVrPxcuEAbPnzPCUxjlYcX3nMU8zFS4OGBhRBMDXU1kI4EpPSPydybRVwuTEYAS/df5fzfnsBwZnsELLwptCqBFXobWOp+3pYqcElglRay5niBbO+GyJr0z5xb4mGdST/nHE2XS2FF2gZWjsI+JqaAgRVT5WNcuMaVO93ZSa7ZrtmL1jWwQgSvYTVrCg+XUDNghWtBZ6YfKyqvMuVOB0eVQR7KrKuEuqt97wbRPS0E3FUuGuzZ6n1rKWBgJeoDL6J0MTmRVJdoDQrAa2TQzbapO/9Z8zta+9IanB/PGVlz98irGbDuIcd/pdCUByis+uCz7nSn848KTJGBOFCKBd3tfgQs2b7KXfqxsjhuTQUMrKBe6JAAiitffM5OeYIku33VwvvIu8U1FZR3l9ruAUt36ftZwm5N49YJG1gfqxevQd7Dql7VtiXyqhagMWpamALUNn5PPz2Ww9bBCpQqYGCVKrbQ8Vq8Hull1RQfsOJZAVrfMFqj5OOea2BdvO6v8uYDAAVYAZbXri7e6Caab2BNFL9V1rxxlGnZqDePltrNfVeGValqPj6mgIEVU+WCcSzC6/XDK3kwrFXhVfEY0ai1tgtWn03OVMDAyhTqKocBKzyaVQJ/OLGSPavoYjvOKWBgndPNZ1kBKzBBAQNrgujO0gpYgXMKGFjndPNZVsAKTFDAwJogurO0AlbgnAIG1jndfJYVsAITFDCwJojuLK2AFTingIF1TjefZQWswAQFDKwJojtLK2AFzilgYH3UjTcMhH8goTc3rPqKGV6Fw0v0sBlb9cYEfu+9LeFcM1n3LL1QUOXf26ZeOrhu6WzZVoGHB1b4sj5eMcN/7AEpGrdA0AoAdKYWr1vWq5tJj3dUYS+f8H1VK/1pxrbRtfwdarEHK/YBeYdrK/DwwJJXRWffBiBAQwdcLRo7abUAlmyOvSgvhFYLm7earPYbDaif1J+E6FXXsfpdrSy251iBhwYWjVyjcqpz62++WkwnWgKLTkpn3AZBlrz4fvcAsPZgJA8sBbS763O38j00sML1j1TFqsG38IxaAStlK/GPBqw9LeRdtai7vXy8b5wCDw0swQiQpELOMalzt/EjgMUaHPnwSXmNW7vu+lt19wie5l3rcFuudE/dHnnwW41DnaV0e5B8l90spsvO2PSKTMNy1RpBXr1He61v7U2TYuUIPTNpUrJdDQryrvgzEYf7KPDQwMIDUacETNtAo9caFsfVBtLoCSx5V9icAnCqDHcDlgaaVld4U7o5fqwC9b1wrL3PuQkyZ7ZbMKlhkxa3AtBx+fCdhW1GaPbxPSfIwzljWw3MWFTGRj6rLzCP0Ih6y62znHr1MWso8PDAohoYhUNPisYOsPDAuDcL+OTCZERn3DYdvCl10NVhhe29NdJUfzs4bXXz7+spcElgjZRZIGtxI2YJ+HLLqGnrFTyr3DLVHievuHRaXJuvz++vgIG1o3G4xtXCc2kNLMPq/ytP3lXpRYf/T8kxKyrQDFjhWtCZ9ZsVxVGZcqeDR2VoDSw6JWm2uEJ3l0V3eVePfkvHUVu86n4DK1FzeC+tF7FbAks3vabuwGftrWQN5w7AkndF2R3uqUAzYN1JHk21AAydoFVoBSy8B2Ca6piCTwmwWpVxZjryrlp4nDPL4bzTChhYgTaAAEDR8Pm0bvitgKWpIOntfR4JWPKuuEjicF8FDKyPdYu3Iq+lpVcVNp1WwNqDVLivVznCMq3yXbdKPFKZV9F+pB0G1ki1nZcVsAJVChhYVfL5ZCtgBUYqYGCNVNt5WQErUKWAgVUln0+2AlZgpAIG1ki1nZcVsAJVChhYVfL5ZCtgBUYqYGCNVNt5WQErUKWAgVUln0+2AlZgpAIG1ki1nZcVsAJVChhYVfL5ZCtgBUYqYGCNVNt5WQErUKWAgVUln0+2AlZgpAIG1ki1nZcVsAJVChhYVfL5ZCtgBUYqYGCNVNt5WQErUKWAgVUln0+2AlZgpAIG1ki1nZcVsAJVChhYVfL5ZCtgBUYqYGCNVNt5WQErUKWAgVUln0+2AlZgpAIG1ki1nZcVsAJVChhYVfL5ZCtgBUYqYGCNVNt5WQErUKXA/wCdQ/Q+Am0sZgAAAABJRU5ErkJggg==)"
      ]
    },
    {
      "cell_type": "code",
      "metadata": {
        "colab": {
          "base_uri": "https://localhost:8080/"
        },
        "id": "LIVjYT_m02A6",
        "outputId": "dbe9455a-983b-436b-ed6e-286c3d3ca0ac"
      },
      "source": [
        "import tensorflow as tf\n",
        "print(f\"TensorFlow Version: {tf.__version__}\")\n",
        "\n",
        "import numpy as np\n",
        "numpy_matrix1 = np.array(\n",
        "    [\n",
        "        (3.0 ,2.0),\n",
        "        (-1.0,-3.0),\n",
        "    ],\n",
        "    dtype=float\n",
        ")\n",
        "tensor_matrix1 = tf.constant(numpy_matrix1)\n",
        "\n",
        "######（det）2.x計算矩陣行列式######\n",
        "print(tf.linalg.det(tensor_matrix1))\n",
        "######（det）2.x計算矩陣行列式######\n"
      ],
      "execution_count": null,
      "outputs": [
        {
          "output_type": "stream",
          "text": [
            "TensorFlow Version: 2.5.0\n",
            "tf.Tensor(-7.000000000000001, shape=(), dtype=float64)\n"
          ],
          "name": "stdout"
        }
      ]
    },
    {
      "cell_type": "markdown",
      "metadata": {
        "id": "KF0X16Hf1AJD"
      },
      "source": [
        "##（matmul）2.x計算矩陣乘法"
      ]
    },
    {
      "cell_type": "markdown",
      "metadata": {
        "id": "RfZGCFXynRoa"
      },
      "source": [
        "![image.png](data:image/png;base64,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)"
      ]
    },
    {
      "cell_type": "code",
      "metadata": {
        "colab": {
          "base_uri": "https://localhost:8080/"
        },
        "id": "9WlXPywM1BaK",
        "outputId": "4d28ca54-61f3-4a17-d4ae-1aeea540efff"
      },
      "source": [
        "import tensorflow as tf\n",
        "print(f\"TensorFlow Version: {tf.__version__}\")\n",
        "\n",
        "matrix1 = tf.constant(\n",
        "    [\n",
        "     [3., 3.]\n",
        "    ]\n",
        ")\n",
        "matrix2 = tf.constant(\n",
        "    [\n",
        "     [2.],\n",
        "     [2.]\n",
        "    ]\n",
        ")\n",
        "\n",
        "######（matmul）2.x計算矩陣乘法######\n",
        "product = tf.matmul(matrix1, matrix2)\n",
        "print(f'product={product}')\n",
        "print(f'float(product)={float(product)}')\n",
        "######（matmul）2.x計算矩陣乘法######\n"
      ],
      "execution_count": null,
      "outputs": [
        {
          "output_type": "stream",
          "text": [
            "TensorFlow Version: 2.5.0\n",
            "product=[[12.]]\n",
            "float(product)=12.0\n"
          ],
          "name": "stdout"
        }
      ]
    },
    {
      "cell_type": "markdown",
      "metadata": {
        "id": "tGXtLHNN1Jpi"
      },
      "source": [
        "##（assign）2.x重設變數值"
      ]
    },
    {
      "cell_type": "code",
      "metadata": {
        "colab": {
          "base_uri": "https://localhost:8080/"
        },
        "id": "X3I9TCMP1K4K",
        "outputId": "b3a3489a-48a7-44e2-d9b5-c14675efbfab"
      },
      "source": [
        "import tensorflow as tf\n",
        "print(f\"TensorFlow Version: {tf.__version__}\")\n",
        "\n",
        "x = tf.Variable(\n",
        "    [1.0, 2.0]\n",
        ")\n",
        "print(f'before: x={x}')\n",
        "#可轉成numpy格式\n",
        "print(f'before: x.numpy()={x.numpy()}')\n",
        "\n",
        "######（assign）2.x重設變數值######\n",
        "x.assign(\n",
        "    [4.0, 6.0]\n",
        ")\n",
        "######（assign）2.x重設變數值######\n",
        "\n",
        "print(f'after: x={x}')\n",
        "#可轉成numpy格式\n",
        "print(f'after: x.numpy()={x.numpy()}')\n"
      ],
      "execution_count": null,
      "outputs": [
        {
          "output_type": "stream",
          "text": [
            "TensorFlow Version: 2.5.0\n",
            "before: x=<tf.Variable 'Variable:0' shape=(2,) dtype=float32, numpy=array([1., 2.], dtype=float32)>\n",
            "before: x.numpy()=[1. 2.]\n",
            "after: x=<tf.Variable 'Variable:0' shape=(2,) dtype=float32, numpy=array([4., 6.], dtype=float32)>\n",
            "after: x.numpy()=[4. 6.]\n"
          ],
          "name": "stdout"
        }
      ]
    },
    {
      "cell_type": "markdown",
      "metadata": {
        "id": "r7a-h9RW1mfp"
      },
      "source": [
        "##（subtract）2.x向量相減"
      ]
    },
    {
      "cell_type": "code",
      "metadata": {
        "colab": {
          "base_uri": "https://localhost:8080/"
        },
        "id": "9rpozs6U1o0R",
        "outputId": "b7a7b995-f07d-411e-d02d-1be5bf00e4ee"
      },
      "source": [
        "import tensorflow as tf\n",
        "print(f\"TensorFlow Version: {tf.__version__}\")\n",
        "\n",
        "#建立變數\n",
        "x = tf.Variable(\n",
        "    [1.0, 2.0]\n",
        ")\n",
        "\n",
        "#建立變數2\n",
        "x2 = tf.Variable(\n",
        "    [1.0, 2.0]\n",
        ")\n",
        "\n",
        "#建立常數\n",
        "a = tf.constant(\n",
        "    [3.0, 3.0]\n",
        ")\n",
        "\n",
        "######（subtract）2.x向量相減######\n",
        "#變數-常數後仍是Tensor\n",
        "sub = tf.subtract(x, a)\n",
        "print(f'變數-常數：sub={sub}')\n",
        "print(f'變數-常數：type(sub)={type(sub)}')\n",
        "\n",
        "#可轉成numpy格式\n",
        "print(f'變數-常數：sub.numpy()={sub.numpy()}')\n",
        "print('---------------------------------------')\n",
        "#變數-變數後仍是Tensor#\n",
        "sub = tf.subtract(x, x2)\n",
        "print(f'變數-變數：sub={sub}')\n",
        "print(f'變數-變數：type(sub)={type(sub)}')\n",
        "\n",
        "#可轉成numpy格式\n",
        "print(f'變數-變數：sub.numpy()={sub.numpy()}')\n",
        "######（subtract）2.x向量相減######\n"
      ],
      "execution_count": null,
      "outputs": [
        {
          "output_type": "stream",
          "text": [
            "TensorFlow Version: 2.5.0\n",
            "變數-常數：sub=[-2. -1.]\n",
            "變數-常數：type(sub)=<class 'tensorflow.python.framework.ops.EagerTensor'>\n",
            "變數-常數：sub.numpy()=[-2. -1.]\n",
            "---------------------------------------\n",
            "變數-變數：sub=[0. 0.]\n",
            "變數-變數：type(sub)=<class 'tensorflow.python.framework.ops.EagerTensor'>\n",
            "變數-變數：sub.numpy()=[0. 0.]\n"
          ],
          "name": "stdout"
        }
      ]
    }
  ]
}
