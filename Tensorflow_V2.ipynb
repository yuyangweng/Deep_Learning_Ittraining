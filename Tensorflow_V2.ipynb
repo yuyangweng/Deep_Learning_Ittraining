{
  "nbformat": 4,
  "nbformat_minor": 5,
  "metadata": {
    "kernelspec": {
      "display_name": "Python 3.8 (tensorflow)",
      "language": "python",
      "name": "tensorflow"
    },
    "language_info": {
      "codemirror_mode": {
        "name": "ipython",
        "version": 3
      },
      "file_extension": ".py",
      "mimetype": "text/x-python",
      "name": "python",
      "nbconvert_exporter": "python",
      "pygments_lexer": "ipython3",
      "version": "3.8.5"
    },
    "colab": {
      "name": "Tensorflow V2.ipynb",
      "provenance": [],
      "include_colab_link": true
    }
  },
  "cells": [
    {
      "cell_type": "markdown",
      "metadata": {
        "id": "view-in-github",
        "colab_type": "text"
      },
      "source": [
        "<a href=\"https://colab.research.google.com/github/yuyangweng/Tensorflow-Ittraining/blob/main/Tensorflow_V2.ipynb\" target=\"_parent\"><img src=\"https://colab.research.google.com/assets/colab-badge.svg\" alt=\"Open In Colab\"/></a>"
      ]
    },
    {
      "cell_type": "markdown",
      "metadata": {
        "id": "generous-bones"
      },
      "source": [
        "# Code"
      ],
      "id": "generous-bones"
    },
    {
      "cell_type": "markdown",
      "metadata": {
        "id": "secure-alias"
      },
      "source": [
        "## ND Array與Channel"
      ],
      "id": "secure-alias"
    },
    {
      "cell_type": "code",
      "metadata": {
        "scrolled": true,
        "id": "beneficial-healing",
        "outputId": "131a1ca9-a14a-4e7d-d8ca-4314ccf1df4f"
      },
      "source": [
        "import numpy as np\n",
        "print(f\"Numpy Version={np.__version__}\")\n",
        "\n",
        "x = np.array(\n",
        "    [\n",
        "     [1, 2, 3], \n",
        "     [4, 5, 6],\n",
        "    ],\n",
        "    np.int32,\n",
        ")\n",
        "\n",
        "print(f'x={x}')\n",
        "#往下為x（列）\n",
        "#此例為第1列第0行 = 4\n",
        "print(f'x[1,0]={x[1,0]}')\n",
        "\n",
        "#往右為y（行）\n",
        "#此例為第0列第1行 = 2\n",
        "print(f'x[0,1]={x[0,1]}')\n"
      ],
      "id": "beneficial-healing",
      "execution_count": null,
      "outputs": [
        {
          "output_type": "stream",
          "text": [
            "Numpy Version=1.19.2\n",
            "x=[[1 2 3]\n",
            " [4 5 6]]\n",
            "x[1,0]=4\n",
            "x[0,1]=2\n"
          ],
          "name": "stdout"
        }
      ]
    },
    {
      "cell_type": "markdown",
      "metadata": {
        "id": "unusual-document"
      },
      "source": [
        "## 單張灰階圖"
      ],
      "id": "unusual-document"
    },
    {
      "cell_type": "code",
      "metadata": {
        "scrolled": false,
        "id": "large-premiere",
        "outputId": "150aa928-f0d0-45be-f866-15a3f70f451c"
      },
      "source": [
        "import tensorflow as tf\n",
        "print(f\"Tensorflow Version={tf.__version__}\")\n",
        "\n",
        "#舊版2.4.3的寫法：from keras import datasets\n",
        "#現在2.5.0若仍執行則會出錯：AttributeError: module 'keras.datasets' has no attribute 'mnist'\n",
        "import tensorflow.keras\n",
        "print(f\"tensorflow.keras Version={tensorflow.keras.__version__}\")\n",
        "\n",
        "#載入Dataset\n",
        "from tensorflow.keras import datasets\n",
        "\n",
        "#X_train為training dataset的圖\n",
        "#y_train為training dataset的圖的label（答案）\n",
        "#X_test為testing dataset的圖\n",
        "#y_test為testing dataset的圖的label（答案）\n",
        "(X_train, y_train), (X_test, y_test) = datasets.mnist.load_data()\n",
        "\n",
        "#查看第0張圖的維度\n",
        "print(f'X_train[0].shape={X_train[0].shape}')\n",
        "\n",
        "#秀出第0張圖\n",
        "import matplotlib.pyplot as plt\n",
        "#cmap（color map）只會更改顯示方式，不會更改圖片內容\n",
        "#如：gray表示黑底白字，而非白底黑字\n",
        "plt.imshow(X_train[0],cmap = plt.get_cmap('gray'))\n"
      ],
      "id": "large-premiere",
      "execution_count": null,
      "outputs": [
        {
          "output_type": "stream",
          "text": [
            "Tensorflow Version=2.4.0\n",
            "tensorflow.keras Version=2.4.0\n",
            "Downloading data from https://storage.googleapis.com/tensorflow/tf-keras-datasets/mnist.npz\n",
            "11493376/11490434 [==============================] - 4s 0us/step\n",
            "X_train[0].shape=(28, 28)\n"
          ],
          "name": "stdout"
        },
        {
          "output_type": "execute_result",
          "data": {
            "text/plain": [
              "<matplotlib.image.AxesImage at 0x7fc5e83bb670>"
            ]
          },
          "metadata": {
            "tags": []
          },
          "execution_count": 2
        },
        {
          "output_type": "display_data",
          "data": {
            "image/png": "[encoded data removed]",
            "text/plain": [
              "<Figure size 432x288 with 1 Axes>"
            ]
          },
          "metadata": {
            "tags": [],
            "needs_background": "light"
          }
        }
      ]
    },
    {
      "cell_type": "code",
      "metadata": {
        "scrolled": true,
        "id": "experimental-warrior",
        "outputId": "7136d045-fa99-42a6-c122-a819e1b2f9eb"
      },
      "source": [
        "import tensorflow as tf\n",
        "import matplotlib.pyplot as plt\n",
        "from tensorflow.keras import datasets\n",
        "print(f\"Tensorflow Version: {tf.__version__}\")\n",
        "(X_train, y_train),(X_test, y_test)=datasets.mnist.load_data()\n",
        "print(f\"X_train[0].shape={X_train[0].shape}\")\n",
        "plt.imshow(X_train[0],cmap=plt.get_cmap('gray'))\n"
      ],
      "id": "experimental-warrior",
      "execution_count": null,
      "outputs": [
        {
          "output_type": "stream",
          "text": [
            "Tensorflow Version: 2.4.0\n",
            "X_train[0].shape=(28, 28)\n"
          ],
          "name": "stdout"
        },
        {
          "output_type": "execute_result",
          "data": {
            "text/plain": [
              "<matplotlib.image.AxesImage at 0x7fc5cdc083d0>"
            ]
          },
          "metadata": {
            "tags": []
          },
          "execution_count": 10
        },
        {
          "output_type": "display_data",
          "data": {
            "image/png": "[encoded data removed]",
            "text/plain": [
              "<Figure size 432x288 with 1 Axes>"
            ]
          },
          "metadata": {
            "tags": [],
            "needs_background": "light"
          }
        }
      ]
    },
    {
      "cell_type": "markdown",
      "metadata": {
        "id": "entertaining-aircraft"
      },
      "source": [
        "## 包含channel資訊的灰階影像大小為(列數,欄數)"
      ],
      "id": "entertaining-aircraft"
    },
    {
      "cell_type": "code",
      "metadata": {
        "scrolled": true,
        "id": "intellectual-access",
        "outputId": "02d911fe-cb6b-4006-cb49-35a1583afcbc"
      },
      "source": [
        "import tensorflow as tf\n",
        "print(f\"Tensorflow Version={tf.__version__}\")\n",
        "\n",
        "#舊版2.4.3的寫法：from keras import datasets\n",
        "#現在2.5.0若仍執行則會出錯：AttributeError: module 'keras.datasets' has no attribute 'mnist'\n",
        "import tensorflow.keras\n",
        "print(f\"tensorflow.keras Version={tensorflow.keras.__version__}\")\n",
        "\n",
        "#載入Dataset\n",
        "from tensorflow.keras import datasets\n",
        "\n",
        "#X_train為training dataset的圖\n",
        "#y_train為training dataset的圖的label（答案）\n",
        "#X_test為testing dataset的圖\n",
        "#y_test為testing dataset的圖的label（答案）\n",
        "(X_train, y_train), (X_test, y_test) = datasets.mnist.load_data()\n",
        "\n",
        "#查看第0張圖的維度\n",
        "print(f'X_train[0].shape={X_train[0].shape}')\n",
        "\n",
        "#秀出第0張圖\n",
        "import matplotlib.pyplot as plt\n",
        "#cmap（color map）只會更改顯示方式，不會更改圖片內容\n",
        "#如：gray表示黑底白字，而非白底黑字\n",
        "plt.imshow(X_train[0],cmap = plt.get_cmap('gray'))\n"
      ],
      "id": "intellectual-access",
      "execution_count": null,
      "outputs": [
        {
          "output_type": "stream",
          "text": [
            "Tensorflow Version=2.4.0\n",
            "tensorflow.keras Version=2.4.0\n",
            "X_train[0].shape=(28, 28)\n"
          ],
          "name": "stdout"
        },
        {
          "output_type": "execute_result",
          "data": {
            "text/plain": [
              "<matplotlib.image.AxesImage at 0x7fc5cd38aee0>"
            ]
          },
          "metadata": {
            "tags": []
          },
          "execution_count": 11
        },
        {
          "output_type": "display_data",
          "data": {
            "image/png": "[encoded data removed]",
            "text/plain": [
              "<Figure size 432x288 with 1 Axes>"
            ]
          },
          "metadata": {
            "tags": [],
            "needs_background": "light"
          }
        }
      ]
    },
    {
      "cell_type": "markdown",
      "metadata": {
        "id": "binary-quarterly"
      },
      "source": [
        "## 用白底黑字顯示剛剛的數字5"
      ],
      "id": "binary-quarterly"
    },
    {
      "cell_type": "code",
      "metadata": {
        "id": "moving-serum",
        "outputId": "7d0bc948-3cee-479a-e846-9731dffbc31e"
      },
      "source": [
        "import tensorflow as tf\n",
        "print(f\"Tensorflow Version={tf.__version__}\")\n",
        "\n",
        "import tensorflow.keras\n",
        "print(f\"tensorflow.keras Version={tensorflow.keras.__version__}\")\n",
        "\n",
        "#載入Dataset\n",
        "from tensorflow.keras import datasets\n",
        "(X_train, y_train), (X_test, y_test) = datasets.mnist.load_data()\n",
        "\n",
        "#秀出第0張圖\n",
        "import matplotlib.pyplot as plt\n",
        "\n",
        "######用白底黑字顯示剛剛的數字5######\n",
        "#cmap（color map）只會更改顯示方式，不會更改圖片內容\n",
        "#如：binary表示白底黑字，而非黑底白字\n",
        "#plt.imshow(X_train[0],cmap = plt.get_cmap('gray'))\n",
        "plt.imshow(X_train[0],cmap = plt.get_cmap('binary'))\n",
        "######用白底黑字顯示剛剛的數字5######"
      ],
      "id": "moving-serum",
      "execution_count": null,
      "outputs": [
        {
          "output_type": "stream",
          "text": [
            "Tensorflow Version=2.4.0\n",
            "tensorflow.keras Version=2.4.0\n"
          ],
          "name": "stdout"
        },
        {
          "output_type": "execute_result",
          "data": {
            "text/plain": [
              "<matplotlib.image.AxesImage at 0x7fc5cd3e93a0>"
            ]
          },
          "metadata": {
            "tags": []
          },
          "execution_count": 12
        },
        {
          "output_type": "display_data",
          "data": {
            "image/png": "[encoded data removed]",
            "text/plain": [
              "<Figure size 432x288 with 1 Axes>"
            ]
          },
          "metadata": {
            "tags": [],
            "needs_background": "light"
          }
        }
      ]
    },
    {
      "cell_type": "markdown",
      "metadata": {
        "id": "decent-sussex"
      },
      "source": [
        "# 單張彩色圖"
      ],
      "id": "decent-sussex"
    },
    {
      "cell_type": "markdown",
      "metadata": {
        "id": "bibliographic-vulnerability"
      },
      "source": [
        "## 包含channel資訊的Cifar10彩色影像大小為(列數,欄數,3)"
      ],
      "id": "bibliographic-vulnerability"
    },
    {
      "cell_type": "code",
      "metadata": {
        "id": "moral-history",
        "outputId": "35f9f3a0-d9e1-4b4b-bcca-4eed51de178b"
      },
      "source": [
        "import tensorflow as tf\n",
        "print(f\"Tensorflow Version={tf.__version__}\")\n",
        "\n",
        "import tensorflow.keras\n",
        "print(f\"tensorflow.keras Version={tensorflow.keras.__version__}\")\n",
        "\n",
        "#載入Dataset\n",
        "from tensorflow.keras import datasets\n",
        "\n",
        "######包含channel資訊的Cifar10彩色影像大小為(列數,欄數,3)######\n",
        "(X_train, y_train), (X_test, y_test) = datasets.cifar10.load_data()\n",
        "\n",
        "#查看第0張圖的維度\n",
        "print(f'X_train[0].shape={X_train[0].shape}')\n",
        "######包含channel資訊的Cifar10彩色影像大小為(列數,欄數,3)######\n",
        "\n",
        "#秀出第0張圖\n",
        "import matplotlib.pyplot as plt\n",
        "#顯示彩色圖無須設定任何color map\n",
        "plt.imshow(X_train[0])"
      ],
      "id": "moral-history",
      "execution_count": null,
      "outputs": [
        {
          "output_type": "stream",
          "text": [
            "Tensorflow Version=2.4.0\n",
            "tensorflow.keras Version=2.4.0\n",
            "Downloading data from https://www.cs.toronto.edu/~kriz/cifar-10-python.tar.gz\n",
            " 71213056/170498071 [===========>..................] - ETA: 12:57"
          ],
          "name": "stdout"
        }
      ]
    },
    {
      "cell_type": "code",
      "metadata": {
        "id": "tracked-hayes"
      },
      "source": [
        ""
      ],
      "id": "tracked-hayes",
      "execution_count": null,
      "outputs": []
    }
  ]
}