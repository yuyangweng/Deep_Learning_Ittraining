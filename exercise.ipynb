{
  "nbformat": 4,
  "nbformat_minor": 0,
  "metadata": {
    "colab": {
      "name": "exercise.ipynb",
      "provenance": [],
      "authorship_tag": "ABX9TyOoI7qZOf6i/P47tOzmSDS+",
      "include_colab_link": true
    },
    "kernelspec": {
      "name": "python3",
      "display_name": "Python 3"
    },
    "language_info": {
      "name": "python"
    },
    "accelerator": "GPU"
  },
  "cells": [
    {
      "cell_type": "markdown",
      "metadata": {
        "id": "view-in-github",
        "colab_type": "text"
      },
      "source": [
        "<a href=\"https://colab.research.google.com/github/yuyangweng/Deep_Learning_Ittraining/blob/main/exercise.ipynb\" target=\"_parent\"><img src=\"https://colab.research.google.com/assets/colab-badge.svg\" alt=\"Open In Colab\"/></a>"
      ]
    },
    {
      "cell_type": "code",
      "metadata": {
        "id": "fNbFxdEvTIoh"
      },
      "source": [
        "import tensorflow as tf\n",
        "import tensorflow.keras \n",
        "from tensorflow.keras import datasets\n",
        "from class_network import Network\n",
        "from class_network import loss_and_accuracy\n",
        "from class_network import data_processing"
      ],
      "execution_count": 1,
      "outputs": []
    },
    {
      "cell_type": "code",
      "metadata": {
        "colab": {
          "base_uri": "https://localhost:8080/"
        },
        "id": "1SmO7KEQTjNl",
        "outputId": "d8eb2dc5-6a6b-42eb-c6d3-33187cfaf706"
      },
      "source": [
        "(X_train,y_train),(X_test,y_test)=datasets.cifar10.load_data()\n",
        "X_train,y_train,X_test,y_test= data_processing(X_train,y_train,X_test,y_test)\n",
        "model=Network()\n",
        "Loss,Accuracy =loss_and_accuracy(model,X_train,y_train,X_test,y_test)\n",
        "print(Loss,Accuracy)"
      ],
      "execution_count": 2,
      "outputs": [
        {
          "output_type": "stream",
          "text": [
            "Downloading data from https://www.cs.toronto.edu/~kriz/cifar-10-python.tar.gz\n",
            "170500096/170498071 [==============================] - 2s 0us/step\n",
            "1563/1563 [==============================] - 36s 3ms/step - loss: 1.3539 - accuracy: 0.5165\n",
            "Model: \"model\"\n",
            "_________________________________________________________________\n",
            "Layer (type)                 Output Shape              Param #   \n",
            "=================================================================\n",
            "input_1 (InputLayer)         [(None, 32, 32, 3)]       0         \n",
            "_________________________________________________________________\n",
            "conv2d (Conv2D)              (None, 30, 30, 36)        1008      \n",
            "_________________________________________________________________\n",
            "max_pooling2d (MaxPooling2D) (None, 15, 15, 36)        0         \n",
            "_________________________________________________________________\n",
            "batch_normalization (BatchNo (None, 15, 15, 36)        144       \n",
            "_________________________________________________________________\n",
            "flatten (Flatten)            (None, 8100)              0         \n",
            "_________________________________________________________________\n",
            "dense (Dense)                (None, 256)               2073856   \n",
            "_________________________________________________________________\n",
            "dense_1 (Dense)              (None, 256)               65792     \n",
            "_________________________________________________________________\n",
            "dense_2 (Dense)              (None, 10)                2570      \n",
            "=================================================================\n",
            "Total params: 2,143,370\n",
            "Trainable params: 2,143,298\n",
            "Non-trainable params: 72\n",
            "_________________________________________________________________\n",
            "313/313 [==============================] - 1s 3ms/step - loss: 1.1364 - accuracy: 0.5889\n",
            "1.1364017724990845 0.5889000296592712\n"
          ],
          "name": "stdout"
        }
      ]
    },
    {
      "cell_type": "code",
      "metadata": {
        "id": "SB7zYmGxTlRx"
      },
      "source": [
        ""
      ],
      "execution_count": null,
      "outputs": []
    }
  ]
}